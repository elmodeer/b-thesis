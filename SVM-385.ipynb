{
 "cells": [
  {
   "cell_type": "code",
   "execution_count": 1,
   "metadata": {},
   "outputs": [],
   "source": [
    "from sklearn import svm\n",
    "from sklearn.metrics import confusion_matrix \n",
    "from sklearn.model_selection import train_test_split "
   ]
  },
  {
   "cell_type": "code",
   "execution_count": 20,
   "metadata": {},
   "outputs": [],
   "source": [
    "import pandas as pd\n",
    "output_path = '/Users/Hesham/dev/fluffDecoder/data/'\n",
    "p = pd.read_csv(output_path + 'ST-1441993385_2.0.csv')"
   ]
  },
  {
   "cell_type": "code",
   "execution_count": 21,
   "metadata": {},
   "outputs": [],
   "source": [
    "p = p.drop(['date', 'window'], axis=1).astype(float)\n"
   ]
  },
  {
   "cell_type": "code",
   "execution_count": 22,
   "metadata": {},
   "outputs": [
    {
     "data": {
      "text/html": [
       "<div>\n",
       "<style scoped>\n",
       "    .dataframe tbody tr th:only-of-type {\n",
       "        vertical-align: middle;\n",
       "    }\n",
       "\n",
       "    .dataframe tbody tr th {\n",
       "        vertical-align: top;\n",
       "    }\n",
       "\n",
       "    .dataframe thead th {\n",
       "        text-align: right;\n",
       "    }\n",
       "</style>\n",
       "<table border=\"1\" class=\"dataframe\">\n",
       "  <thead>\n",
       "    <tr style=\"text-align: right;\">\n",
       "      <th></th>\n",
       "      <th>time</th>\n",
       "      <th>accX</th>\n",
       "      <th>accX_std</th>\n",
       "      <th>accY</th>\n",
       "      <th>accY_std</th>\n",
       "      <th>accZ</th>\n",
       "      <th>accZ_std</th>\n",
       "      <th>gyrX</th>\n",
       "      <th>gyrX_std</th>\n",
       "      <th>gyrY</th>\n",
       "      <th>...</th>\n",
       "      <th>tense</th>\n",
       "      <th>tired</th>\n",
       "      <th>rumination</th>\n",
       "      <th>socialize</th>\n",
       "      <th>socialize_val</th>\n",
       "      <th>sport_time</th>\n",
       "      <th>work_time</th>\n",
       "      <th>day_sleep</th>\n",
       "      <th>phq_1</th>\n",
       "      <th>phq_2</th>\n",
       "    </tr>\n",
       "  </thead>\n",
       "  <tbody>\n",
       "    <tr>\n",
       "      <td>0</td>\n",
       "      <td>1.539780e+09</td>\n",
       "      <td>0.59</td>\n",
       "      <td>4.31</td>\n",
       "      <td>4.59</td>\n",
       "      <td>2.94</td>\n",
       "      <td>6.66</td>\n",
       "      <td>2.94</td>\n",
       "      <td>2.98</td>\n",
       "      <td>82.91</td>\n",
       "      <td>1.87</td>\n",
       "      <td>...</td>\n",
       "      <td>7.0</td>\n",
       "      <td>5.0</td>\n",
       "      <td>5.0</td>\n",
       "      <td>62.0</td>\n",
       "      <td>65.0</td>\n",
       "      <td>0.0</td>\n",
       "      <td>0.0</td>\n",
       "      <td>0.0</td>\n",
       "      <td>4.0</td>\n",
       "      <td>3.0</td>\n",
       "    </tr>\n",
       "    <tr>\n",
       "      <td>1</td>\n",
       "      <td>1.539780e+09</td>\n",
       "      <td>-0.35</td>\n",
       "      <td>5.35</td>\n",
       "      <td>0.30</td>\n",
       "      <td>1.40</td>\n",
       "      <td>7.61</td>\n",
       "      <td>1.40</td>\n",
       "      <td>0.58</td>\n",
       "      <td>46.14</td>\n",
       "      <td>0.06</td>\n",
       "      <td>...</td>\n",
       "      <td>7.0</td>\n",
       "      <td>5.0</td>\n",
       "      <td>5.0</td>\n",
       "      <td>62.0</td>\n",
       "      <td>65.0</td>\n",
       "      <td>0.0</td>\n",
       "      <td>0.0</td>\n",
       "      <td>0.0</td>\n",
       "      <td>4.0</td>\n",
       "      <td>3.0</td>\n",
       "    </tr>\n",
       "    <tr>\n",
       "      <td>2</td>\n",
       "      <td>1.539781e+09</td>\n",
       "      <td>-1.83</td>\n",
       "      <td>2.06</td>\n",
       "      <td>6.34</td>\n",
       "      <td>1.77</td>\n",
       "      <td>6.55</td>\n",
       "      <td>1.77</td>\n",
       "      <td>0.60</td>\n",
       "      <td>25.90</td>\n",
       "      <td>0.90</td>\n",
       "      <td>...</td>\n",
       "      <td>7.0</td>\n",
       "      <td>5.0</td>\n",
       "      <td>5.0</td>\n",
       "      <td>62.0</td>\n",
       "      <td>65.0</td>\n",
       "      <td>0.0</td>\n",
       "      <td>0.0</td>\n",
       "      <td>0.0</td>\n",
       "      <td>4.0</td>\n",
       "      <td>3.0</td>\n",
       "    </tr>\n",
       "    <tr>\n",
       "      <td>3</td>\n",
       "      <td>1.539781e+09</td>\n",
       "      <td>-1.31</td>\n",
       "      <td>1.41</td>\n",
       "      <td>5.96</td>\n",
       "      <td>1.63</td>\n",
       "      <td>7.31</td>\n",
       "      <td>1.63</td>\n",
       "      <td>-0.84</td>\n",
       "      <td>28.71</td>\n",
       "      <td>-0.46</td>\n",
       "      <td>...</td>\n",
       "      <td>7.0</td>\n",
       "      <td>5.0</td>\n",
       "      <td>5.0</td>\n",
       "      <td>62.0</td>\n",
       "      <td>65.0</td>\n",
       "      <td>0.0</td>\n",
       "      <td>0.0</td>\n",
       "      <td>0.0</td>\n",
       "      <td>4.0</td>\n",
       "      <td>3.0</td>\n",
       "    </tr>\n",
       "    <tr>\n",
       "      <td>4</td>\n",
       "      <td>1.539781e+09</td>\n",
       "      <td>-1.63</td>\n",
       "      <td>1.24</td>\n",
       "      <td>6.45</td>\n",
       "      <td>1.45</td>\n",
       "      <td>6.76</td>\n",
       "      <td>1.45</td>\n",
       "      <td>-0.47</td>\n",
       "      <td>31.63</td>\n",
       "      <td>-0.36</td>\n",
       "      <td>...</td>\n",
       "      <td>7.0</td>\n",
       "      <td>5.0</td>\n",
       "      <td>5.0</td>\n",
       "      <td>62.0</td>\n",
       "      <td>65.0</td>\n",
       "      <td>0.0</td>\n",
       "      <td>0.0</td>\n",
       "      <td>0.0</td>\n",
       "      <td>4.0</td>\n",
       "      <td>3.0</td>\n",
       "    </tr>\n",
       "  </tbody>\n",
       "</table>\n",
       "<p>5 rows × 37 columns</p>\n",
       "</div>"
      ],
      "text/plain": [
       "           time  accX  accX_std  accY  accY_std  accZ  accZ_std  gyrX  \\\n",
       "0  1.539780e+09  0.59      4.31  4.59      2.94  6.66      2.94  2.98   \n",
       "1  1.539780e+09 -0.35      5.35  0.30      1.40  7.61      1.40  0.58   \n",
       "2  1.539781e+09 -1.83      2.06  6.34      1.77  6.55      1.77  0.60   \n",
       "3  1.539781e+09 -1.31      1.41  5.96      1.63  7.31      1.63 -0.84   \n",
       "4  1.539781e+09 -1.63      1.24  6.45      1.45  6.76      1.45 -0.47   \n",
       "\n",
       "   gyrX_std  gyrY  ...  tense  tired  rumination  socialize  socialize_val  \\\n",
       "0     82.91  1.87  ...    7.0    5.0         5.0       62.0           65.0   \n",
       "1     46.14  0.06  ...    7.0    5.0         5.0       62.0           65.0   \n",
       "2     25.90  0.90  ...    7.0    5.0         5.0       62.0           65.0   \n",
       "3     28.71 -0.46  ...    7.0    5.0         5.0       62.0           65.0   \n",
       "4     31.63 -0.36  ...    7.0    5.0         5.0       62.0           65.0   \n",
       "\n",
       "   sport_time  work_time  day_sleep  phq_1  phq_2  \n",
       "0         0.0        0.0        0.0    4.0    3.0  \n",
       "1         0.0        0.0        0.0    4.0    3.0  \n",
       "2         0.0        0.0        0.0    4.0    3.0  \n",
       "3         0.0        0.0        0.0    4.0    3.0  \n",
       "4         0.0        0.0        0.0    4.0    3.0  \n",
       "\n",
       "[5 rows x 37 columns]"
      ]
     },
     "execution_count": 22,
     "metadata": {},
     "output_type": "execute_result"
    }
   ],
   "source": [
    "p.head()"
   ]
  },
  {
   "cell_type": "code",
   "execution_count": 23,
   "metadata": {},
   "outputs": [],
   "source": [
    "y = p[['phq_1']]\n",
    "t1, t2 = train_test_split(p, stratify=y, test_size=0.5, random_state=42, shuffle=True)"
   ]
  },
  {
   "cell_type": "code",
   "execution_count": 24,
   "metadata": {},
   "outputs": [
    {
     "data": {
      "text/plain": [
       "95227"
      ]
     },
     "execution_count": 24,
     "metadata": {},
     "output_type": "execute_result"
    }
   ],
   "source": [
    "len(t1.index)"
   ]
  },
  {
   "cell_type": "code",
   "execution_count": 7,
   "metadata": {},
   "outputs": [],
   "source": [
    "# train_set, test_set = train_test_split(p, test_size=0.25, random_state=42, shuffle=True)"
   ]
  },
  {
   "cell_type": "code",
   "execution_count": 25,
   "metadata": {},
   "outputs": [],
   "source": [
    "y = p[['phq_1']]\n",
    "train_set_st, test_set_st = train_test_split(p, stratify=y, test_size=0.25, random_state=42, shuffle=True)"
   ]
  },
  {
   "cell_type": "code",
   "execution_count": 26,
   "metadata": {},
   "outputs": [
    {
     "data": {
      "text/html": [
       "<div>\n",
       "<style scoped>\n",
       "    .dataframe tbody tr th:only-of-type {\n",
       "        vertical-align: middle;\n",
       "    }\n",
       "\n",
       "    .dataframe tbody tr th {\n",
       "        vertical-align: top;\n",
       "    }\n",
       "\n",
       "    .dataframe thead th {\n",
       "        text-align: right;\n",
       "    }\n",
       "</style>\n",
       "<table border=\"1\" class=\"dataframe\">\n",
       "  <thead>\n",
       "    <tr style=\"text-align: right;\">\n",
       "      <th></th>\n",
       "      <th>time</th>\n",
       "      <th>accX</th>\n",
       "      <th>accX_std</th>\n",
       "      <th>accY</th>\n",
       "      <th>accY_std</th>\n",
       "      <th>accZ</th>\n",
       "      <th>accZ_std</th>\n",
       "      <th>gyrX</th>\n",
       "      <th>gyrX_std</th>\n",
       "      <th>gyrY</th>\n",
       "      <th>...</th>\n",
       "      <th>tense</th>\n",
       "      <th>tired</th>\n",
       "      <th>rumination</th>\n",
       "      <th>socialize</th>\n",
       "      <th>socialize_val</th>\n",
       "      <th>sport_time</th>\n",
       "      <th>work_time</th>\n",
       "      <th>day_sleep</th>\n",
       "      <th>phq_1</th>\n",
       "      <th>phq_2</th>\n",
       "    </tr>\n",
       "  </thead>\n",
       "  <tbody>\n",
       "    <tr>\n",
       "      <td>180235</td>\n",
       "      <td>1.564664e+09</td>\n",
       "      <td>-4.04</td>\n",
       "      <td>4.70</td>\n",
       "      <td>-5.93</td>\n",
       "      <td>3.81</td>\n",
       "      <td>0.57</td>\n",
       "      <td>3.81</td>\n",
       "      <td>0.72</td>\n",
       "      <td>135.63</td>\n",
       "      <td>5.36</td>\n",
       "      <td>...</td>\n",
       "      <td>9.0</td>\n",
       "      <td>9.0</td>\n",
       "      <td>10.0</td>\n",
       "      <td>11.0</td>\n",
       "      <td>91.0</td>\n",
       "      <td>0.0</td>\n",
       "      <td>0.0</td>\n",
       "      <td>150.0</td>\n",
       "      <td>3.0</td>\n",
       "      <td>2.0</td>\n",
       "    </tr>\n",
       "    <tr>\n",
       "      <td>180088</td>\n",
       "      <td>1.564653e+09</td>\n",
       "      <td>-0.14</td>\n",
       "      <td>0.08</td>\n",
       "      <td>-3.65</td>\n",
       "      <td>0.29</td>\n",
       "      <td>8.97</td>\n",
       "      <td>0.29</td>\n",
       "      <td>-0.44</td>\n",
       "      <td>3.41</td>\n",
       "      <td>-0.42</td>\n",
       "      <td>...</td>\n",
       "      <td>9.0</td>\n",
       "      <td>9.0</td>\n",
       "      <td>10.0</td>\n",
       "      <td>11.0</td>\n",
       "      <td>91.0</td>\n",
       "      <td>0.0</td>\n",
       "      <td>0.0</td>\n",
       "      <td>150.0</td>\n",
       "      <td>3.0</td>\n",
       "      <td>2.0</td>\n",
       "    </tr>\n",
       "    <tr>\n",
       "      <td>45404</td>\n",
       "      <td>1.545342e+09</td>\n",
       "      <td>6.48</td>\n",
       "      <td>4.74</td>\n",
       "      <td>4.74</td>\n",
       "      <td>2.77</td>\n",
       "      <td>-1.67</td>\n",
       "      <td>2.77</td>\n",
       "      <td>-1.04</td>\n",
       "      <td>62.10</td>\n",
       "      <td>0.35</td>\n",
       "      <td>...</td>\n",
       "      <td>7.0</td>\n",
       "      <td>8.0</td>\n",
       "      <td>8.0</td>\n",
       "      <td>26.0</td>\n",
       "      <td>86.0</td>\n",
       "      <td>0.0</td>\n",
       "      <td>0.0</td>\n",
       "      <td>115.0</td>\n",
       "      <td>3.0</td>\n",
       "      <td>5.0</td>\n",
       "    </tr>\n",
       "    <tr>\n",
       "      <td>44022</td>\n",
       "      <td>1.545115e+09</td>\n",
       "      <td>7.39</td>\n",
       "      <td>2.91</td>\n",
       "      <td>4.06</td>\n",
       "      <td>2.45</td>\n",
       "      <td>-2.63</td>\n",
       "      <td>2.45</td>\n",
       "      <td>-1.24</td>\n",
       "      <td>27.66</td>\n",
       "      <td>0.08</td>\n",
       "      <td>...</td>\n",
       "      <td>4.0</td>\n",
       "      <td>7.0</td>\n",
       "      <td>10.0</td>\n",
       "      <td>6.0</td>\n",
       "      <td>49.0</td>\n",
       "      <td>0.0</td>\n",
       "      <td>115.0</td>\n",
       "      <td>245.0</td>\n",
       "      <td>10.0</td>\n",
       "      <td>7.0</td>\n",
       "    </tr>\n",
       "    <tr>\n",
       "      <td>166038</td>\n",
       "      <td>1.562643e+09</td>\n",
       "      <td>-0.20</td>\n",
       "      <td>0.22</td>\n",
       "      <td>-2.96</td>\n",
       "      <td>0.25</td>\n",
       "      <td>9.21</td>\n",
       "      <td>0.25</td>\n",
       "      <td>-0.44</td>\n",
       "      <td>3.42</td>\n",
       "      <td>-0.36</td>\n",
       "      <td>...</td>\n",
       "      <td>7.0</td>\n",
       "      <td>8.0</td>\n",
       "      <td>10.0</td>\n",
       "      <td>30.0</td>\n",
       "      <td>73.0</td>\n",
       "      <td>0.0</td>\n",
       "      <td>0.0</td>\n",
       "      <td>145.0</td>\n",
       "      <td>3.0</td>\n",
       "      <td>3.0</td>\n",
       "    </tr>\n",
       "  </tbody>\n",
       "</table>\n",
       "<p>5 rows × 37 columns</p>\n",
       "</div>"
      ],
      "text/plain": [
       "                time  accX  accX_std  accY  accY_std  accZ  accZ_std  gyrX  \\\n",
       "180235  1.564664e+09 -4.04      4.70 -5.93      3.81  0.57      3.81  0.72   \n",
       "180088  1.564653e+09 -0.14      0.08 -3.65      0.29  8.97      0.29 -0.44   \n",
       "45404   1.545342e+09  6.48      4.74  4.74      2.77 -1.67      2.77 -1.04   \n",
       "44022   1.545115e+09  7.39      2.91  4.06      2.45 -2.63      2.45 -1.24   \n",
       "166038  1.562643e+09 -0.20      0.22 -2.96      0.25  9.21      0.25 -0.44   \n",
       "\n",
       "        gyrX_std  gyrY  ...  tense  tired  rumination  socialize  \\\n",
       "180235    135.63  5.36  ...    9.0    9.0        10.0       11.0   \n",
       "180088      3.41 -0.42  ...    9.0    9.0        10.0       11.0   \n",
       "45404      62.10  0.35  ...    7.0    8.0         8.0       26.0   \n",
       "44022      27.66  0.08  ...    4.0    7.0        10.0        6.0   \n",
       "166038      3.42 -0.36  ...    7.0    8.0        10.0       30.0   \n",
       "\n",
       "        socialize_val  sport_time  work_time  day_sleep  phq_1  phq_2  \n",
       "180235           91.0         0.0        0.0      150.0    3.0    2.0  \n",
       "180088           91.0         0.0        0.0      150.0    3.0    2.0  \n",
       "45404            86.0         0.0        0.0      115.0    3.0    5.0  \n",
       "44022            49.0         0.0      115.0      245.0   10.0    7.0  \n",
       "166038           73.0         0.0        0.0      145.0    3.0    3.0  \n",
       "\n",
       "[5 rows x 37 columns]"
      ]
     },
     "execution_count": 26,
     "metadata": {},
     "output_type": "execute_result"
    }
   ],
   "source": [
    "train_set_st.head()"
   ]
  },
  {
   "cell_type": "code",
   "execution_count": 27,
   "metadata": {},
   "outputs": [],
   "source": [
    "X_train_st = train_set_st.loc[:,'accX':'work_time']\n",
    "y_train_st_1 = train_set_st.loc[:, ['phq_1']].values.ravel()\n",
    "# y_train_st_2 = train_set_st.loc[:, ['phq_2']].values.ravel()\n",
    "\n",
    "X_test_st = test_set_st.loc[:,'accX':'work_time']\n",
    "y_test_st_1 = test_set_st[['phq_1']].values.ravel()\n",
    "# y_test_st_2 = test_set_st[['phq_2']].values.ravel()"
   ]
  },
  {
   "cell_type": "code",
   "execution_count": 66,
   "metadata": {},
   "outputs": [
    {
     "data": {
      "text/plain": [
       "Index(['accX', 'accX_std', 'accY', 'accY_std', 'accZ', 'accZ_std', 'gyrX',\n",
       "       'gyrX_std', 'gyrY', 'gyrY_std', 'gyrZ', 'gyrZ_std', 'heartR',\n",
       "       'heartR_std', 'SmoothedAirPressure', 'SAP_std',\n",
       "       'UncalibratedBarometerAltitude', 'UBA_std', 'AirTemperature', 'AT_std',\n",
       "       'AirPressure', 'AP_std', 'PlethysmogramGreen', 'ple_std', 'alc', 'mood',\n",
       "       'tense', 'tired', 'rumination', 'socialize', 'socialize_val',\n",
       "       'sport_time', 'work_time'],\n",
       "      dtype='object')"
      ]
     },
     "execution_count": 66,
     "metadata": {},
     "output_type": "execute_result"
    }
   ],
   "source": [
    "X_train_st.columns"
   ]
  },
  {
   "cell_type": "code",
   "execution_count": 28,
   "metadata": {},
   "outputs": [],
   "source": [
    "time_st = train_set_st[['time']].values.ravel()\n",
    "time_st_test = test_set_st[['time']].values.ravel()"
   ]
  },
  {
   "cell_type": "code",
   "execution_count": 29,
   "metadata": {},
   "outputs": [],
   "source": [
    "# Scaling the Train and Test feature set \n",
    "from sklearn.preprocessing import StandardScaler\n",
    "scaler_st = StandardScaler()\n",
    "X_train_st_scaled = scaler_st.fit_transform(X_train_st)\n",
    "X_test_st_scaled = scaler_st.transform(X_test_st)"
   ]
  },
  {
   "cell_type": "code",
   "execution_count": 13,
   "metadata": {},
   "outputs": [],
   "source": [
    "parameters = {'epsilon':[0,0.1,0.2,0.5,1],\n",
    "               'tol':[1e-1, 1e-3,1e-5],\n",
    "              'C':[1, 1.5, 10, 50]\n",
    "              }"
   ]
  },
  {
   "cell_type": "code",
   "execution_count": 14,
   "metadata": {},
   "outputs": [
    {
     "data": {
      "text/plain": [
       "GridSearchCV(cv=3, error_score='raise-deprecating',\n",
       "       estimator=LinearSVR(C=1.0, dual=True, epsilon=0.0, fit_intercept=True,\n",
       "     intercept_scaling=1.0, loss='epsilon_insensitive', max_iter=1000,\n",
       "     random_state=42, tol=0.0001, verbose=0),\n",
       "       fit_params=None, iid='warn', n_jobs=-1,\n",
       "       param_grid={'epsilon': [0, 0.1, 0.2, 0.5, 1], 'tol': [0.1, 0.001, 1e-05], 'C': [1, 1.5, 10, 50]},\n",
       "       pre_dispatch='2*n_jobs', refit=True, return_train_score='warn',\n",
       "       scoring='neg_mean_absolute_error', verbose=0)"
      ]
     },
     "execution_count": 14,
     "metadata": {},
     "output_type": "execute_result"
    }
   ],
   "source": [
    "from sklearn.model_selection import GridSearchCV\n",
    "from sklearn.svm import LinearSVR\n",
    "\n",
    "svr = LinearSVR(random_state=42)\n",
    "regressor_st = GridSearchCV(svr, parameters, n_jobs=-1, cv=3, scoring='neg_mean_absolute_error')\n",
    "regressor_st"
   ]
  },
  {
   "cell_type": "code",
   "execution_count": 15,
   "metadata": {},
   "outputs": [
    {
     "name": "stderr",
     "output_type": "stream",
     "text": [
      "/Users/Hesham/opt/anaconda3/envs/tf2/lib/python3.7/site-packages/sklearn/svm/base.py:931: ConvergenceWarning: Liblinear failed to converge, increase the number of iterations.\n",
      "  \"the number of iterations.\", ConvergenceWarning)\n"
     ]
    },
    {
     "data": {
      "text/plain": [
       "GridSearchCV(cv=3, error_score='raise-deprecating',\n",
       "       estimator=LinearSVR(C=1.0, dual=True, epsilon=0.0, fit_intercept=True,\n",
       "     intercept_scaling=1.0, loss='epsilon_insensitive', max_iter=1000,\n",
       "     random_state=42, tol=0.0001, verbose=0),\n",
       "       fit_params=None, iid='warn', n_jobs=-1,\n",
       "       param_grid={'epsilon': [0, 0.1, 0.2, 0.5, 1], 'tol': [0.1, 0.001, 1e-05], 'C': [1, 1.5, 10, 50]},\n",
       "       pre_dispatch='2*n_jobs', refit=True, return_train_score='warn',\n",
       "       scoring='neg_mean_absolute_error', verbose=0)"
      ]
     },
     "execution_count": 15,
     "metadata": {},
     "output_type": "execute_result"
    }
   ],
   "source": [
    "regressor_st.fit(X_train_st_scaled, y_train_st_1)"
   ]
  },
  {
   "cell_type": "code",
   "execution_count": 16,
   "metadata": {},
   "outputs": [
    {
     "data": {
      "text/plain": [
       "{'C': 1, 'epsilon': 0, 'tol': 1e-05}"
      ]
     },
     "execution_count": 16,
     "metadata": {},
     "output_type": "execute_result"
    }
   ],
   "source": [
    "regressor_st.best_params_"
   ]
  },
  {
   "cell_type": "code",
   "execution_count": 54,
   "metadata": {},
   "outputs": [
    {
     "data": {
      "text/plain": [
       "LinearSVR(C=1, dual=True, epsilon=0, fit_intercept=True,\n",
       "     intercept_scaling=1.0, loss='epsilon_insensitive', max_iter=1000,\n",
       "     random_state=42, tol=1e-05, verbose=0)"
      ]
     },
     "execution_count": 54,
     "metadata": {},
     "output_type": "execute_result"
    }
   ],
   "source": [
    "regressor_st.best_estimator_"
   ]
  },
  {
   "cell_type": "code",
   "execution_count": 55,
   "metadata": {},
   "outputs": [
    {
     "data": {
      "text/plain": [
       "1.458909078376748"
      ]
     },
     "execution_count": 55,
     "metadata": {},
     "output_type": "execute_result"
    }
   ],
   "source": [
    "from sklearn.metrics import mean_absolute_error\n",
    "\n",
    "pred_test_st = regressor_st.predict(X_test_st_scaled)\n",
    "svr_mae = mean_absolute_error(y_test_st_1,pred_test_st)\n",
    "svr_mae"
   ]
  },
  {
   "cell_type": "code",
   "execution_count": 56,
   "metadata": {},
   "outputs": [
    {
     "data": {
      "text/plain": [
       "1.4548321796269987"
      ]
     },
     "execution_count": 56,
     "metadata": {},
     "output_type": "execute_result"
    }
   ],
   "source": [
    "pred_train_st = regressor_st.predict(X_train_st_scaled)\n",
    "svr_mae = mean_absolute_error(y_train_st_1, pred_train_st)\n",
    "svr_mae"
   ]
  },
  {
   "cell_type": "code",
   "execution_count": 57,
   "metadata": {},
   "outputs": [],
   "source": [
    "model = regressor_st.best_estimator_"
   ]
  },
  {
   "cell_type": "code",
   "execution_count": 58,
   "metadata": {},
   "outputs": [
    {
     "data": {
      "text/plain": [
       "array([-0.02994216, -0.04851479,  0.05615922, -0.03521657, -0.0510719 ,\n",
       "       -0.03521657, -0.00817472, -0.08657047, -0.00673003,  0.12002916,\n",
       "       -0.01032613, -0.07384537,  0.01106679, -0.00185805, -0.20971938,\n",
       "       -0.16652378,  0.00563048,  0.02495537, -0.19041893,  0.01398528,\n",
       "        0.06366407,  0.14676864,  0.19866283,  0.11182247, -0.04038841,\n",
       "       -0.29410554, -0.79827954,  0.07785083, -0.25178552, -0.39288586,\n",
       "       -0.34067911, -0.13609081, -0.12560415])"
      ]
     },
     "execution_count": 58,
     "metadata": {},
     "output_type": "execute_result"
    }
   ],
   "source": [
    "model.coef_"
   ]
  },
  {
   "cell_type": "code",
   "execution_count": 59,
   "metadata": {},
   "outputs": [
    {
     "name": "stdout",
     "output_type": "stream",
     "text": [
      "1 -1.533438281151974 {'C': 1, 'epsilon': 0, 'tol': 0.1}\n",
      "2 -1.4552332698180137 {'C': 1, 'epsilon': 0, 'tol': 0.001}\n",
      "3 -1.4549676982155173 {'C': 1, 'epsilon': 0, 'tol': 1e-05}\n",
      "4 -1.4933147472131925 {'C': 1, 'epsilon': 0.1, 'tol': 0.1}\n",
      "5 -1.4551358938551495 {'C': 1, 'epsilon': 0.1, 'tol': 0.001}\n",
      "6 -1.4549326247353178 {'C': 1, 'epsilon': 0.1, 'tol': 1e-05}\n",
      "7 -1.4816617741884055 {'C': 1, 'epsilon': 0.2, 'tol': 0.1}\n",
      "8 -1.4554304415731754 {'C': 1, 'epsilon': 0.2, 'tol': 0.001}\n",
      "9 -1.4554353917121297 {'C': 1, 'epsilon': 0.2, 'tol': 1e-05}\n",
      "10 -1.48846698180052 {'C': 1, 'epsilon': 0.5, 'tol': 0.1}\n",
      "11 -1.4595883313874474 {'C': 1, 'epsilon': 0.5, 'tol': 0.001}\n",
      "12 -1.4593298933895424 {'C': 1, 'epsilon': 0.5, 'tol': 1e-05}\n",
      "13 -1.4918163709573689 {'C': 1, 'epsilon': 1, 'tol': 0.1}\n",
      "14 -1.4768895675698106 {'C': 1, 'epsilon': 1, 'tol': 0.001}\n",
      "15 -1.4768951907974597 {'C': 1, 'epsilon': 1, 'tol': 1e-05}\n",
      "16 -1.5091474154327085 {'C': 1.5, 'epsilon': 0, 'tol': 0.1}\n",
      "17 -1.4554481055361113 {'C': 1.5, 'epsilon': 0, 'tol': 0.001}\n",
      "18 -1.4553117271348952 {'C': 1.5, 'epsilon': 0, 'tol': 1e-05}\n",
      "19 -1.4904575036858028 {'C': 1.5, 'epsilon': 0.1, 'tol': 0.1}\n",
      "20 -1.4548641131671358 {'C': 1.5, 'epsilon': 0.1, 'tol': 0.001}\n",
      "21 -1.4549905162900008 {'C': 1.5, 'epsilon': 0.1, 'tol': 1e-05}\n",
      "22 -1.522063847506776 {'C': 1.5, 'epsilon': 0.2, 'tol': 0.1}\n",
      "23 -1.4553740334017178 {'C': 1.5, 'epsilon': 0.2, 'tol': 0.001}\n",
      "24 -1.4555028890600668 {'C': 1.5, 'epsilon': 0.2, 'tol': 1e-05}\n",
      "25 -1.4870159695453167 {'C': 1.5, 'epsilon': 0.5, 'tol': 0.1}\n",
      "26 -1.4596294672976142 {'C': 1.5, 'epsilon': 0.5, 'tol': 0.001}\n",
      "27 -1.4596294672976142 {'C': 1.5, 'epsilon': 0.5, 'tol': 1e-05}\n",
      "28 -1.4960651376304501 {'C': 1.5, 'epsilon': 1, 'tol': 0.1}\n",
      "29 -1.4773061051154428 {'C': 1.5, 'epsilon': 1, 'tol': 0.001}\n",
      "30 -1.4773061051154428 {'C': 1.5, 'epsilon': 1, 'tol': 1e-05}\n",
      "31 -1.5102698878895815 {'C': 10, 'epsilon': 0, 'tol': 0.1}\n",
      "32 -1.4675386982420677 {'C': 10, 'epsilon': 0, 'tol': 0.001}\n",
      "33 -1.4675386982420677 {'C': 10, 'epsilon': 0, 'tol': 1e-05}\n",
      "34 -1.5193011048981477 {'C': 10, 'epsilon': 0.1, 'tol': 0.1}\n",
      "35 -1.465286176674396 {'C': 10, 'epsilon': 0.1, 'tol': 0.001}\n",
      "36 -1.465286176674396 {'C': 10, 'epsilon': 0.1, 'tol': 1e-05}\n",
      "37 -1.504614698532339 {'C': 10, 'epsilon': 0.2, 'tol': 0.1}\n",
      "38 -1.462645360600263 {'C': 10, 'epsilon': 0.2, 'tol': 0.001}\n",
      "39 -1.462645360600263 {'C': 10, 'epsilon': 0.2, 'tol': 1e-05}\n",
      "40 -1.4975967643217933 {'C': 10, 'epsilon': 0.5, 'tol': 0.1}\n",
      "41 -1.4667078958562598 {'C': 10, 'epsilon': 0.5, 'tol': 0.001}\n",
      "42 -1.4667078958562598 {'C': 10, 'epsilon': 0.5, 'tol': 1e-05}\n",
      "43 -1.4973169017146546 {'C': 10, 'epsilon': 1, 'tol': 0.1}\n",
      "44 -1.484294268994862 {'C': 10, 'epsilon': 1, 'tol': 0.001}\n",
      "45 -1.484294268994862 {'C': 10, 'epsilon': 1, 'tol': 1e-05}\n",
      "46 -1.6214882123268612 {'C': 50, 'epsilon': 0, 'tol': 0.1}\n",
      "47 -1.6214882123268612 {'C': 50, 'epsilon': 0, 'tol': 0.001}\n",
      "48 -1.6214882123268612 {'C': 50, 'epsilon': 0, 'tol': 1e-05}\n",
      "49 -1.5796870667710967 {'C': 50, 'epsilon': 0.1, 'tol': 0.1}\n",
      "50 -1.5796870667710967 {'C': 50, 'epsilon': 0.1, 'tol': 0.001}\n",
      "51 -1.5796870667710967 {'C': 50, 'epsilon': 0.1, 'tol': 1e-05}\n",
      "52 -1.6306371596782265 {'C': 50, 'epsilon': 0.2, 'tol': 0.1}\n",
      "53 -1.6306371596782265 {'C': 50, 'epsilon': 0.2, 'tol': 0.001}\n",
      "54 -1.6306371596782265 {'C': 50, 'epsilon': 0.2, 'tol': 1e-05}\n",
      "55 -1.5475039014098535 {'C': 50, 'epsilon': 0.5, 'tol': 0.1}\n",
      "56 -1.5475039014098535 {'C': 50, 'epsilon': 0.5, 'tol': 0.001}\n",
      "57 -1.5475039014098535 {'C': 50, 'epsilon': 0.5, 'tol': 1e-05}\n",
      "58 -1.538273473306585 {'C': 50, 'epsilon': 1, 'tol': 0.1}\n",
      "59 -1.538273473306585 {'C': 50, 'epsilon': 1, 'tol': 0.001}\n",
      "60 -1.538273473306585 {'C': 50, 'epsilon': 1, 'tol': 1e-05}\n"
     ]
    },
    {
     "name": "stderr",
     "output_type": "stream",
     "text": [
      "/Users/Hesham/opt/anaconda3/envs/tf2/lib/python3.7/site-packages/sklearn/utils/deprecation.py:125: FutureWarning: You are accessing a training score ('mean_train_score'), which will not be available by default any more in 0.21. If you need training scores, please set return_train_score=True\n",
      "  warnings.warn(*warn_args, **warn_kwargs)\n"
     ]
    }
   ],
   "source": [
    "cvrs = regressor_st.cv_results_\n",
    "index = 1\n",
    "for mean_score, params in zip(cvrs['mean_train_score'], cvrs['params']):\n",
    "    print(index, mean_score, params)\n",
    "    index = index + 1"
   ]
  },
  {
   "cell_type": "code",
   "execution_count": null,
   "metadata": {},
   "outputs": [],
   "source": []
  },
  {
   "cell_type": "code",
   "execution_count": 60,
   "metadata": {},
   "outputs": [
    {
     "name": "stderr",
     "output_type": "stream",
     "text": [
      "/Users/Hesham/opt/anaconda3/envs/tf2/lib/python3.7/site-packages/sklearn/svm/base.py:931: ConvergenceWarning: Liblinear failed to converge, increase the number of iterations.\n",
      "  \"the number of iterations.\", ConvergenceWarning)\n"
     ]
    },
    {
     "data": {
      "text/plain": [
       "LinearSVR(C=1.0, dual=True, epsilon=0.0, fit_intercept=True,\n",
       "     intercept_scaling=1.0, loss='epsilon_insensitive', max_iter=1000,\n",
       "     random_state=42, tol=1e-05, verbose=0)"
      ]
     },
     "execution_count": 60,
     "metadata": {},
     "output_type": "execute_result"
    }
   ],
   "source": [
    "svr = LinearSVR(random_state=42, tol=1e-05)\n",
    "svr.fit(X_train_st_scaled, y_train_st_1)"
   ]
  },
  {
   "cell_type": "code",
   "execution_count": 61,
   "metadata": {},
   "outputs": [
    {
     "data": {
      "text/plain": [
       "1.4592235375908527"
      ]
     },
     "execution_count": 61,
     "metadata": {},
     "output_type": "execute_result"
    }
   ],
   "source": [
    "pred_test_st = svr.predict(X_test_st_scaled)\n",
    "svr_mae = mean_absolute_error(y_test_st_1,pred_test_st)\n",
    "svr_mae"
   ]
  },
  {
   "cell_type": "code",
   "execution_count": 62,
   "metadata": {},
   "outputs": [
    {
     "data": {
      "text/plain": [
       "1.4546039691393202"
      ]
     },
     "execution_count": 62,
     "metadata": {},
     "output_type": "execute_result"
    }
   ],
   "source": [
    "pred_train_st = svr.predict(X_train_st_scaled)\n",
    "svr_mae = mean_absolute_error(y_train_st_1, pred_train_st)\n",
    "svr_mae"
   ]
  },
  {
   "cell_type": "code",
   "execution_count": 65,
   "metadata": {},
   "outputs": [
    {
     "data": {
      "text/plain": [
       "array([-3.37888575e-02, -6.25345109e-02,  6.48127895e-02, -2.75426218e-02,\n",
       "       -5.18775470e-02, -2.75426218e-02, -2.61660666e-03, -6.67189495e-02,\n",
       "       -1.29340087e-02,  1.03811585e-01, -2.68441116e-04, -5.18383809e-02,\n",
       "        9.73356052e-04,  8.20536690e-04, -2.43820795e-01, -2.31232898e-01,\n",
       "        9.25157406e-03, -3.50686277e-02, -1.92823983e-01,  2.16335450e-02,\n",
       "        1.14101722e-01,  1.98194635e-01,  1.92537381e-01,  1.10279837e-01,\n",
       "       -3.74692209e-02, -3.01450845e-01, -7.86294563e-01,  9.05977133e-02,\n",
       "       -2.51510844e-01, -3.94589889e-01, -3.37102708e-01, -1.16002469e-01,\n",
       "       -1.23048437e-01])"
      ]
     },
     "execution_count": 65,
     "metadata": {},
     "output_type": "execute_result"
    }
   ],
   "source": [
    "svr.coef_"
   ]
  },
  {
   "cell_type": "code",
   "execution_count": 33,
   "metadata": {},
   "outputs": [],
   "source": [
    "temp = p.columns[1:-2]"
   ]
  },
  {
   "cell_type": "code",
   "execution_count": 34,
   "metadata": {},
   "outputs": [
    {
     "name": "stdout",
     "output_type": "stream",
     "text": [
      "-0.033788857473189486 accX\n",
      "-0.0625345108935913 accX_std\n",
      "0.06481278953932978 accY\n",
      "-0.027542621787915212 accY_std\n",
      "-0.05187754704767008 accZ\n",
      "-0.027542621787915212 accZ_std\n",
      "-0.0026166066635441134 gyrX\n",
      "-0.06671894947868018 gyrX_std\n",
      "-0.012934008734194442 gyrY\n",
      "0.10381158537879841 gyrY_std\n",
      "-0.0002684411161617496 gyrZ\n",
      "-0.05183838085208994 gyrZ_std\n",
      "0.0009733560520158886 heartR\n",
      "0.0008205366896678904 heartR_std\n",
      "-0.24382079519864125 SmoothedAirPressure\n",
      "-0.23123289758833804 SAP_std\n",
      "0.009251574061051591 UncalibratedBarometerAltitude\n",
      "-0.035068627663879824 UBA_std\n",
      "-0.1928239826949571 AirTemperature\n",
      "0.0216335449546085 AT_std\n",
      "0.11410172158133758 AirPressure\n",
      "0.1981946347907339 AP_std\n",
      "0.1925373810006361 PlethysmogramGreen\n",
      "0.11027983740016348 ple_std\n",
      "-0.037469220904547094 alc\n",
      "-0.3014508450231857 mood\n",
      "-0.7862945628390143 tense\n",
      "0.09059771331565039 tired\n",
      "-0.2515108441691244 rumination\n",
      "-0.3945898885717886 socialize\n",
      "-0.33710270764745626 socialize_val\n",
      "-0.11600246858017145 sport_time\n",
      "-0.12304843731864701 work_time\n"
     ]
    }
   ],
   "source": [
    "coef = svr.coef_\n",
    "for c, col in zip(coef, temp):\n",
    "    print(c, col)"
   ]
  },
  {
   "cell_type": "code",
   "execution_count": null,
   "metadata": {},
   "outputs": [],
   "source": []
  },
  {
   "cell_type": "code",
   "execution_count": null,
   "metadata": {},
   "outputs": [],
   "source": []
  },
  {
   "cell_type": "code",
   "execution_count": 35,
   "metadata": {},
   "outputs": [],
   "source": [
    "patient = train_set_st.copy()"
   ]
  },
  {
   "cell_type": "code",
   "execution_count": 36,
   "metadata": {},
   "outputs": [
    {
     "data": {
      "text/plain": [
       "Index(['time', 'accX', 'accX_std', 'accY', 'accY_std', 'accZ', 'accZ_std',\n",
       "       'gyrX', 'gyrX_std', 'gyrY', 'gyrY_std', 'gyrZ', 'gyrZ_std', 'heartR',\n",
       "       'heartR_std', 'SmoothedAirPressure', 'SAP_std',\n",
       "       'UncalibratedBarometerAltitude', 'UBA_std', 'AirTemperature', 'AT_std',\n",
       "       'AirPressure', 'AP_std', 'PlethysmogramGreen', 'ple_std', 'alc', 'mood',\n",
       "       'tense', 'tired', 'rumination', 'socialize', 'socialize_val',\n",
       "       'sport_time', 'work_time', 'day_sleep', 'phq_1', 'phq_2'],\n",
       "      dtype='object')"
      ]
     },
     "execution_count": 36,
     "metadata": {},
     "output_type": "execute_result"
    }
   ],
   "source": [
    "patient.columns"
   ]
  },
  {
   "cell_type": "code",
   "execution_count": 37,
   "metadata": {},
   "outputs": [
    {
     "data": {
      "text/plain": [
       "<matplotlib.axes._subplots.AxesSubplot at 0x120093a58>"
      ]
     },
     "execution_count": 37,
     "metadata": {},
     "output_type": "execute_result"
    }
   ],
   "source": [
    "patient.plot(kind='scatter', x='phq_1', y='mood', figsize=(10,7))"
   ]
  },
  {
   "cell_type": "code",
   "execution_count": 38,
   "metadata": {},
   "outputs": [
    {
     "data": {
      "text/plain": [
       "<matplotlib.axes._subplots.AxesSubplot at 0x1207cbd68>"
      ]
     },
     "execution_count": 38,
     "metadata": {},
     "output_type": "execute_result"
    },
    {
     "data": {
      "image/png": "[encoded data removed]",
      "text/plain": [
       "<Figure size 720x504 with 2 Axes>"
      ]
     },
     "metadata": {
      "needs_background": "light"
     },
     "output_type": "display_data"
    }
   ],
   "source": [
    "from matplotlib import pyplot\n",
    "\n",
    "patient.plot(kind='scatter', x='rumination', y='mood', s=patient['phq_1'], label='depression degree', \n",
    "             c='phq_1', cmap=pyplot.get_cmap('jet'), colorbar=True, figsize=(10,7), sharex=False)"
   ]
  },
  {
   "cell_type": "code",
   "execution_count": 39,
   "metadata": {},
   "outputs": [
    {
     "data": {
      "text/plain": [
       "<matplotlib.axes._subplots.AxesSubplot at 0x1269b24e0>"
      ]
     },
     "execution_count": 39,
     "metadata": {},
     "output_type": "execute_result"
    },
    {
     "data": {
      "image/png": "[encoded data removed]",
      "text/plain": [
       "<Figure size 720x504 with 2 Axes>"
      ]
     },
     "metadata": {
      "needs_background": "light"
     },
     "output_type": "display_data"
    }
   ],
   "source": [
    "patient.plot(kind='scatter', x='rumination', y='mood', s=patient['phq_1'], label='depression degree', \n",
    "             c='phq_1', cmap=pyplot.get_cmap('jet'), colorbar=True, figsize=(10,7), sharex=False)"
   ]
  },
  {
   "cell_type": "code",
   "execution_count": 40,
   "metadata": {},
   "outputs": [],
   "source": [
    "corr_matrix = patient.corr()"
   ]
  },
  {
   "cell_type": "code",
   "execution_count": 41,
   "metadata": {},
   "outputs": [
    {
     "data": {
      "text/plain": [
       "phq_1                            1.000000\n",
       "phq_2                            0.466299\n",
       "day_sleep                        0.221935\n",
       "accY                             0.130106\n",
       "PlethysmogramGreen               0.093193\n",
       "ple_std                          0.034811\n",
       "UncalibratedBarometerAltitude    0.025414\n",
       "heartR_std                       0.020777\n",
       "AT_std                           0.016583\n",
       "heartR                           0.012235\n",
       "gyrZ                             0.003747\n",
       "accX                             0.003227\n",
       "UBA_std                         -0.000251\n",
       "gyrX                            -0.007965\n",
       "gyrY_std                        -0.024567\n",
       "AirPressure                     -0.029718\n",
       "SmoothedAirPressure             -0.029719\n",
       "AP_std                          -0.030285\n",
       "SAP_std                         -0.030555\n",
       "gyrY                            -0.032497\n",
       "gyrX_std                        -0.035271\n",
       "alc                             -0.035529\n",
       "accX_std                        -0.040061\n",
       "gyrZ_std                        -0.040368\n",
       "accZ_std                        -0.041260\n",
       "accY_std                        -0.041260\n",
       "accZ                            -0.070525\n",
       "AirTemperature                  -0.090828\n",
       "work_time                       -0.091404\n",
       "tired                           -0.117786\n",
       "sport_time                      -0.120165\n",
       "rumination                      -0.123063\n",
       "socialize_val                   -0.223658\n",
       "socialize                       -0.261210\n",
       "mood                            -0.345136\n",
       "tense                           -0.369444\n",
       "time                            -0.403900\n",
       "Name: phq_1, dtype: float64"
      ]
     },
     "execution_count": 41,
     "metadata": {},
     "output_type": "execute_result"
    }
   ],
   "source": [
    "corr_matrix['phq_1'].sort_values(ascending=False)"
   ]
  },
  {
   "cell_type": "code",
   "execution_count": null,
   "metadata": {},
   "outputs": [],
   "source": []
  },
  {
   "cell_type": "code",
   "execution_count": null,
   "metadata": {},
   "outputs": [],
   "source": []
  },
  {
   "cell_type": "code",
   "execution_count": 42,
   "metadata": {},
   "outputs": [],
   "source": [
    "socialise_scaled = scaler_st.fit_transform(test_set_st[['socialize']])\n",
    "socialize_val_scaled = scaler_st.fit_transform(test_set_st[['socialize_val']])\n",
    "work_time_scaled = scaler_st.fit_transform(test_set_st[['work_time']])\n",
    "mood_scaled = scaler_st.fit_transform(test_set_st[['mood']])\n",
    "tense_scaled = scaler_st.fit_transform(test_set_st[['tense']])\n",
    "rumination_scaled = scaler_st.fit_transform(test_set_st[['rumination']])"
   ]
  },
  {
   "cell_type": "code",
   "execution_count": 43,
   "metadata": {},
   "outputs": [],
   "source": [
    "time_sorted = time_st_test\n",
    "time_sorted.sort()"
   ]
  },
  {
   "cell_type": "code",
   "execution_count": 67,
   "metadata": {},
   "outputs": [
    {
     "data": {
      "text/plain": [
       "<matplotlib.legend.Legend at 0x12709e908>"
      ]
     },
     "execution_count": 67,
     "metadata": {},
     "output_type": "execute_result"
    },
    {
     "data": {
      "image/png": "[encoded data removed]",
      "text/plain": [
       "<Figure size 1620x450 with 1 Axes>"
      ]
     },
     "metadata": {},
     "output_type": "display_data"
    }
   ],
   "source": [
    "%matplotlib inline\n",
    "s = 1000\n",
    "e = 1100\n",
    "xaxis = time_sorted[s:e]\n",
    "yaxis = y_test_st_1[s:e]\n",
    "yaxis2 = pred_test_st[s:e]\n",
    "yaxis3 = socialise_scaled[s:e]\n",
    "yaxis4 = socialize_val_scaled[s:e]\n",
    "yaxis5 = work_time_scaled[s:e]\n",
    "yaxis6 = mood_scaled[s:e]\n",
    "yaxis7 = tense_scaled[s:e]\n",
    "yaxis8 = rumination_scaled[s:e]\n",
    "# avg = p[['phq_1', 'phq_2']].mean(axis=1)\n",
    "fig=pyplot.figure(figsize=(18, 5), dpi= 90, facecolor='w', edgecolor='k')\n",
    "pyplot.plot(xaxis, yaxis, color='red', label='phq_1')\n",
    "# pyplot.plot(xaxis, yaxis2, color='blue', label='prediction')\n",
    "# pyplot.plot(xaxis, yaxis3, color='green', label='socialize')\n",
    "# pyplot.plot(xaxis, yaxis4, color='cyan', label='socialize_val')\n",
    "# pyplot.plot(xaxis, yaxis5, color='magenta', label='sport_time')\n",
    "pyplot.plot(xaxis, yaxis6, color='black', label='mood')\n",
    "# pyplot.plot(xaxis, yaxis7, color='blue', label='tense')\n",
    "pyplot.plot(xaxis, yaxis8, color='blue', label='rumination')\n",
    "# plt.ylabel('some numbers')\n",
    "pyplot.xlabel('time')\n",
    "\n",
    "pyplot.legend()\n",
    "# pyplot.plot(xaxis, avg, color='green', label='avg')"
   ]
  },
  {
   "cell_type": "code",
   "execution_count": 45,
   "metadata": {},
   "outputs": [
    {
     "data": {
      "text/plain": [
       "<matplotlib.legend.Legend at 0x1239ac908>"
      ]
     },
     "execution_count": 45,
     "metadata": {},
     "output_type": "execute_result"
    },
    {
     "data": {
      "image/png": "[encoded data removed]",
      "text/plain": [
       "<Figure size 1620x450 with 1 Axes>"
      ]
     },
     "metadata": {},
     "output_type": "display_data"
    }
   ],
   "source": [
    "from matplotlib import pyplot\n",
    "%matplotlib inline\n",
    "xaxis = time_st_test[:100]\n",
    "yaxis = y_test_st_1[:100]\n",
    "yaxis2 = pred_test_st[:100]\n",
    "# avg = p[['phq_1', 'phq_2']].mean(axis=1)\n",
    "fig=pyplot.figure(figsize=(18, 5), dpi= 90, facecolor='w', edgecolor='k')\n",
    "pyplot.plot(xaxis, yaxis, color='red', label='phq_1')\n",
    "pyplot.plot(xaxis, yaxis2, color='blue', label='prediction')\n",
    "pyplot.legend()\n",
    "# pyplot.plot(xaxis, avg, color='green', label='avg')"
   ]
  },
  {
   "cell_type": "code",
   "execution_count": null,
   "metadata": {},
   "outputs": [],
   "source": []
  }
 ],
 "metadata": {
  "kernelspec": {
   "display_name": "Python 3",
   "language": "python",
   "name": "python3"
  },
  "language_info": {
   "codemirror_mode": {
    "name": "ipython",
    "version": 3
   },
   "file_extension": ".py",
   "mimetype": "text/x-python",
   "name": "python",
   "nbconvert_exporter": "python",
   "pygments_lexer": "ipython3",
   "version": "3.7.3"
  }
 },
 "nbformat": 4,
 "nbformat_minor": 2
}
