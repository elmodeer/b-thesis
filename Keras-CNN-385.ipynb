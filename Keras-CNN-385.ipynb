{
 "cells": [
  {
   "cell_type": "code",
   "execution_count": 1,
   "metadata": {},
   "outputs": [],
   "source": [
    "import pandas as pd\n",
    "from csvCreator import get_readable_date\n",
    "import numpy as np"
   ]
  },
  {
   "cell_type": "code",
   "execution_count": 2,
   "metadata": {},
   "outputs": [],
   "source": [
    "def to_evenly_spaced(df):\n",
    "    df.drop(['phq_2'], axis=1, inplace=True)\n",
    "    date = df['time'].apply(lambda x: get_readable_date(x))\n",
    "    df.insert(loc=1, column='date', value=date)\n",
    "    median = np.trunc(df.groupby('date').size().median())\n",
    "    df.drop(['date'], axis=1, inplace=True)\n",
    "    day = np.trunc(len(df.index) / median)\n",
    "    new_last_index = int(median * day)\n",
    "\n",
    "    even_time = []\n",
    "    firs_time = df[['time']].iloc[1].values.item()\n",
    "    for i in range(len(df.index)):\n",
    "        even_time.append(firs_time)\n",
    "        firs_time += 60\n",
    "    df.drop(['time'], axis=1, inplace=True)\n",
    "#     df.insert(loc=0, column='time', value=even_time)\n",
    "    df = df.iloc[:new_last_index]\n",
    "    return df, int(median)"
   ]
  },
  {
   "cell_type": "code",
   "execution_count": 3,
   "metadata": {},
   "outputs": [],
   "source": [
    "def generator(data, look_b, delay, min_index, max_index,\n",
    "              shuffle=False, batch_size=128, step=6):\n",
    "    if max_index is None:\n",
    "        max_index = len(data) - delay - 1\n",
    "    i = min_index + look_b\n",
    "    while 1:\n",
    "        if shuffle:\n",
    "            rows = np.random.randint(\n",
    "                min_index + look_b, max_index, size=batch_size)\n",
    "        else:\n",
    "            if i + batch_size >= max_index:\n",
    "                i = min_index + look_b\n",
    "            rows = np.arange(i, min(i + batch_size, max_index))\n",
    "            i += len(rows)\n",
    "\n",
    "        samples = np.zeros((len(rows),\n",
    "                           look_b // step,\n",
    "                           data.shape[-1]))\n",
    "        targets = np.zeros((len(rows),))\n",
    "        for j, row in enumerate(rows):\n",
    "            indices = range(rows[j] - look_b, rows[j], step)\n",
    "            samples[j] = data[indices]\n",
    "            targets[j] = data[rows[j] + delay][-1]\n",
    "        yield samples, targets\n"
   ]
  },
  {
   "cell_type": "code",
   "execution_count": 9,
   "metadata": {},
   "outputs": [],
   "source": [
    "output_path = '/Volumes/hex/ST-1441993385-res/'\n",
    "p = pd.read_csv(output_path + 'ST-1441993385_2.0.csv')\n",
    "\n",
    "# just numerical data\n",
    "p = p.drop(['date', 'window'], axis=1)\n",
    "p, median = to_evenly_spaced(p)"
   ]
  },
  {
   "cell_type": "code",
   "execution_count": 10,
   "metadata": {},
   "outputs": [
    {
     "data": {
      "text/html": [
       "<div>\n",
       "<style scoped>\n",
       "    .dataframe tbody tr th:only-of-type {\n",
       "        vertical-align: middle;\n",
       "    }\n",
       "\n",
       "    .dataframe tbody tr th {\n",
       "        vertical-align: top;\n",
       "    }\n",
       "\n",
       "    .dataframe thead th {\n",
       "        text-align: right;\n",
       "    }\n",
       "</style>\n",
       "<table border=\"1\" class=\"dataframe\">\n",
       "  <thead>\n",
       "    <tr style=\"text-align: right;\">\n",
       "      <th></th>\n",
       "      <th>accX</th>\n",
       "      <th>accX_std</th>\n",
       "      <th>accY</th>\n",
       "      <th>accY_std</th>\n",
       "      <th>accZ</th>\n",
       "      <th>accZ_std</th>\n",
       "      <th>gyrX</th>\n",
       "      <th>gyrX_std</th>\n",
       "      <th>gyrY</th>\n",
       "      <th>gyrY_std</th>\n",
       "      <th>...</th>\n",
       "      <th>mood</th>\n",
       "      <th>tense</th>\n",
       "      <th>tired</th>\n",
       "      <th>rumination</th>\n",
       "      <th>socialize</th>\n",
       "      <th>socialize_val</th>\n",
       "      <th>sport_time</th>\n",
       "      <th>work_time</th>\n",
       "      <th>day_sleep</th>\n",
       "      <th>phq_1</th>\n",
       "    </tr>\n",
       "  </thead>\n",
       "  <tbody>\n",
       "    <tr>\n",
       "      <td>0</td>\n",
       "      <td>0.59</td>\n",
       "      <td>4.31</td>\n",
       "      <td>4.59</td>\n",
       "      <td>2.94</td>\n",
       "      <td>6.66</td>\n",
       "      <td>2.94</td>\n",
       "      <td>2.98</td>\n",
       "      <td>82.91</td>\n",
       "      <td>1.87</td>\n",
       "      <td>44.87</td>\n",
       "      <td>...</td>\n",
       "      <td>7</td>\n",
       "      <td>7</td>\n",
       "      <td>5</td>\n",
       "      <td>5</td>\n",
       "      <td>62</td>\n",
       "      <td>65</td>\n",
       "      <td>0</td>\n",
       "      <td>0</td>\n",
       "      <td>0</td>\n",
       "      <td>4</td>\n",
       "    </tr>\n",
       "    <tr>\n",
       "      <td>1</td>\n",
       "      <td>-0.35</td>\n",
       "      <td>5.35</td>\n",
       "      <td>0.30</td>\n",
       "      <td>1.40</td>\n",
       "      <td>7.61</td>\n",
       "      <td>1.40</td>\n",
       "      <td>0.58</td>\n",
       "      <td>46.14</td>\n",
       "      <td>0.06</td>\n",
       "      <td>116.84</td>\n",
       "      <td>...</td>\n",
       "      <td>7</td>\n",
       "      <td>7</td>\n",
       "      <td>5</td>\n",
       "      <td>5</td>\n",
       "      <td>62</td>\n",
       "      <td>65</td>\n",
       "      <td>0</td>\n",
       "      <td>0</td>\n",
       "      <td>0</td>\n",
       "      <td>4</td>\n",
       "    </tr>\n",
       "    <tr>\n",
       "      <td>2</td>\n",
       "      <td>-1.83</td>\n",
       "      <td>2.06</td>\n",
       "      <td>6.34</td>\n",
       "      <td>1.77</td>\n",
       "      <td>6.55</td>\n",
       "      <td>1.77</td>\n",
       "      <td>0.60</td>\n",
       "      <td>25.90</td>\n",
       "      <td>0.90</td>\n",
       "      <td>30.98</td>\n",
       "      <td>...</td>\n",
       "      <td>7</td>\n",
       "      <td>7</td>\n",
       "      <td>5</td>\n",
       "      <td>5</td>\n",
       "      <td>62</td>\n",
       "      <td>65</td>\n",
       "      <td>0</td>\n",
       "      <td>0</td>\n",
       "      <td>0</td>\n",
       "      <td>4</td>\n",
       "    </tr>\n",
       "    <tr>\n",
       "      <td>3</td>\n",
       "      <td>-1.31</td>\n",
       "      <td>1.41</td>\n",
       "      <td>5.96</td>\n",
       "      <td>1.63</td>\n",
       "      <td>7.31</td>\n",
       "      <td>1.63</td>\n",
       "      <td>-0.84</td>\n",
       "      <td>28.71</td>\n",
       "      <td>-0.46</td>\n",
       "      <td>41.61</td>\n",
       "      <td>...</td>\n",
       "      <td>7</td>\n",
       "      <td>7</td>\n",
       "      <td>5</td>\n",
       "      <td>5</td>\n",
       "      <td>62</td>\n",
       "      <td>65</td>\n",
       "      <td>0</td>\n",
       "      <td>0</td>\n",
       "      <td>0</td>\n",
       "      <td>4</td>\n",
       "    </tr>\n",
       "    <tr>\n",
       "      <td>4</td>\n",
       "      <td>-1.63</td>\n",
       "      <td>1.24</td>\n",
       "      <td>6.45</td>\n",
       "      <td>1.45</td>\n",
       "      <td>6.76</td>\n",
       "      <td>1.45</td>\n",
       "      <td>-0.47</td>\n",
       "      <td>31.63</td>\n",
       "      <td>-0.36</td>\n",
       "      <td>14.54</td>\n",
       "      <td>...</td>\n",
       "      <td>7</td>\n",
       "      <td>7</td>\n",
       "      <td>5</td>\n",
       "      <td>5</td>\n",
       "      <td>62</td>\n",
       "      <td>65</td>\n",
       "      <td>0</td>\n",
       "      <td>0</td>\n",
       "      <td>0</td>\n",
       "      <td>4</td>\n",
       "    </tr>\n",
       "  </tbody>\n",
       "</table>\n",
       "<p>5 rows × 35 columns</p>\n",
       "</div>"
      ],
      "text/plain": [
       "   accX  accX_std  accY  accY_std  accZ  accZ_std  gyrX  gyrX_std  gyrY  \\\n",
       "0  0.59      4.31  4.59      2.94  6.66      2.94  2.98     82.91  1.87   \n",
       "1 -0.35      5.35  0.30      1.40  7.61      1.40  0.58     46.14  0.06   \n",
       "2 -1.83      2.06  6.34      1.77  6.55      1.77  0.60     25.90  0.90   \n",
       "3 -1.31      1.41  5.96      1.63  7.31      1.63 -0.84     28.71 -0.46   \n",
       "4 -1.63      1.24  6.45      1.45  6.76      1.45 -0.47     31.63 -0.36   \n",
       "\n",
       "   gyrY_std  ...  mood  tense  tired  rumination  socialize  socialize_val  \\\n",
       "0     44.87  ...     7      7      5           5         62             65   \n",
       "1    116.84  ...     7      7      5           5         62             65   \n",
       "2     30.98  ...     7      7      5           5         62             65   \n",
       "3     41.61  ...     7      7      5           5         62             65   \n",
       "4     14.54  ...     7      7      5           5         62             65   \n",
       "\n",
       "   sport_time  work_time  day_sleep  phq_1  \n",
       "0           0          0          0      4  \n",
       "1           0          0          0      4  \n",
       "2           0          0          0      4  \n",
       "3           0          0          0      4  \n",
       "4           0          0          0      4  \n",
       "\n",
       "[5 rows x 35 columns]"
      ]
     },
     "execution_count": 10,
     "metadata": {},
     "output_type": "execute_result"
    }
   ],
   "source": [
    "p.head()"
   ]
  },
  {
   "cell_type": "code",
   "execution_count": 11,
   "metadata": {},
   "outputs": [
    {
     "data": {
      "text/plain": [
       "744"
      ]
     },
     "execution_count": 11,
     "metadata": {},
     "output_type": "execute_result"
    }
   ],
   "source": [
    "median"
   ]
  },
  {
   "cell_type": "code",
   "execution_count": 12,
   "metadata": {},
   "outputs": [
    {
     "data": {
      "text/plain": [
       "189720"
      ]
     },
     "execution_count": 12,
     "metadata": {},
     "output_type": "execute_result"
    }
   ],
   "source": [
    "len(p.index)"
   ]
  },
  {
   "cell_type": "code",
   "execution_count": 13,
   "metadata": {},
   "outputs": [
    {
     "data": {
      "text/plain": [
       "array([ 5.90000000e-01,  4.31000000e+00,  4.59000000e+00,  2.94000000e+00,\n",
       "        6.66000000e+00,  2.94000000e+00,  2.98000000e+00,  8.29100000e+01,\n",
       "        1.87000000e+00,  4.48700000e+01, -3.25000000e+00,  5.50800000e+01,\n",
       "        8.70500000e+01,  2.80000000e+00,  1.00235000e+03,  1.00000000e-02,\n",
       "        9.11400000e+01,  6.00000000e-02,  3.35700000e+01,  5.00000000e-02,\n",
       "        1.00235000e+03,  1.00000000e-02,  2.18011553e+06,  1.29018370e+05,\n",
       "        0.00000000e+00,  7.00000000e+00,  7.00000000e+00,  5.00000000e+00,\n",
       "        5.00000000e+00,  6.20000000e+01,  6.50000000e+01,  0.00000000e+00,\n",
       "        0.00000000e+00,  0.00000000e+00,  4.00000000e+00])"
      ]
     },
     "execution_count": 13,
     "metadata": {},
     "output_type": "execute_result"
    }
   ],
   "source": [
    "float_data = p.to_numpy()\n",
    "\n",
    "float_data[0]"
   ]
  },
  {
   "cell_type": "code",
   "execution_count": 14,
   "metadata": {},
   "outputs": [],
   "source": [
    "\n",
    "# first 185 days as training\n",
    "mean = float_data[:137640].mean(axis=0)\n",
    "float_data -= mean\n",
    "std = float_data[:137640].std(axis=0)\n",
    "float_data /= std"
   ]
  },
  {
   "cell_type": "code",
   "execution_count": 15,
   "metadata": {},
   "outputs": [
    {
     "data": {
      "text/plain": [
       "array([ 7.93165444e-02,  1.04219675e+00,  1.02186518e+00,  6.22208761e-01,\n",
       "        1.35824796e+00,  6.22208761e-01,  2.15571064e+00,  1.32455661e+00,\n",
       "        1.38659723e+00,  1.39090570e+00, -1.57144476e+00,  1.34353937e+00,\n",
       "       -1.55682693e-01, -2.20902520e-01,  1.30606930e-01, -2.46115392e-01,\n",
       "       -1.23118531e-01, -1.36514408e-02,  9.98620233e-01,  3.53180911e-01,\n",
       "        1.30606099e-01, -2.89795534e-01, -7.66586975e-01, -4.63650073e-03,\n",
       "       -3.53657227e-01, -2.05140616e-01,  4.64242029e-01, -4.92631562e-02,\n",
       "       -5.23076628e+00,  1.40744469e+00, -5.93641058e-02, -3.16755338e-01,\n",
       "       -3.54041051e-01, -9.83746350e-01, -7.60918538e-01])"
      ]
     },
     "execution_count": 15,
     "metadata": {},
     "output_type": "execute_result"
    }
   ],
   "source": [
    "float_data[0]"
   ]
  },
  {
   "cell_type": "code",
   "execution_count": 30,
   "metadata": {},
   "outputs": [],
   "source": [
    "# assume each day got 744 value (average value) that means 17 value per Hour.\n",
    "# most probably will be 3\n",
    "# step = 60 / (median / 24)\n",
    "step = 2\n",
    "# observations will look back 7 days (average)\n",
    "look_back = step * 7 * 24\n",
    "delay = 24 * step\n",
    "\n",
    "# one day\n",
    "batch_size = median"
   ]
  },
  {
   "cell_type": "code",
   "execution_count": 32,
   "metadata": {},
   "outputs": [
    {
     "data": {
      "text/plain": [
       "744"
      ]
     },
     "execution_count": 32,
     "metadata": {},
     "output_type": "execute_result"
    }
   ],
   "source": [
    "batch_size"
   ]
  },
  {
   "cell_type": "code",
   "execution_count": 33,
   "metadata": {},
   "outputs": [],
   "source": [
    "train_gen = generator(float_data,\n",
    "                      look_b=look_back,\n",
    "                      delay=delay,\n",
    "                      min_index=0,\n",
    "                      max_index=137640,\n",
    "                      shuffle=True,\n",
    "                      step=step,\n",
    "                      batch_size=batch_size)\n",
    "val_gen = generator(float_data,\n",
    "                    look_b=look_back,\n",
    "                    delay=delay,\n",
    "                    min_index=137641,\n",
    "                    max_index=167400,\n",
    "                    step=step,\n",
    "                    batch_size=batch_size)\n",
    "test_gen = generator(float_data,\n",
    "                     look_b=look_back,\n",
    "                     delay=delay,\n",
    "                     min_index=167401,\n",
    "                     max_index=None,\n",
    "                     step=step,\n",
    "                     batch_size=batch_size)\n"
   ]
  },
  {
   "cell_type": "code",
   "execution_count": 40,
   "metadata": {},
   "outputs": [
    {
     "data": {
      "text/plain": [
       "185"
      ]
     },
     "execution_count": 40,
     "metadata": {},
     "output_type": "execute_result"
    }
   ],
   "source": [
    "test_steps = (len(p.index) - 167401)//batch_size\n",
    "val_steps = (167400 - 137641)//batch_size\n",
    "per_epoch =137640//batch_size\n",
    "per_epoch"
   ]
  },
  {
   "cell_type": "code",
   "execution_count": 41,
   "metadata": {},
   "outputs": [
    {
     "data": {
      "text/plain": [
       "39"
      ]
     },
     "execution_count": 41,
     "metadata": {},
     "output_type": "execute_result"
    }
   ],
   "source": [
    "val_steps"
   ]
  },
  {
   "cell_type": "code",
   "execution_count": 42,
   "metadata": {},
   "outputs": [
    {
     "data": {
      "text/plain": [
       "29"
      ]
     },
     "execution_count": 42,
     "metadata": {},
     "output_type": "execute_result"
    }
   ],
   "source": [
    "test_steps"
   ]
  },
  {
   "cell_type": "code",
   "execution_count": 43,
   "metadata": {},
   "outputs": [],
   "source": [
    "def evaluate_naive_model():\n",
    "    batch_maes = []\n",
    "    for step in range(val_steps):\n",
    "        samples, targets = next(val_gen)\n",
    "        preds = samples[:, -1, 1]\n",
    "        mae = np.mean(np.abs(preds - targets))\n",
    "        batch_maes.append(mae)\n",
    "    print(np.mean(batch_maes))"
   ]
  },
  {
   "cell_type": "code",
   "execution_count": 45,
   "metadata": {},
   "outputs": [
    {
     "name": "stdout",
     "output_type": "stream",
     "text": [
      "1.3399582575619922\n"
     ]
    }
   ],
   "source": [
    "evaluate_naive_model()"
   ]
  },
  {
   "cell_type": "markdown",
   "metadata": {},
   "source": [
    "# One GRU layer Model"
   ]
  },
  {
   "cell_type": "code",
   "execution_count": 47,
   "metadata": {},
   "outputs": [],
   "source": [
    "from tensorflow.keras.models import Sequential\n",
    "from tensorflow.keras import layers\n",
    "from tensorflow.keras.optimizers import RMSprop"
   ]
  },
  {
   "cell_type": "code",
   "execution_count": 48,
   "metadata": {},
   "outputs": [
    {
     "name": "stdout",
     "output_type": "stream",
     "text": [
      "Train for 185 steps, validate for 39 steps\n",
      "Epoch 1/20\n",
      "185/185 [==============================] - 87s 471ms/step - loss: 0.2445 - val_loss: 0.1263\n",
      "Epoch 2/20\n",
      "185/185 [==============================] - 83s 447ms/step - loss: 0.1221 - val_loss: 0.1128\n",
      "Epoch 3/20\n",
      "185/185 [==============================] - 82s 444ms/step - loss: 0.1091 - val_loss: 0.0987\n",
      "Epoch 4/20\n",
      "185/185 [==============================] - 82s 441ms/step - loss: 0.1046 - val_loss: 0.0948\n",
      "Epoch 5/20\n",
      "185/185 [==============================] - 82s 445ms/step - loss: 0.1004 - val_loss: 0.0882\n",
      "Epoch 6/20\n",
      "185/185 [==============================] - 82s 445ms/step - loss: 0.0991 - val_loss: 0.0828\n",
      "Epoch 7/20\n",
      "185/185 [==============================] - 82s 444ms/step - loss: 0.0944 - val_loss: 0.0813\n",
      "Epoch 8/20\n",
      "185/185 [==============================] - 85s 461ms/step - loss: 0.0955 - val_loss: 0.0852\n",
      "Epoch 9/20\n",
      "185/185 [==============================] - 82s 444ms/step - loss: 0.0936 - val_loss: 0.0891\n",
      "Epoch 10/20\n",
      "185/185 [==============================] - 81s 437ms/step - loss: 0.0927 - val_loss: 0.0779\n",
      "Epoch 11/20\n",
      "185/185 [==============================] - 84s 452ms/step - loss: 0.0912 - val_loss: 0.0728\n",
      "Epoch 12/20\n",
      "185/185 [==============================] - 82s 445ms/step - loss: 0.0894 - val_loss: 0.0913\n",
      "Epoch 13/20\n",
      "185/185 [==============================] - 83s 451ms/step - loss: 0.0893 - val_loss: 0.0762\n",
      "Epoch 14/20\n",
      "185/185 [==============================] - 82s 441ms/step - loss: 0.0874 - val_loss: 0.0755\n",
      "Epoch 15/20\n",
      "185/185 [==============================] - 82s 441ms/step - loss: 0.0891 - val_loss: 0.0784\n",
      "Epoch 16/20\n",
      "185/185 [==============================] - 84s 454ms/step - loss: 0.0884 - val_loss: 0.0715\n",
      "Epoch 17/20\n",
      "185/185 [==============================] - 86s 467ms/step - loss: 0.0868 - val_loss: 0.0724\n",
      "Epoch 18/20\n",
      "185/185 [==============================] - 84s 453ms/step - loss: 0.0872 - val_loss: 0.0680\n",
      "Epoch 19/20\n",
      "185/185 [==============================] - 82s 446ms/step - loss: 0.0878 - val_loss: 0.0699\n",
      "Epoch 20/20\n",
      "185/185 [==============================] - 81s 440ms/step - loss: 0.0861 - val_loss: 0.0690\n"
     ]
    }
   ],
   "source": [
    "model = Sequential()\n",
    "model.add(layers.GRU(32, input_shape=(None, float_data.shape[-1])))\n",
    "model.add(layers.Dense(1))\n",
    "\n",
    "model.compile(optimzer=RMSprop(), loss='mae')\n",
    "history = model.fit(train_gen,\n",
    "                    steps_per_epoch=per_epoch,\n",
    "                    epochs=20,\n",
    "                    validation_data=val_gen,\n",
    "                    validation_steps=val_steps)\n"
   ]
  },
  {
   "cell_type": "code",
   "execution_count": 49,
   "metadata": {},
   "outputs": [],
   "source": [
    "model.save('model_1_385.h5')"
   ]
  },
  {
   "cell_type": "code",
   "execution_count": 51,
   "metadata": {},
   "outputs": [
    {
     "data": {
      "image/png": "[encoded data removed]",
      "text/plain": [
       "<Figure size 432x288 with 1 Axes>"
      ]
     },
     "metadata": {
      "needs_background": "light"
     },
     "output_type": "display_data"
    }
   ],
   "source": [
    "import matplotlib.pyplot as plt\n",
    "loss = history.history['loss']\n",
    "val_loss = history.history['val_loss']\n",
    "\n",
    "epochs = range(1, len(loss) + 1)\n",
    "plt.figure()\n",
    "\n",
    "plt.plot(epochs, loss, 'bo', label='Training loss')\n",
    "plt.plot(epochs, val_loss, 'b', label='Validation loss')\n",
    "plt.title('Training and validation loss')\n",
    "plt.legend()\n",
    "plt.show()"
   ]
  },
  {
   "cell_type": "code",
   "execution_count": 52,
   "metadata": {},
   "outputs": [
    {
     "name": "stdout",
     "output_type": "stream",
     "text": [
      "30/30 [==============================] - 5s 153ms/step - loss: 0.0609\n"
     ]
    },
    {
     "data": {
      "text/plain": [
       "0.06091373264789581"
      ]
     },
     "execution_count": 52,
     "metadata": {},
     "output_type": "execute_result"
    }
   ],
   "source": [
    "model.evaluate(test_gen, steps=30)"
   ]
  },
  {
   "cell_type": "markdown",
   "metadata": {},
   "source": [
    "# 1D convenet"
   ]
  },
  {
   "cell_type": "code",
   "execution_count": 42,
   "metadata": {},
   "outputs": [
    {
     "name": "stdout",
     "output_type": "stream",
     "text": [
      "Train for 500 steps, validate for 40.0 steps\n",
      "Epoch 1/20\n",
      "500/500 [==============================] - 55s 110ms/step - loss: 0.3315 - val_loss: 0.5216\n",
      "Epoch 2/20\n",
      "500/500 [==============================] - 56s 113ms/step - loss: 0.1992 - val_loss: 0.5367\n",
      "Epoch 3/20\n",
      "500/500 [==============================] - 52s 103ms/step - loss: 0.1644 - val_loss: 0.5677\n",
      "Epoch 4/20\n",
      "500/500 [==============================] - 53s 107ms/step - loss: 0.1420 - val_loss: 0.5722\n",
      "Epoch 5/20\n",
      "500/500 [==============================] - 55s 109ms/step - loss: 0.1268 - val_loss: 0.5646\n",
      "Epoch 6/20\n",
      "500/500 [==============================] - 58s 116ms/step - loss: 0.1155 - val_loss: 0.5678\n",
      "Epoch 7/20\n",
      "500/500 [==============================] - 54s 109ms/step - loss: 0.1068 - val_loss: 0.5746\n",
      "Epoch 8/20\n",
      "500/500 [==============================] - 57s 113ms/step - loss: 0.1006 - val_loss: 0.5727\n",
      "Epoch 9/20\n",
      "500/500 [==============================] - 55s 110ms/step - loss: 0.0955 - val_loss: 0.5862\n",
      "Epoch 10/20\n",
      "500/500 [==============================] - 55s 110ms/step - loss: 0.0900 - val_loss: 0.5907\n",
      "Epoch 11/20\n",
      "500/500 [==============================] - 55s 109ms/step - loss: 0.0857 - val_loss: 0.5951\n",
      "Epoch 12/20\n",
      "500/500 [==============================] - 54s 109ms/step - loss: 0.0819 - val_loss: 0.6027\n",
      "Epoch 13/20\n",
      "500/500 [==============================] - 55s 109ms/step - loss: 0.0781 - val_loss: 0.5660\n",
      "Epoch 14/20\n",
      "500/500 [==============================] - 55s 110ms/step - loss: 0.0754 - val_loss: 0.5898\n",
      "Epoch 15/20\n",
      "500/500 [==============================] - 60s 120ms/step - loss: 0.0729 - val_loss: 0.6121\n",
      "Epoch 16/20\n",
      "500/500 [==============================] - 58s 115ms/step - loss: 0.0702 - val_loss: 0.6009\n",
      "Epoch 17/20\n",
      "500/500 [==============================] - 56s 111ms/step - loss: 0.0676 - val_loss: 0.5681\n",
      "Epoch 18/20\n",
      "500/500 [==============================] - 55s 111ms/step - loss: 0.0655 - val_loss: 0.5452\n",
      "Epoch 19/20\n",
      "500/500 [==============================] - 56s 111ms/step - loss: 0.0638 - val_loss: 0.5934\n",
      "Epoch 20/20\n",
      "500/500 [==============================] - 58s 116ms/step - loss: 0.0615 - val_loss: 0.5834\n"
     ]
    }
   ],
   "source": [
    "model_2 = Sequential()\n",
    "model_2.add(layers.Conv1D(32, 5, activation='relu',\n",
    "                        input_shape=(None, float_data.shape[-1])))\n",
    "model_2.add(layers.MaxPooling1D(3))\n",
    "model_2.add(layers.Conv1D(32, 5, activation='relu'))\n",
    "model_2.add(layers.MaxPooling1D(3))\n",
    "model_2.add(layers.Conv1D(32, 5, activation='relu'))\n",
    "model_2.add(layers.GlobalMaxPooling1D())\n",
    "model_2.add(layers.Dense(1))\n",
    "\n",
    "model_2.compile(optimizer=RMSprop(), loss='mae')\n",
    "history_2 = model_2.fit(train_gen,\n",
    "                        steps_per_epoch=500,\n",
    "                        epochs=20,\n",
    "                        validation_data=val_gen,\n",
    "                        validation_steps=val_steps)"
   ]
  },
  {
   "cell_type": "code",
   "execution_count": 174,
   "metadata": {},
   "outputs": [],
   "source": [
    "model_2.save('model_2.h5') "
   ]
  },
  {
   "cell_type": "code",
   "execution_count": 175,
   "metadata": {},
   "outputs": [
    {
     "data": {
      "image/png": "[encoded data removed]",
      "text/plain": [
       "<Figure size 432x288 with 1 Axes>"
      ]
     },
     "metadata": {
      "needs_background": "light"
     },
     "output_type": "display_data"
    }
   ],
   "source": [
    "import matplotlib.pyplot as plt\n",
    "loss = history_2.history['loss']\n",
    "val_loss = history_2.history['val_loss']\n",
    "\n",
    "epochs = range(1, len(loss) + 1)\n",
    "plt.figure()\n",
    "\n",
    "plt.plot(epochs, loss, 'bo', label='Training loss')\n",
    "plt.plot(epochs, val_loss, 'b', label='Validation loss')\n",
    "plt.title('Training and validation loss')\n",
    "plt.legend()\n",
    "plt.show()"
   ]
  },
  {
   "cell_type": "code",
   "execution_count": 187,
   "metadata": {},
   "outputs": [
    {
     "name": "stdout",
     "output_type": "stream",
     "text": [
      "30/30 [==============================] - 1s 40ms/step - loss: 0.7885\n"
     ]
    },
    {
     "data": {
      "text/plain": [
       "0.788507649426659"
      ]
     },
     "execution_count": 187,
     "metadata": {},
     "output_type": "execute_result"
    }
   ],
   "source": [
    "model_2.evaluate(test_gen, steps=30)"
   ]
  },
  {
   "cell_type": "markdown",
   "metadata": {},
   "source": [
    "# 1D convnet and GRU model"
   ]
  },
  {
   "cell_type": "code",
   "execution_count": 45,
   "metadata": {},
   "outputs": [
    {
     "name": "stdout",
     "output_type": "stream",
     "text": [
      "Model: \"sequential_5\"\n",
      "_________________________________________________________________\n",
      "Layer (type)                 Output Shape              Param #   \n",
      "=================================================================\n",
      "conv1d_3 (Conv1D)            (None, None, 32)          4192      \n",
      "_________________________________________________________________\n",
      "max_pooling1d_2 (MaxPooling1 (None, None, 32)          0         \n",
      "_________________________________________________________________\n",
      "conv1d_4 (Conv1D)            (None, None, 32)          5152      \n",
      "_________________________________________________________________\n",
      "gru_4 (GRU)                  (None, 32)                6336      \n",
      "_________________________________________________________________\n",
      "dense_5 (Dense)              (None, 1)                 33        \n",
      "=================================================================\n",
      "Total params: 15,713\n",
      "Trainable params: 15,713\n",
      "Non-trainable params: 0\n",
      "_________________________________________________________________\n",
      "Train for 500 steps, validate for 40.0 steps\n",
      "Epoch 1/20\n",
      "500/500 [==============================] - 115s 230ms/step - loss: 74.5987 - val_loss: 0.4986\n",
      "Epoch 2/20\n",
      "500/500 [==============================] - 103s 206ms/step - loss: 0.3197 - val_loss: 0.2924\n",
      "Epoch 3/20\n",
      "500/500 [==============================] - 103s 207ms/step - loss: 0.1968 - val_loss: 0.2535\n",
      "Epoch 4/20\n",
      "500/500 [==============================] - 104s 208ms/step - loss: 0.2562 - val_loss: 0.2726\n",
      "Epoch 5/20\n",
      "500/500 [==============================] - 104s 207ms/step - loss: 0.1871 - val_loss: 0.2568\n",
      "Epoch 6/20\n",
      "500/500 [==============================] - 103s 207ms/step - loss: 0.1700 - val_loss: 0.2488\n",
      "Epoch 7/20\n",
      "500/500 [==============================] - 107s 214ms/step - loss: 0.1454 - val_loss: 0.2748\n",
      "Epoch 8/20\n",
      "500/500 [==============================] - 104s 208ms/step - loss: 0.1583 - val_loss: 0.2878\n",
      "Epoch 9/20\n",
      "500/500 [==============================] - 109s 218ms/step - loss: 0.1789 - val_loss: 0.2687\n",
      "Epoch 10/20\n",
      "500/500 [==============================] - 106s 212ms/step - loss: 0.1310 - val_loss: 0.2752\n",
      "Epoch 11/20\n",
      "500/500 [==============================] - 104s 209ms/step - loss: 0.1479 - val_loss: 0.2866\n",
      "Epoch 12/20\n",
      "500/500 [==============================] - 105s 210ms/step - loss: 0.1738 - val_loss: 0.2897\n",
      "Epoch 13/20\n",
      "500/500 [==============================] - 106s 211ms/step - loss: 0.1247 - val_loss: 0.3027\n",
      "Epoch 14/20\n",
      "500/500 [==============================] - 104s 209ms/step - loss: 0.1779 - val_loss: 0.3020\n",
      "Epoch 15/20\n",
      "500/500 [==============================] - 105s 209ms/step - loss: 0.2449 - val_loss: 0.3199\n",
      "Epoch 16/20\n",
      "500/500 [==============================] - 104s 208ms/step - loss: 0.1025 - val_loss: 0.3178\n",
      "Epoch 17/20\n",
      "500/500 [==============================] - 103s 206ms/step - loss: 0.1729 - val_loss: 0.3051\n",
      "Epoch 18/20\n",
      "500/500 [==============================] - 107s 214ms/step - loss: 3.6875 - val_loss: 0.3097\n",
      "Epoch 19/20\n",
      "500/500 [==============================] - 104s 208ms/step - loss: 0.0910 - val_loss: 0.3549\n",
      "Epoch 20/20\n",
      "500/500 [==============================] - 104s 208ms/step - loss: 0.0886 - val_loss: 0.3200\n"
     ]
    }
   ],
   "source": [
    "\n",
    "model_3 = Sequential()\n",
    "model_3.add(layers.Conv1D(32, 5, activation='relu',\n",
    "                          input_shape=(None, float_data.shape[-1])))\n",
    "model_3.add(layers.MaxPooling1D(3))\n",
    "model_3.add(layers.Conv1D(32, 5, activation='relu'))\n",
    "model_3.add(layers.GRU(32, dropout=0.1, recurrent_dropout=0.3))\n",
    "model_3.add(layers.Dense(1))\n",
    "\n",
    "model_3.summary()\n",
    "model_3.compile(optimizer=RMSprop(), loss='mae')\n",
    "history_3 = model_3.fit(train_gen,\n",
    "                        steps_per_epoch=500,\n",
    "                        epochs=20,\n",
    "                        validation_data=val_gen,\n",
    "                        validation_steps=val_steps)"
   ]
  },
  {
   "cell_type": "code",
   "execution_count": 177,
   "metadata": {},
   "outputs": [],
   "source": [
    "model_3.save('model_3.h5') "
   ]
  },
  {
   "cell_type": "code",
   "execution_count": 51,
   "metadata": {},
   "outputs": [
    {
     "data": {
      "image/png": "[encoded data removed]",
      "text/plain": [
       "<Figure size 432x288 with 1 Axes>"
      ]
     },
     "metadata": {
      "needs_background": "light"
     },
     "output_type": "display_data"
    }
   ],
   "source": [
    "loss = history_3.history['loss'][1:-3]\n",
    "val_loss = history_3.history['val_loss'][1:-3]\n",
    "\n",
    "epochs = range(1, len(loss) + 1)\n",
    "plt.figure()\n",
    "\n",
    "plt.plot(epochs, loss, 'bo', label='Training loss')\n",
    "plt.plot(epochs, val_loss, 'b', label='Validation loss')\n",
    "plt.title('Training and validation loss')\n",
    "plt.legend()\n",
    "plt.show()"
   ]
  },
  {
   "cell_type": "code",
   "execution_count": 186,
   "metadata": {},
   "outputs": [
    {
     "name": "stdout",
     "output_type": "stream",
     "text": [
      "30/30 [==============================] - 2s 66ms/step - loss: 0.5556\n"
     ]
    },
    {
     "data": {
      "text/plain": [
       "0.5556494179336975"
      ]
     },
     "execution_count": 186,
     "metadata": {},
     "output_type": "execute_result"
    }
   ],
   "source": [
    "model_3.evaluate(test_gen, steps=30)"
   ]
  },
  {
   "cell_type": "markdown",
   "metadata": {},
   "source": [
    "# One GRU layer with recurrent dropout"
   ]
  },
  {
   "cell_type": "code",
   "execution_count": 64,
   "metadata": {},
   "outputs": [
    {
     "name": "stdout",
     "output_type": "stream",
     "text": [
      "Train for 500 steps, validate for 40 steps\n",
      "Epoch 1/20\n",
      "500/500 [==============================] - 175s 349ms/step - loss: 2.7620 - val_loss: 0.2623\n",
      "Epoch 2/20\n",
      "500/500 [==============================] - 174s 347ms/step - loss: 0.2064 - val_loss: 0.2402\n",
      "Epoch 3/20\n",
      "500/500 [==============================] - 173s 345ms/step - loss: 0.1919 - val_loss: 0.2186\n",
      "Epoch 4/20\n",
      "500/500 [==============================] - 203s 406ms/step - loss: 0.1967 - val_loss: 0.2198\n",
      "Epoch 5/20\n",
      "500/500 [==============================] - 177s 353ms/step - loss: 0.2820 - val_loss: 0.2258\n",
      "Epoch 6/20\n",
      "500/500 [==============================] - 179s 359ms/step - loss: 0.3132 - val_loss: 0.2149\n",
      "Epoch 7/20\n",
      "500/500 [==============================] - 194s 388ms/step - loss: 0.2561 - val_loss: 0.2122\n",
      "Epoch 8/20\n",
      "500/500 [==============================] - 193s 387ms/step - loss: 0.6875 - val_loss: 0.2263\n",
      "Epoch 9/20\n",
      "500/500 [==============================] - 195s 389ms/step - loss: 0.2115 - val_loss: 0.2200\n",
      "Epoch 10/20\n",
      "500/500 [==============================] - 197s 393ms/step - loss: 0.2313 - val_loss: 0.2240\n",
      "Epoch 11/20\n",
      "500/500 [==============================] - 193s 385ms/step - loss: 0.4791 - val_loss: 0.2284\n",
      "Epoch 12/20\n",
      "500/500 [==============================] - 190s 381ms/step - loss: 0.9622 - val_loss: 0.2222\n",
      "Epoch 13/20\n",
      "500/500 [==============================] - 201s 403ms/step - loss: 0.2166 - val_loss: 0.2201\n",
      "Epoch 14/20\n",
      "500/500 [==============================] - 192s 383ms/step - loss: 0.8815 - val_loss: 0.2194\n",
      "Epoch 15/20\n",
      "500/500 [==============================] - 226s 451ms/step - loss: 0.4020 - val_loss: 0.2195\n",
      "Epoch 16/20\n",
      "500/500 [==============================] - 226s 451ms/step - loss: 0.6981 - val_loss: 0.2153\n",
      "Epoch 17/20\n",
      "500/500 [==============================] - 200s 400ms/step - loss: 0.2591 - val_loss: 0.2180\n",
      "Epoch 18/20\n",
      "500/500 [==============================] - 199s 398ms/step - loss: 0.2303 - val_loss: 0.2190\n",
      "Epoch 19/20\n",
      "500/500 [==============================] - 187s 374ms/step - loss: 0.1908 - val_loss: 0.2140\n",
      "Epoch 20/20\n",
      "500/500 [==============================] - 190s 381ms/step - loss: 0.3792 - val_loss: 0.2313\n"
     ]
    }
   ],
   "source": [
    "model_4 = Sequential()\n",
    "model_4.add(layers.GRU(32,\n",
    "                     dropout=0.1,\n",
    "                     recurrent_dropout=0.1,\n",
    "                     input_shape=(None, float_data.shape[-1])))\n",
    "model_4.add(layers.Dense(1))\n",
    "\n",
    "model_4.compile(optimizer=RMSprop(), loss='mae')\n",
    "history_4 = model_4.fit(train_gen,\n",
    "                    steps_per_epoch=500,\n",
    "                    epochs=20,\n",
    "                    validation_data=val_gen,\n",
    "                    validation_steps=val_steps)\n"
   ]
  },
  {
   "cell_type": "code",
   "execution_count": 179,
   "metadata": {},
   "outputs": [],
   "source": [
    "model_4.save('model_4.h5') "
   ]
  },
  {
   "cell_type": "code",
   "execution_count": 74,
   "metadata": {},
   "outputs": [
    {
     "data": {
      "image/png": "[encoded data removed]",
      "text/plain": [
       "<Figure size 432x288 with 1 Axes>"
      ]
     },
     "metadata": {
      "needs_background": "light"
     },
     "output_type": "display_data"
    }
   ],
   "source": [
    "loss = history_4.history['loss'][1:]\n",
    "val_loss = history_4.history['val_loss'][1:]\n",
    "\n",
    "epochs = range(1, len(loss) + 1)\n",
    "plt.figure()\n",
    "\n",
    "plt.plot(epochs, loss, 'bo', label='Training loss')\n",
    "plt.plot(epochs, val_loss, 'b', label='Validation loss')\n",
    "plt.title('Training and validation loss')\n",
    "plt.legend()\n",
    "plt.show()"
   ]
  },
  {
   "cell_type": "code",
   "execution_count": 185,
   "metadata": {},
   "outputs": [
    {
     "name": "stdout",
     "output_type": "stream",
     "text": [
      "30/30 [==============================] - 3s 89ms/step - loss: 0.3007\n"
     ]
    },
    {
     "data": {
      "text/plain": [
       "0.30071445753177006"
      ]
     },
     "execution_count": 185,
     "metadata": {},
     "output_type": "execute_result"
    }
   ],
   "source": [
    "model_4.evaluate(test_gen, steps=30)"
   ]
  },
  {
   "cell_type": "code",
   "execution_count": null,
   "metadata": {},
   "outputs": [],
   "source": []
  },
  {
   "cell_type": "code",
   "execution_count": 72,
   "metadata": {},
   "outputs": [
    {
     "name": "stdout",
     "output_type": "stream",
     "text": [
      "Model: \"sequential_13\"\n",
      "_________________________________________________________________\n",
      "Layer (type)                 Output Shape              Param #   \n",
      "=================================================================\n",
      "conv1d_5 (Conv1D)            (None, None, 64)          8384      \n",
      "_________________________________________________________________\n",
      "max_pooling1d_3 (MaxPooling1 (None, None, 64)          0         \n",
      "_________________________________________________________________\n",
      "conv1d_6 (Conv1D)            (None, None, 64)          20544     \n",
      "_________________________________________________________________\n",
      "gru_12 (GRU)                 (None, 64)                24960     \n",
      "_________________________________________________________________\n",
      "dense_13 (Dense)             (None, 1)                 65        \n",
      "=================================================================\n",
      "Total params: 53,953\n",
      "Trainable params: 53,953\n",
      "Non-trainable params: 0\n",
      "_________________________________________________________________\n",
      "Train for 500 steps, validate for 40.0 steps\n",
      "Epoch 1/20\n",
      "500/500 [==============================] - 182s 365ms/step - loss: 0.3026 - val_loss: 0.2691\n",
      "Epoch 2/20\n",
      "500/500 [==============================] - 175s 350ms/step - loss: 0.1798 - val_loss: 0.2352\n",
      "Epoch 3/20\n",
      "500/500 [==============================] - 166s 332ms/step - loss: 0.1479 - val_loss: 0.2400\n",
      "Epoch 4/20\n",
      "500/500 [==============================] - 163s 326ms/step - loss: 0.1254 - val_loss: 0.2463\n",
      "Epoch 5/20\n",
      "500/500 [==============================] - 164s 327ms/step - loss: 0.1083 - val_loss: 0.2564\n",
      "Epoch 6/20\n",
      "500/500 [==============================] - 180s 360ms/step - loss: 0.0886 - val_loss: 0.2918\n",
      "Epoch 7/20\n",
      "500/500 [==============================] - 163s 326ms/step - loss: 0.0749 - val_loss: 0.3020\n",
      "Epoch 8/20\n",
      "500/500 [==============================] - 167s 334ms/step - loss: 0.0677 - val_loss: 0.2854\n",
      "Epoch 9/20\n",
      "500/500 [==============================] - 170s 341ms/step - loss: 0.0872 - val_loss: 0.3853\n",
      "Epoch 10/20\n",
      "500/500 [==============================] - 165s 330ms/step - loss: 0.0530 - val_loss: 0.2943\n",
      "Epoch 11/20\n",
      "500/500 [==============================] - 166s 332ms/step - loss: 0.0450 - val_loss: 0.3065\n",
      "Epoch 12/20\n",
      "500/500 [==============================] - 181s 361ms/step - loss: 0.0411 - val_loss: 0.2932\n",
      "Epoch 13/20\n",
      "500/500 [==============================] - 189s 378ms/step - loss: 0.0420 - val_loss: 0.3400\n",
      "Epoch 14/20\n",
      "500/500 [==============================] - 160s 321ms/step - loss: 0.0514 - val_loss: 0.3521\n",
      "Epoch 15/20\n",
      "500/500 [==============================] - 172s 344ms/step - loss: 0.0305 - val_loss: 0.3642\n",
      "Epoch 16/20\n",
      "500/500 [==============================] - 171s 343ms/step - loss: 0.0305 - val_loss: 0.3644\n",
      "Epoch 17/20\n",
      "500/500 [==============================] - 166s 332ms/step - loss: 0.0290 - val_loss: 0.3220\n",
      "Epoch 18/20\n",
      "500/500 [==============================] - 168s 336ms/step - loss: 0.0366 - val_loss: 0.3308\n",
      "Epoch 19/20\n",
      "500/500 [==============================] - 160s 320ms/step - loss: 0.0323 - val_loss: 0.3297\n",
      "Epoch 20/20\n",
      "500/500 [==============================] - 165s 330ms/step - loss: 0.0233 - val_loss: 0.3280\n"
     ]
    }
   ],
   "source": [
    "model_5 = Sequential()\n",
    "model_5.add(layers.Conv1D(64, 5, activation='relu',\n",
    "                          input_shape=(None, float_data.shape[-1])))\n",
    "model_5.add(layers.MaxPooling1D(3))\n",
    "model_5.add(layers.Conv1D(64, 5, activation='relu'))\n",
    "model_5.add(layers.GRU(64, dropout=0.1, recurrent_dropout=0.2))\n",
    "model_5.add(layers.Dense(1))\n",
    "\n",
    "model_5.summary()\n",
    "model_5.compile(optimizer=RMSprop(), loss='mae')\n",
    "history_5 = model_5.fit(train_gen,\n",
    "                        steps_per_epoch=500,\n",
    "                        epochs=20,\n",
    "                        validation_data=val_gen,\n",
    "                        validation_steps=val_steps)"
   ]
  },
  {
   "cell_type": "code",
   "execution_count": 181,
   "metadata": {},
   "outputs": [],
   "source": [
    "model_5.save('model_5.h5') "
   ]
  },
  {
   "cell_type": "code",
   "execution_count": 182,
   "metadata": {},
   "outputs": [
    {
     "data": {
      "image/png": "[encoded data removed]",
      "text/plain": [
       "<Figure size 432x288 with 1 Axes>"
      ]
     },
     "metadata": {
      "needs_background": "light"
     },
     "output_type": "display_data"
    }
   ],
   "source": [
    "loss = history_5.history['loss']\n",
    "val_loss = history_5.history['val_loss']\n",
    "\n",
    "epochs = range(1, len(loss) + 1)\n",
    "plt.figure()\n",
    "\n",
    "plt.plot(epochs, loss, 'bo', label='Training loss')\n",
    "plt.plot(epochs, val_loss, 'b', label='Validation loss')\n",
    "plt.title('Training and validation loss')\n",
    "plt.legend()\n",
    "plt.show()"
   ]
  },
  {
   "cell_type": "code",
   "execution_count": 184,
   "metadata": {},
   "outputs": [
    {
     "name": "stdout",
     "output_type": "stream",
     "text": [
      "30/30 [==============================] - 3s 96ms/step - loss: 0.5721\n"
     ]
    },
    {
     "data": {
      "text/plain": [
       "0.5721043894377847"
      ]
     },
     "execution_count": 184,
     "metadata": {},
     "output_type": "execute_result"
    }
   ],
   "source": [
    "model_5.evaluate(test_gen, steps=30)"
   ]
  },
  {
   "cell_type": "code",
   "execution_count": null,
   "metadata": {},
   "outputs": [],
   "source": [
    "model_6 = Sequential()\n",
    "model_6.add(layers.LSTM(10,input_shape=(None, float_data.shape[-1])))\n",
    "model_6.add(layers.Dense(1, activation='linear'))\n",
    "\n",
    "model_6.summary()\n",
    "model_6.compile(optimizer='adam', loss='mse')\n",
    "history_6 = model_6.fit(train_gen,\n",
    "                        steps_per_epoch=per_epoch,\n",
    "                        epochs=20,\n",
    "                        validation_data=val_gen,\n",
    "                        validation_steps=val_steps)"
   ]
  }
 ],
 "metadata": {
  "kernelspec": {
   "display_name": "Python 3",
   "language": "python",
   "name": "python3"
  },
  "language_info": {
   "codemirror_mode": {
    "name": "ipython",
    "version": 3
   },
   "file_extension": ".py",
   "mimetype": "text/x-python",
   "name": "python",
   "nbconvert_exporter": "python",
   "pygments_lexer": "ipython3",
   "version": "3.7.3"
  }
 },
 "nbformat": 4,
 "nbformat_minor": 2
}
