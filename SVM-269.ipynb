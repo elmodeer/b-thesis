{
 "cells": [
  {
   "cell_type": "code",
   "execution_count": 17,
   "metadata": {},
   "outputs": [],
   "source": [
    "from sklearn import svm\n",
    "from sklearn.metrics import confusion_matrix \n",
    "from sklearn.model_selection import train_test_split "
   ]
  },
  {
   "cell_type": "code",
   "execution_count": 18,
   "metadata": {},
   "outputs": [],
   "source": [
    "import pandas as pd\n",
    "output_path = '/Users/Hesham/dev/fluffDecoder/data/'\n",
    "p = pd.read_csv(output_path + 'ST1505558269_1.0.csv')"
   ]
  },
  {
   "cell_type": "code",
   "execution_count": 19,
   "metadata": {},
   "outputs": [],
   "source": [
    "p = p.drop(['date', 'window'], axis=1).astype(float)\n"
   ]
  },
  {
   "cell_type": "code",
   "execution_count": 20,
   "metadata": {},
   "outputs": [
    {
     "data": {
      "text/html": [
       "<div>\n",
       "<style scoped>\n",
       "    .dataframe tbody tr th:only-of-type {\n",
       "        vertical-align: middle;\n",
       "    }\n",
       "\n",
       "    .dataframe tbody tr th {\n",
       "        vertical-align: top;\n",
       "    }\n",
       "\n",
       "    .dataframe thead th {\n",
       "        text-align: right;\n",
       "    }\n",
       "</style>\n",
       "<table border=\"1\" class=\"dataframe\">\n",
       "  <thead>\n",
       "    <tr style=\"text-align: right;\">\n",
       "      <th></th>\n",
       "      <th>time</th>\n",
       "      <th>accX</th>\n",
       "      <th>accX_std</th>\n",
       "      <th>accY</th>\n",
       "      <th>accY_std</th>\n",
       "      <th>accZ</th>\n",
       "      <th>accZ_std</th>\n",
       "      <th>gyrX</th>\n",
       "      <th>gyrX_std</th>\n",
       "      <th>gyrY</th>\n",
       "      <th>...</th>\n",
       "      <th>tired</th>\n",
       "      <th>period</th>\n",
       "      <th>rumination</th>\n",
       "      <th>socialize</th>\n",
       "      <th>socialize_val</th>\n",
       "      <th>sport_time</th>\n",
       "      <th>work_time</th>\n",
       "      <th>day_sleep</th>\n",
       "      <th>phq_1</th>\n",
       "      <th>phq_2</th>\n",
       "    </tr>\n",
       "  </thead>\n",
       "  <tbody>\n",
       "    <tr>\n",
       "      <td>0</td>\n",
       "      <td>1.542201e+09</td>\n",
       "      <td>0.11</td>\n",
       "      <td>0.14</td>\n",
       "      <td>-0.22</td>\n",
       "      <td>0.32</td>\n",
       "      <td>-10.00</td>\n",
       "      <td>0.32</td>\n",
       "      <td>-0.07</td>\n",
       "      <td>11.22</td>\n",
       "      <td>-0.56</td>\n",
       "      <td>...</td>\n",
       "      <td>3.0</td>\n",
       "      <td>0.0</td>\n",
       "      <td>6.0</td>\n",
       "      <td>90.0</td>\n",
       "      <td>90.0</td>\n",
       "      <td>0.0</td>\n",
       "      <td>0.0</td>\n",
       "      <td>30.0</td>\n",
       "      <td>3.0</td>\n",
       "      <td>4.0</td>\n",
       "    </tr>\n",
       "    <tr>\n",
       "      <td>1</td>\n",
       "      <td>1.542201e+09</td>\n",
       "      <td>0.11</td>\n",
       "      <td>0.02</td>\n",
       "      <td>-0.22</td>\n",
       "      <td>0.02</td>\n",
       "      <td>-10.02</td>\n",
       "      <td>0.02</td>\n",
       "      <td>-0.07</td>\n",
       "      <td>0.03</td>\n",
       "      <td>-0.56</td>\n",
       "      <td>...</td>\n",
       "      <td>3.0</td>\n",
       "      <td>0.0</td>\n",
       "      <td>6.0</td>\n",
       "      <td>90.0</td>\n",
       "      <td>90.0</td>\n",
       "      <td>0.0</td>\n",
       "      <td>0.0</td>\n",
       "      <td>30.0</td>\n",
       "      <td>3.0</td>\n",
       "      <td>4.0</td>\n",
       "    </tr>\n",
       "    <tr>\n",
       "      <td>2</td>\n",
       "      <td>1.542201e+09</td>\n",
       "      <td>0.11</td>\n",
       "      <td>0.02</td>\n",
       "      <td>-0.21</td>\n",
       "      <td>0.02</td>\n",
       "      <td>-10.02</td>\n",
       "      <td>0.02</td>\n",
       "      <td>-0.07</td>\n",
       "      <td>0.02</td>\n",
       "      <td>-0.56</td>\n",
       "      <td>...</td>\n",
       "      <td>3.0</td>\n",
       "      <td>0.0</td>\n",
       "      <td>6.0</td>\n",
       "      <td>90.0</td>\n",
       "      <td>90.0</td>\n",
       "      <td>0.0</td>\n",
       "      <td>0.0</td>\n",
       "      <td>30.0</td>\n",
       "      <td>3.0</td>\n",
       "      <td>4.0</td>\n",
       "    </tr>\n",
       "    <tr>\n",
       "      <td>3</td>\n",
       "      <td>1.542201e+09</td>\n",
       "      <td>0.11</td>\n",
       "      <td>0.02</td>\n",
       "      <td>-0.21</td>\n",
       "      <td>0.02</td>\n",
       "      <td>-10.02</td>\n",
       "      <td>0.02</td>\n",
       "      <td>-0.07</td>\n",
       "      <td>0.02</td>\n",
       "      <td>-0.56</td>\n",
       "      <td>...</td>\n",
       "      <td>3.0</td>\n",
       "      <td>0.0</td>\n",
       "      <td>6.0</td>\n",
       "      <td>90.0</td>\n",
       "      <td>90.0</td>\n",
       "      <td>0.0</td>\n",
       "      <td>0.0</td>\n",
       "      <td>30.0</td>\n",
       "      <td>3.0</td>\n",
       "      <td>4.0</td>\n",
       "    </tr>\n",
       "    <tr>\n",
       "      <td>4</td>\n",
       "      <td>1.542201e+09</td>\n",
       "      <td>0.11</td>\n",
       "      <td>0.02</td>\n",
       "      <td>-0.21</td>\n",
       "      <td>0.02</td>\n",
       "      <td>-10.01</td>\n",
       "      <td>0.02</td>\n",
       "      <td>-0.07</td>\n",
       "      <td>0.02</td>\n",
       "      <td>-0.56</td>\n",
       "      <td>...</td>\n",
       "      <td>3.0</td>\n",
       "      <td>0.0</td>\n",
       "      <td>6.0</td>\n",
       "      <td>90.0</td>\n",
       "      <td>90.0</td>\n",
       "      <td>0.0</td>\n",
       "      <td>0.0</td>\n",
       "      <td>30.0</td>\n",
       "      <td>3.0</td>\n",
       "      <td>4.0</td>\n",
       "    </tr>\n",
       "  </tbody>\n",
       "</table>\n",
       "<p>5 rows × 35 columns</p>\n",
       "</div>"
      ],
      "text/plain": [
       "           time  accX  accX_std  accY  accY_std   accZ  accZ_std  gyrX  \\\n",
       "0  1.542201e+09  0.11      0.14 -0.22      0.32 -10.00      0.32 -0.07   \n",
       "1  1.542201e+09  0.11      0.02 -0.22      0.02 -10.02      0.02 -0.07   \n",
       "2  1.542201e+09  0.11      0.02 -0.21      0.02 -10.02      0.02 -0.07   \n",
       "3  1.542201e+09  0.11      0.02 -0.21      0.02 -10.02      0.02 -0.07   \n",
       "4  1.542201e+09  0.11      0.02 -0.21      0.02 -10.01      0.02 -0.07   \n",
       "\n",
       "   gyrX_std  gyrY  ...  tired  period  rumination  socialize  socialize_val  \\\n",
       "0     11.22 -0.56  ...    3.0     0.0         6.0       90.0           90.0   \n",
       "1      0.03 -0.56  ...    3.0     0.0         6.0       90.0           90.0   \n",
       "2      0.02 -0.56  ...    3.0     0.0         6.0       90.0           90.0   \n",
       "3      0.02 -0.56  ...    3.0     0.0         6.0       90.0           90.0   \n",
       "4      0.02 -0.56  ...    3.0     0.0         6.0       90.0           90.0   \n",
       "\n",
       "   sport_time  work_time  day_sleep  phq_1  phq_2  \n",
       "0         0.0        0.0       30.0    3.0    4.0  \n",
       "1         0.0        0.0       30.0    3.0    4.0  \n",
       "2         0.0        0.0       30.0    3.0    4.0  \n",
       "3         0.0        0.0       30.0    3.0    4.0  \n",
       "4         0.0        0.0       30.0    3.0    4.0  \n",
       "\n",
       "[5 rows x 35 columns]"
      ]
     },
     "execution_count": 20,
     "metadata": {},
     "output_type": "execute_result"
    }
   ],
   "source": [
    "p.head()"
   ]
  },
  {
   "cell_type": "code",
   "execution_count": 21,
   "metadata": {},
   "outputs": [],
   "source": [
    "# y = p[['phq_1']]\n",
    "# t1, t2 = train_test_split(p, stratify=y, test_size=0.5, random_state=42, shuffle=True)"
   ]
  },
  {
   "cell_type": "code",
   "execution_count": 22,
   "metadata": {},
   "outputs": [
    {
     "data": {
      "text/plain": [
       "98187"
      ]
     },
     "execution_count": 22,
     "metadata": {},
     "output_type": "execute_result"
    }
   ],
   "source": [
    "len(t1.index)"
   ]
  },
  {
   "cell_type": "code",
   "execution_count": 23,
   "metadata": {},
   "outputs": [],
   "source": [
    "# train_set, test_set = train_test_split(p, test_size=0.25, random_state=42, shuffle=True)"
   ]
  },
  {
   "cell_type": "code",
   "execution_count": 46,
   "metadata": {},
   "outputs": [],
   "source": [
    "y = p[['phq_1']]\n",
    "train_set_st, test_set_st = train_test_split(p, stratify=y, test_size=0.25, random_state=42, shuffle=True)"
   ]
  },
  {
   "cell_type": "code",
   "execution_count": 47,
   "metadata": {},
   "outputs": [
    {
     "data": {
      "text/html": [
       "<div>\n",
       "<style scoped>\n",
       "    .dataframe tbody tr th:only-of-type {\n",
       "        vertical-align: middle;\n",
       "    }\n",
       "\n",
       "    .dataframe tbody tr th {\n",
       "        vertical-align: top;\n",
       "    }\n",
       "\n",
       "    .dataframe thead th {\n",
       "        text-align: right;\n",
       "    }\n",
       "</style>\n",
       "<table border=\"1\" class=\"dataframe\">\n",
       "  <thead>\n",
       "    <tr style=\"text-align: right;\">\n",
       "      <th></th>\n",
       "      <th>time</th>\n",
       "      <th>accX</th>\n",
       "      <th>accX_std</th>\n",
       "      <th>accY</th>\n",
       "      <th>accY_std</th>\n",
       "      <th>accZ</th>\n",
       "      <th>accZ_std</th>\n",
       "      <th>gyrX</th>\n",
       "      <th>gyrX_std</th>\n",
       "      <th>gyrY</th>\n",
       "      <th>...</th>\n",
       "      <th>tired</th>\n",
       "      <th>period</th>\n",
       "      <th>rumination</th>\n",
       "      <th>socialize</th>\n",
       "      <th>socialize_val</th>\n",
       "      <th>sport_time</th>\n",
       "      <th>work_time</th>\n",
       "      <th>day_sleep</th>\n",
       "      <th>phq_1</th>\n",
       "      <th>phq_2</th>\n",
       "    </tr>\n",
       "  </thead>\n",
       "  <tbody>\n",
       "    <tr>\n",
       "      <td>43001</td>\n",
       "      <td>1.547367e+09</td>\n",
       "      <td>6.54</td>\n",
       "      <td>4.76</td>\n",
       "      <td>0.34</td>\n",
       "      <td>5.69</td>\n",
       "      <td>4.46</td>\n",
       "      <td>5.69</td>\n",
       "      <td>-1.08</td>\n",
       "      <td>85.47</td>\n",
       "      <td>-1.44</td>\n",
       "      <td>...</td>\n",
       "      <td>5.0</td>\n",
       "      <td>0.0</td>\n",
       "      <td>8.0</td>\n",
       "      <td>0.0</td>\n",
       "      <td>0.0</td>\n",
       "      <td>60.0</td>\n",
       "      <td>0.0</td>\n",
       "      <td>0.0</td>\n",
       "      <td>5.0</td>\n",
       "      <td>4.0</td>\n",
       "    </tr>\n",
       "    <tr>\n",
       "      <td>191389</td>\n",
       "      <td>1.567616e+09</td>\n",
       "      <td>9.92</td>\n",
       "      <td>0.02</td>\n",
       "      <td>-0.85</td>\n",
       "      <td>0.02</td>\n",
       "      <td>0.93</td>\n",
       "      <td>0.02</td>\n",
       "      <td>-0.07</td>\n",
       "      <td>0.03</td>\n",
       "      <td>-0.49</td>\n",
       "      <td>...</td>\n",
       "      <td>3.0</td>\n",
       "      <td>0.0</td>\n",
       "      <td>3.0</td>\n",
       "      <td>20.0</td>\n",
       "      <td>84.0</td>\n",
       "      <td>60.0</td>\n",
       "      <td>0.0</td>\n",
       "      <td>0.0</td>\n",
       "      <td>2.0</td>\n",
       "      <td>2.0</td>\n",
       "    </tr>\n",
       "    <tr>\n",
       "      <td>50115</td>\n",
       "      <td>1.548544e+09</td>\n",
       "      <td>5.72</td>\n",
       "      <td>1.31</td>\n",
       "      <td>-4.46</td>\n",
       "      <td>2.57</td>\n",
       "      <td>6.76</td>\n",
       "      <td>2.57</td>\n",
       "      <td>0.84</td>\n",
       "      <td>63.10</td>\n",
       "      <td>-0.07</td>\n",
       "      <td>...</td>\n",
       "      <td>4.0</td>\n",
       "      <td>1.0</td>\n",
       "      <td>4.0</td>\n",
       "      <td>38.0</td>\n",
       "      <td>68.0</td>\n",
       "      <td>0.0</td>\n",
       "      <td>0.0</td>\n",
       "      <td>0.0</td>\n",
       "      <td>5.0</td>\n",
       "      <td>3.0</td>\n",
       "    </tr>\n",
       "    <tr>\n",
       "      <td>69839</td>\n",
       "      <td>1.550468e+09</td>\n",
       "      <td>0.81</td>\n",
       "      <td>2.43</td>\n",
       "      <td>-5.77</td>\n",
       "      <td>2.26</td>\n",
       "      <td>2.33</td>\n",
       "      <td>2.26</td>\n",
       "      <td>-0.07</td>\n",
       "      <td>32.47</td>\n",
       "      <td>-0.56</td>\n",
       "      <td>...</td>\n",
       "      <td>6.0</td>\n",
       "      <td>1.0</td>\n",
       "      <td>7.0</td>\n",
       "      <td>20.0</td>\n",
       "      <td>20.0</td>\n",
       "      <td>60.0</td>\n",
       "      <td>0.0</td>\n",
       "      <td>0.0</td>\n",
       "      <td>8.0</td>\n",
       "      <td>7.0</td>\n",
       "    </tr>\n",
       "    <tr>\n",
       "      <td>155762</td>\n",
       "      <td>1.563053e+09</td>\n",
       "      <td>-5.62</td>\n",
       "      <td>2.04</td>\n",
       "      <td>-0.16</td>\n",
       "      <td>3.67</td>\n",
       "      <td>6.84</td>\n",
       "      <td>3.67</td>\n",
       "      <td>-0.14</td>\n",
       "      <td>27.13</td>\n",
       "      <td>-1.75</td>\n",
       "      <td>...</td>\n",
       "      <td>5.0</td>\n",
       "      <td>0.0</td>\n",
       "      <td>2.0</td>\n",
       "      <td>43.0</td>\n",
       "      <td>80.0</td>\n",
       "      <td>0.0</td>\n",
       "      <td>0.0</td>\n",
       "      <td>0.0</td>\n",
       "      <td>2.0</td>\n",
       "      <td>1.0</td>\n",
       "    </tr>\n",
       "  </tbody>\n",
       "</table>\n",
       "<p>5 rows × 35 columns</p>\n",
       "</div>"
      ],
      "text/plain": [
       "                time  accX  accX_std  accY  accY_std  accZ  accZ_std  gyrX  \\\n",
       "43001   1.547367e+09  6.54      4.76  0.34      5.69  4.46      5.69 -1.08   \n",
       "191389  1.567616e+09  9.92      0.02 -0.85      0.02  0.93      0.02 -0.07   \n",
       "50115   1.548544e+09  5.72      1.31 -4.46      2.57  6.76      2.57  0.84   \n",
       "69839   1.550468e+09  0.81      2.43 -5.77      2.26  2.33      2.26 -0.07   \n",
       "155762  1.563053e+09 -5.62      2.04 -0.16      3.67  6.84      3.67 -0.14   \n",
       "\n",
       "        gyrX_std  gyrY  ...  tired  period  rumination  socialize  \\\n",
       "43001      85.47 -1.44  ...    5.0     0.0         8.0        0.0   \n",
       "191389      0.03 -0.49  ...    3.0     0.0         3.0       20.0   \n",
       "50115      63.10 -0.07  ...    4.0     1.0         4.0       38.0   \n",
       "69839      32.47 -0.56  ...    6.0     1.0         7.0       20.0   \n",
       "155762     27.13 -1.75  ...    5.0     0.0         2.0       43.0   \n",
       "\n",
       "        socialize_val  sport_time  work_time  day_sleep  phq_1  phq_2  \n",
       "43001             0.0        60.0        0.0        0.0    5.0    4.0  \n",
       "191389           84.0        60.0        0.0        0.0    2.0    2.0  \n",
       "50115            68.0         0.0        0.0        0.0    5.0    3.0  \n",
       "69839            20.0        60.0        0.0        0.0    8.0    7.0  \n",
       "155762           80.0         0.0        0.0        0.0    2.0    1.0  \n",
       "\n",
       "[5 rows x 35 columns]"
      ]
     },
     "execution_count": 47,
     "metadata": {},
     "output_type": "execute_result"
    }
   ],
   "source": [
    "train_set_st.head()"
   ]
  },
  {
   "cell_type": "code",
   "execution_count": 48,
   "metadata": {},
   "outputs": [],
   "source": [
    "X_train_st = train_set_st.loc[:,'accX':'work_time']\n",
    "y_train_st_1 = train_set_st.loc[:, ['phq_1']].values.ravel()\n",
    "# y_train_st_2 = train_set_st.loc[:, ['phq_2']].values.ravel()\n",
    "\n",
    "X_test_st = test_set_st.loc[:,'accX':'work_time']\n",
    "y_test_st_1 = test_set_st[['phq_1']].values.ravel()\n",
    "# y_test_st_2 = test_set_st[['phq_2']].values.ravel()"
   ]
  },
  {
   "cell_type": "code",
   "execution_count": 79,
   "metadata": {},
   "outputs": [
    {
     "data": {
      "text/plain": [
       "Index(['accX', 'accX_std', 'accY', 'accY_std', 'accZ', 'accZ_std', 'gyrX',\n",
       "       'gyrX_std', 'gyrY', 'gyrY_std', 'gyrZ', 'gyrZ_std', 'heartR',\n",
       "       'heartR_std', 'AirTemperature', 'AT_std', 'AirPressure', 'AP_std',\n",
       "       'PlethysmogramGreen', 'ple_std', 'alc', 'cig', 'mood', 'tense', 'tired',\n",
       "       'period', 'rumination', 'socialize', 'socialize_val', 'sport_time',\n",
       "       'work_time'],\n",
       "      dtype='object')"
      ]
     },
     "execution_count": 79,
     "metadata": {},
     "output_type": "execute_result"
    }
   ],
   "source": [
    "X_train_st.columns"
   ]
  },
  {
   "cell_type": "code",
   "execution_count": 49,
   "metadata": {},
   "outputs": [],
   "source": [
    "time_st = train_set_st[['time']].values.ravel()\n",
    "time_st_test = test_set_st[['time']].values.ravel()"
   ]
  },
  {
   "cell_type": "code",
   "execution_count": 50,
   "metadata": {},
   "outputs": [],
   "source": [
    "# Scaling the Train and Test feature set \n",
    "from sklearn.preprocessing import StandardScaler\n",
    "scaler_st = StandardScaler()\n",
    "X_train_st_scaled = scaler_st.fit_transform(X_train_st)\n",
    "X_test_st_scaled = scaler_st.transform(X_test_st)"
   ]
  },
  {
   "cell_type": "code",
   "execution_count": 102,
   "metadata": {},
   "outputs": [
    {
     "data": {
      "text/plain": [
       "<function ndarray.all>"
      ]
     },
     "execution_count": 102,
     "metadata": {},
     "output_type": "execute_result"
    }
   ],
   "source": [
    "X_test_st_scaled.ll"
   ]
  },
  {
   "cell_type": "code",
   "execution_count": 31,
   "metadata": {},
   "outputs": [],
   "source": [
    "parameters = {'epsilon':[0,0.1,0.2,0.5,1],\n",
    "               'tol':[1e-1, 1e-3,1e-5],\n",
    "              'C':[1, 1.5, 10, 50]\n",
    "              }"
   ]
  },
  {
   "cell_type": "code",
   "execution_count": 32,
   "metadata": {},
   "outputs": [
    {
     "data": {
      "text/plain": [
       "GridSearchCV(cv=3, error_score='raise-deprecating',\n",
       "       estimator=LinearSVR(C=1.0, dual=True, epsilon=0.0, fit_intercept=True,\n",
       "     intercept_scaling=1.0, loss='epsilon_insensitive', max_iter=1000,\n",
       "     random_state=42, tol=0.0001, verbose=0),\n",
       "       fit_params=None, iid='warn', n_jobs=-1,\n",
       "       param_grid={'epsilon': [0, 0.1, 0.2, 0.5, 1], 'tol': [0.1, 0.001, 1e-05], 'C': [1, 1.5, 10, 50]},\n",
       "       pre_dispatch='2*n_jobs', refit=True, return_train_score='warn',\n",
       "       scoring='neg_mean_absolute_error', verbose=0)"
      ]
     },
     "execution_count": 32,
     "metadata": {},
     "output_type": "execute_result"
    }
   ],
   "source": [
    "from sklearn.model_selection import GridSearchCV\n",
    "from sklearn.svm import LinearSVR\n",
    "\n",
    "svr = LinearSVR(random_state=42)\n",
    "regressor_st = GridSearchCV(svr, parameters, n_jobs=-1, cv=3, scoring='neg_mean_absolute_error')\n",
    "regressor_st"
   ]
  },
  {
   "cell_type": "code",
   "execution_count": 33,
   "metadata": {},
   "outputs": [
    {
     "name": "stderr",
     "output_type": "stream",
     "text": [
      "/Users/Hesham/opt/anaconda3/envs/tf2/lib/python3.7/site-packages/sklearn/svm/base.py:931: ConvergenceWarning: Liblinear failed to converge, increase the number of iterations.\n",
      "  \"the number of iterations.\", ConvergenceWarning)\n"
     ]
    },
    {
     "data": {
      "text/plain": [
       "GridSearchCV(cv=3, error_score='raise-deprecating',\n",
       "       estimator=LinearSVR(C=1.0, dual=True, epsilon=0.0, fit_intercept=True,\n",
       "     intercept_scaling=1.0, loss='epsilon_insensitive', max_iter=1000,\n",
       "     random_state=42, tol=0.0001, verbose=0),\n",
       "       fit_params=None, iid='warn', n_jobs=-1,\n",
       "       param_grid={'epsilon': [0, 0.1, 0.2, 0.5, 1], 'tol': [0.1, 0.001, 1e-05], 'C': [1, 1.5, 10, 50]},\n",
       "       pre_dispatch='2*n_jobs', refit=True, return_train_score='warn',\n",
       "       scoring='neg_mean_absolute_error', verbose=0)"
      ]
     },
     "execution_count": 33,
     "metadata": {},
     "output_type": "execute_result"
    }
   ],
   "source": [
    "regressor_st.fit(X_train_st_scaled, y_train_st_1)"
   ]
  },
  {
   "cell_type": "code",
   "execution_count": 34,
   "metadata": {},
   "outputs": [
    {
     "data": {
      "text/plain": [
       "{'C': 1, 'epsilon': 0, 'tol': 1e-05}"
      ]
     },
     "execution_count": 34,
     "metadata": {},
     "output_type": "execute_result"
    }
   ],
   "source": [
    "regressor_st.best_params_"
   ]
  },
  {
   "cell_type": "code",
   "execution_count": 35,
   "metadata": {},
   "outputs": [
    {
     "data": {
      "text/plain": [
       "LinearSVR(C=1, dual=True, epsilon=0, fit_intercept=True,\n",
       "     intercept_scaling=1.0, loss='epsilon_insensitive', max_iter=1000,\n",
       "     random_state=42, tol=1e-05, verbose=0)"
      ]
     },
     "execution_count": 35,
     "metadata": {},
     "output_type": "execute_result"
    }
   ],
   "source": [
    "regressor_st.best_estimator_"
   ]
  },
  {
   "cell_type": "code",
   "execution_count": 36,
   "metadata": {},
   "outputs": [
    {
     "data": {
      "text/plain": [
       "0.9987886243241471"
      ]
     },
     "execution_count": 36,
     "metadata": {},
     "output_type": "execute_result"
    }
   ],
   "source": [
    "from sklearn.metrics import mean_absolute_error\n",
    "\n",
    "pred_test_st = regressor_st.predict(X_test_st_scaled)\n",
    "svr_mae = mean_absolute_error(y_test_st_1,pred_test_st)\n",
    "svr_mae"
   ]
  },
  {
   "cell_type": "code",
   "execution_count": 37,
   "metadata": {},
   "outputs": [
    {
     "data": {
      "text/plain": [
       "0.994952804347976"
      ]
     },
     "execution_count": 37,
     "metadata": {},
     "output_type": "execute_result"
    }
   ],
   "source": [
    "pred_train_st = regressor_st.predict(X_train_st_scaled)\n",
    "svr_mae = mean_absolute_error(y_train_st_1, pred_train_st)\n",
    "svr_mae"
   ]
  },
  {
   "cell_type": "code",
   "execution_count": 38,
   "metadata": {},
   "outputs": [],
   "source": [
    "model = regressor_st.best_estimator_"
   ]
  },
  {
   "cell_type": "code",
   "execution_count": 39,
   "metadata": {},
   "outputs": [
    {
     "data": {
      "text/plain": [
       "array([-0.02613018, -0.01627495, -0.01460241,  0.02667691, -0.00654916,\n",
       "        0.02667691, -0.01291052, -0.00795607, -0.03018236, -0.0026919 ,\n",
       "       -0.01535292, -0.02927621, -0.08393397,  0.01523976, -0.16845249,\n",
       "        0.02123021, -0.02017612,  0.00153619, -0.04027949, -0.01290057,\n",
       "       -0.09764914,  0.03212126, -0.8087615 ,  0.19219864,  0.00696997,\n",
       "        0.11826604,  0.50264896,  0.18851879, -0.20638052, -0.29436391,\n",
       "        0.        ])"
      ]
     },
     "execution_count": 39,
     "metadata": {},
     "output_type": "execute_result"
    }
   ],
   "source": [
    "model.coef_"
   ]
  },
  {
   "cell_type": "code",
   "execution_count": 137,
   "metadata": {},
   "outputs": [
    {
     "ename": "SyntaxError",
     "evalue": "unexpected EOF while parsing (<ipython-input-137-4f5e15d2ba2b>, line 3)",
     "output_type": "error",
     "traceback": [
      "\u001b[0;36m  File \u001b[0;32m\"<ipython-input-137-4f5e15d2ba2b>\"\u001b[0;36m, line \u001b[0;32m3\u001b[0m\n\u001b[0;31m    #     print(mean_score, params)\u001b[0m\n\u001b[0m                                   ^\u001b[0m\n\u001b[0;31mSyntaxError\u001b[0m\u001b[0;31m:\u001b[0m unexpected EOF while parsing\n"
     ]
    }
   ],
   "source": [
    "cvrs = regressor_st.cv_results_\n",
    "for mean_score, params in zip(cvrs['mean_train_score'], cvrs['params']):\n",
    "#     print(mean_score, params)"
   ]
  },
  {
   "cell_type": "code",
   "execution_count": null,
   "metadata": {},
   "outputs": [],
   "source": []
  },
  {
   "cell_type": "code",
   "execution_count": 51,
   "metadata": {},
   "outputs": [
    {
     "name": "stderr",
     "output_type": "stream",
     "text": [
      "/Users/Hesham/opt/anaconda3/envs/tf2/lib/python3.7/site-packages/sklearn/svm/base.py:931: ConvergenceWarning: Liblinear failed to converge, increase the number of iterations.\n",
      "  \"the number of iterations.\", ConvergenceWarning)\n"
     ]
    },
    {
     "data": {
      "text/plain": [
       "LinearSVR(C=1.0, dual=True, epsilon=0.0, fit_intercept=True,\n",
       "     intercept_scaling=1.0, loss='epsilon_insensitive', max_iter=1000,\n",
       "     random_state=42, tol=1e-05, verbose=0)"
      ]
     },
     "execution_count": 51,
     "metadata": {},
     "output_type": "execute_result"
    }
   ],
   "source": [
    "svr = LinearSVR(random_state=42, tol=1e-05)\n",
    "svr.fit(X_train_st_scaled, y_train_st_1)"
   ]
  },
  {
   "cell_type": "code",
   "execution_count": 54,
   "metadata": {},
   "outputs": [
    {
     "data": {
      "text/plain": [
       "1.0003729755803323"
      ]
     },
     "execution_count": 54,
     "metadata": {},
     "output_type": "execute_result"
    }
   ],
   "source": [
    "pred_test_st = svr.predict(X_test_st_scaled)\n",
    "svr_mae = mean_absolute_error(y_test_st_1,pred_test_st)\n",
    "svr_mae"
   ]
  },
  {
   "cell_type": "code",
   "execution_count": 55,
   "metadata": {},
   "outputs": [
    {
     "data": {
      "text/plain": [
       "0.9981467247267135"
      ]
     },
     "execution_count": 55,
     "metadata": {},
     "output_type": "execute_result"
    }
   ],
   "source": [
    "pred_train_st = svr.predict(X_train_st_scaled)\n",
    "svr_mae = mean_absolute_error(y_train_st_1, pred_train_st)\n",
    "svr_mae"
   ]
  },
  {
   "cell_type": "code",
   "execution_count": 78,
   "metadata": {},
   "outputs": [
    {
     "data": {
      "text/plain": [
       "array([-0.02477377, -0.01005535, -0.01033519,  0.02772651, -0.00344182,\n",
       "        0.02772651, -0.01724052, -0.03320568, -0.02449658,  0.00361274,\n",
       "       -0.00317472, -0.03227624, -0.0786224 ,  0.0171121 , -0.16656135,\n",
       "        0.02450968, -0.02818772,  0.00130163, -0.04109102, -0.00210225,\n",
       "       -0.08843782,  0.03276362, -0.79831237,  0.20418064,  0.00800336,\n",
       "        0.11781184,  0.49926571,  0.17982042, -0.19853483, -0.3067323 ,\n",
       "        0.        ])"
      ]
     },
     "execution_count": 78,
     "metadata": {},
     "output_type": "execute_result"
    }
   ],
   "source": [
    "svr.coef_"
   ]
  },
  {
   "cell_type": "code",
   "execution_count": 56,
   "metadata": {},
   "outputs": [],
   "source": [
    "temp = p.columns[1:-2]"
   ]
  },
  {
   "cell_type": "code",
   "execution_count": 57,
   "metadata": {},
   "outputs": [
    {
     "name": "stdout",
     "output_type": "stream",
     "text": [
      "-0.024773774359680024 accX\n",
      "-0.010055350333579165 accX_std\n",
      "-0.010335185007196667 accY\n",
      "0.02772651223520637 accY_std\n",
      "-0.0034418221331009038 accZ\n",
      "0.02772651223520637 accZ_std\n",
      "-0.01724052180516089 gyrX\n",
      "-0.03320568250736278 gyrX_std\n",
      "-0.02449657545844 gyrY\n",
      "0.0036127357863772963 gyrY_std\n",
      "-0.0031747218968106866 gyrZ\n",
      "-0.03227623542568557 gyrZ_std\n",
      "-0.07862240485357479 heartR\n",
      "0.017112096935961406 heartR_std\n",
      "-0.16656134562794303 AirTemperature\n",
      "0.024509676241430876 AT_std\n",
      "-0.02818772226279683 AirPressure\n",
      "0.0013016257033239699 AP_std\n",
      "-0.04109102014119421 PlethysmogramGreen\n",
      "-0.0021022545837792745 ple_std\n",
      "-0.08843782208095127 alc\n",
      "0.03276362261170666 cig\n",
      "-0.7983123668211671 mood\n",
      "0.20418064383853166 tense\n",
      "0.008003362063861512 tired\n",
      "0.11781183930989766 period\n",
      "0.499265710296464 rumination\n",
      "0.1798204175810991 socialize\n",
      "-0.19853482972816153 socialize_val\n",
      "-0.3067322989167699 sport_time\n",
      "0.0 work_time\n"
     ]
    }
   ],
   "source": [
    "coef = svr.coef_\n",
    "for c, col in zip(coef, temp):\n",
    "    print(c, col)"
   ]
  },
  {
   "cell_type": "code",
   "execution_count": null,
   "metadata": {},
   "outputs": [],
   "source": []
  },
  {
   "cell_type": "code",
   "execution_count": 88,
   "metadata": {},
   "outputs": [
    {
     "ename": "ValueError",
     "evalue": "cannot insert predictions, already exists",
     "output_type": "error",
     "traceback": [
      "\u001b[0;31m---------------------------------------------------------------------------\u001b[0m",
      "\u001b[0;31mValueError\u001b[0m                                Traceback (most recent call last)",
      "\u001b[0;32m<ipython-input-88-9d20a64da4fa>\u001b[0m in \u001b[0;36m<module>\u001b[0;34m\u001b[0m\n\u001b[0;32m----> 1\u001b[0;31m \u001b[0mnew_p\u001b[0m \u001b[0;34m=\u001b[0m \u001b[0mpatient\u001b[0m\u001b[0;34m.\u001b[0m\u001b[0minsert\u001b[0m\u001b[0;34m(\u001b[0m\u001b[0;36m1\u001b[0m\u001b[0;34m,\u001b[0m \u001b[0;34m\"predictions\"\u001b[0m\u001b[0;34m,\u001b[0m \u001b[0mpred_train_st\u001b[0m\u001b[0;34m)\u001b[0m\u001b[0;34m\u001b[0m\u001b[0;34m\u001b[0m\u001b[0m\n\u001b[0m\u001b[1;32m      2\u001b[0m \u001b[0mnew_p\u001b[0m\u001b[0;34m\u001b[0m\u001b[0;34m\u001b[0m\u001b[0m\n",
      "\u001b[0;32m~/opt/anaconda3/envs/tf2/lib/python3.7/site-packages/pandas/core/frame.py\u001b[0m in \u001b[0;36minsert\u001b[0;34m(self, loc, column, value, allow_duplicates)\u001b[0m\n\u001b[1;32m   3574\u001b[0m         \u001b[0mself\u001b[0m\u001b[0;34m.\u001b[0m\u001b[0m_ensure_valid_index\u001b[0m\u001b[0;34m(\u001b[0m\u001b[0mvalue\u001b[0m\u001b[0;34m)\u001b[0m\u001b[0;34m\u001b[0m\u001b[0;34m\u001b[0m\u001b[0m\n\u001b[1;32m   3575\u001b[0m         \u001b[0mvalue\u001b[0m \u001b[0;34m=\u001b[0m \u001b[0mself\u001b[0m\u001b[0;34m.\u001b[0m\u001b[0m_sanitize_column\u001b[0m\u001b[0;34m(\u001b[0m\u001b[0mcolumn\u001b[0m\u001b[0;34m,\u001b[0m \u001b[0mvalue\u001b[0m\u001b[0;34m,\u001b[0m \u001b[0mbroadcast\u001b[0m\u001b[0;34m=\u001b[0m\u001b[0;32mFalse\u001b[0m\u001b[0;34m)\u001b[0m\u001b[0;34m\u001b[0m\u001b[0;34m\u001b[0m\u001b[0m\n\u001b[0;32m-> 3576\u001b[0;31m         \u001b[0mself\u001b[0m\u001b[0;34m.\u001b[0m\u001b[0m_data\u001b[0m\u001b[0;34m.\u001b[0m\u001b[0minsert\u001b[0m\u001b[0;34m(\u001b[0m\u001b[0mloc\u001b[0m\u001b[0;34m,\u001b[0m \u001b[0mcolumn\u001b[0m\u001b[0;34m,\u001b[0m \u001b[0mvalue\u001b[0m\u001b[0;34m,\u001b[0m \u001b[0mallow_duplicates\u001b[0m\u001b[0;34m=\u001b[0m\u001b[0mallow_duplicates\u001b[0m\u001b[0;34m)\u001b[0m\u001b[0;34m\u001b[0m\u001b[0;34m\u001b[0m\u001b[0m\n\u001b[0m\u001b[1;32m   3577\u001b[0m \u001b[0;34m\u001b[0m\u001b[0m\n\u001b[1;32m   3578\u001b[0m     \u001b[0;32mdef\u001b[0m \u001b[0massign\u001b[0m\u001b[0;34m(\u001b[0m\u001b[0mself\u001b[0m\u001b[0;34m,\u001b[0m \u001b[0;34m**\u001b[0m\u001b[0mkwargs\u001b[0m\u001b[0;34m)\u001b[0m\u001b[0;34m:\u001b[0m\u001b[0;34m\u001b[0m\u001b[0;34m\u001b[0m\u001b[0m\n",
      "\u001b[0;32m~/opt/anaconda3/envs/tf2/lib/python3.7/site-packages/pandas/core/internals/managers.py\u001b[0m in \u001b[0;36minsert\u001b[0;34m(self, loc, item, value, allow_duplicates)\u001b[0m\n\u001b[1;32m   1171\u001b[0m         \u001b[0;32mif\u001b[0m \u001b[0;32mnot\u001b[0m \u001b[0mallow_duplicates\u001b[0m \u001b[0;32mand\u001b[0m \u001b[0mitem\u001b[0m \u001b[0;32min\u001b[0m \u001b[0mself\u001b[0m\u001b[0;34m.\u001b[0m\u001b[0mitems\u001b[0m\u001b[0;34m:\u001b[0m\u001b[0;34m\u001b[0m\u001b[0;34m\u001b[0m\u001b[0m\n\u001b[1;32m   1172\u001b[0m             \u001b[0;31m# Should this be a different kind of error??\u001b[0m\u001b[0;34m\u001b[0m\u001b[0;34m\u001b[0m\u001b[0;34m\u001b[0m\u001b[0m\n\u001b[0;32m-> 1173\u001b[0;31m             \u001b[0;32mraise\u001b[0m \u001b[0mValueError\u001b[0m\u001b[0;34m(\u001b[0m\u001b[0;34m\"cannot insert {}, already exists\"\u001b[0m\u001b[0;34m.\u001b[0m\u001b[0mformat\u001b[0m\u001b[0;34m(\u001b[0m\u001b[0mitem\u001b[0m\u001b[0;34m)\u001b[0m\u001b[0;34m)\u001b[0m\u001b[0;34m\u001b[0m\u001b[0;34m\u001b[0m\u001b[0m\n\u001b[0m\u001b[1;32m   1174\u001b[0m \u001b[0;34m\u001b[0m\u001b[0m\n\u001b[1;32m   1175\u001b[0m         \u001b[0;32mif\u001b[0m \u001b[0;32mnot\u001b[0m \u001b[0misinstance\u001b[0m\u001b[0;34m(\u001b[0m\u001b[0mloc\u001b[0m\u001b[0;34m,\u001b[0m \u001b[0mint\u001b[0m\u001b[0;34m)\u001b[0m\u001b[0;34m:\u001b[0m\u001b[0;34m\u001b[0m\u001b[0;34m\u001b[0m\u001b[0m\n",
      "\u001b[0;31mValueError\u001b[0m: cannot insert predictions, already exists"
     ]
    }
   ],
   "source": [
    "new_p = patient.insert(1, \"predictions\", pred_train_st)"
   ]
  },
  {
   "cell_type": "code",
   "execution_count": 91,
   "metadata": {},
   "outputs": [
    {
     "data": {
      "text/html": [
       "<div>\n",
       "<style scoped>\n",
       "    .dataframe tbody tr th:only-of-type {\n",
       "        vertical-align: middle;\n",
       "    }\n",
       "\n",
       "    .dataframe tbody tr th {\n",
       "        vertical-align: top;\n",
       "    }\n",
       "\n",
       "    .dataframe thead th {\n",
       "        text-align: right;\n",
       "    }\n",
       "</style>\n",
       "<table border=\"1\" class=\"dataframe\">\n",
       "  <thead>\n",
       "    <tr style=\"text-align: right;\">\n",
       "      <th></th>\n",
       "      <th>time</th>\n",
       "      <th>predictions</th>\n",
       "      <th>accX</th>\n",
       "      <th>accX_std</th>\n",
       "      <th>accY</th>\n",
       "      <th>accY_std</th>\n",
       "      <th>accZ</th>\n",
       "      <th>accZ_std</th>\n",
       "      <th>gyrX</th>\n",
       "      <th>gyrX_std</th>\n",
       "      <th>...</th>\n",
       "      <th>tired</th>\n",
       "      <th>period</th>\n",
       "      <th>rumination</th>\n",
       "      <th>socialize</th>\n",
       "      <th>socialize_val</th>\n",
       "      <th>sport_time</th>\n",
       "      <th>work_time</th>\n",
       "      <th>day_sleep</th>\n",
       "      <th>phq_1</th>\n",
       "      <th>phq_2</th>\n",
       "    </tr>\n",
       "  </thead>\n",
       "  <tbody>\n",
       "    <tr>\n",
       "      <td>43001</td>\n",
       "      <td>1.547367e+09</td>\n",
       "      <td>5.690581</td>\n",
       "      <td>6.54</td>\n",
       "      <td>4.76</td>\n",
       "      <td>0.34</td>\n",
       "      <td>5.69</td>\n",
       "      <td>4.46</td>\n",
       "      <td>5.69</td>\n",
       "      <td>-1.08</td>\n",
       "      <td>85.47</td>\n",
       "      <td>...</td>\n",
       "      <td>5.0</td>\n",
       "      <td>0.0</td>\n",
       "      <td>8.0</td>\n",
       "      <td>0.0</td>\n",
       "      <td>0.0</td>\n",
       "      <td>60.0</td>\n",
       "      <td>0.0</td>\n",
       "      <td>0.0</td>\n",
       "      <td>5.0</td>\n",
       "      <td>4.0</td>\n",
       "    </tr>\n",
       "    <tr>\n",
       "      <td>191389</td>\n",
       "      <td>1.567616e+09</td>\n",
       "      <td>2.852379</td>\n",
       "      <td>9.92</td>\n",
       "      <td>0.02</td>\n",
       "      <td>-0.85</td>\n",
       "      <td>0.02</td>\n",
       "      <td>0.93</td>\n",
       "      <td>0.02</td>\n",
       "      <td>-0.07</td>\n",
       "      <td>0.03</td>\n",
       "      <td>...</td>\n",
       "      <td>3.0</td>\n",
       "      <td>0.0</td>\n",
       "      <td>3.0</td>\n",
       "      <td>20.0</td>\n",
       "      <td>84.0</td>\n",
       "      <td>60.0</td>\n",
       "      <td>0.0</td>\n",
       "      <td>0.0</td>\n",
       "      <td>2.0</td>\n",
       "      <td>2.0</td>\n",
       "    </tr>\n",
       "    <tr>\n",
       "      <td>50115</td>\n",
       "      <td>1.548544e+09</td>\n",
       "      <td>4.720703</td>\n",
       "      <td>5.72</td>\n",
       "      <td>1.31</td>\n",
       "      <td>-4.46</td>\n",
       "      <td>2.57</td>\n",
       "      <td>6.76</td>\n",
       "      <td>2.57</td>\n",
       "      <td>0.84</td>\n",
       "      <td>63.10</td>\n",
       "      <td>...</td>\n",
       "      <td>4.0</td>\n",
       "      <td>1.0</td>\n",
       "      <td>4.0</td>\n",
       "      <td>38.0</td>\n",
       "      <td>68.0</td>\n",
       "      <td>0.0</td>\n",
       "      <td>0.0</td>\n",
       "      <td>0.0</td>\n",
       "      <td>5.0</td>\n",
       "      <td>3.0</td>\n",
       "    </tr>\n",
       "    <tr>\n",
       "      <td>69839</td>\n",
       "      <td>1.550468e+09</td>\n",
       "      <td>6.552510</td>\n",
       "      <td>0.81</td>\n",
       "      <td>2.43</td>\n",
       "      <td>-5.77</td>\n",
       "      <td>2.26</td>\n",
       "      <td>2.33</td>\n",
       "      <td>2.26</td>\n",
       "      <td>-0.07</td>\n",
       "      <td>32.47</td>\n",
       "      <td>...</td>\n",
       "      <td>6.0</td>\n",
       "      <td>1.0</td>\n",
       "      <td>7.0</td>\n",
       "      <td>20.0</td>\n",
       "      <td>20.0</td>\n",
       "      <td>60.0</td>\n",
       "      <td>0.0</td>\n",
       "      <td>0.0</td>\n",
       "      <td>8.0</td>\n",
       "      <td>7.0</td>\n",
       "    </tr>\n",
       "    <tr>\n",
       "      <td>155762</td>\n",
       "      <td>1.563053e+09</td>\n",
       "      <td>3.799532</td>\n",
       "      <td>-5.62</td>\n",
       "      <td>2.04</td>\n",
       "      <td>-0.16</td>\n",
       "      <td>3.67</td>\n",
       "      <td>6.84</td>\n",
       "      <td>3.67</td>\n",
       "      <td>-0.14</td>\n",
       "      <td>27.13</td>\n",
       "      <td>...</td>\n",
       "      <td>5.0</td>\n",
       "      <td>0.0</td>\n",
       "      <td>2.0</td>\n",
       "      <td>43.0</td>\n",
       "      <td>80.0</td>\n",
       "      <td>0.0</td>\n",
       "      <td>0.0</td>\n",
       "      <td>0.0</td>\n",
       "      <td>2.0</td>\n",
       "      <td>1.0</td>\n",
       "    </tr>\n",
       "    <tr>\n",
       "      <td>...</td>\n",
       "      <td>...</td>\n",
       "      <td>...</td>\n",
       "      <td>...</td>\n",
       "      <td>...</td>\n",
       "      <td>...</td>\n",
       "      <td>...</td>\n",
       "      <td>...</td>\n",
       "      <td>...</td>\n",
       "      <td>...</td>\n",
       "      <td>...</td>\n",
       "      <td>...</td>\n",
       "      <td>...</td>\n",
       "      <td>...</td>\n",
       "      <td>...</td>\n",
       "      <td>...</td>\n",
       "      <td>...</td>\n",
       "      <td>...</td>\n",
       "      <td>...</td>\n",
       "      <td>...</td>\n",
       "      <td>...</td>\n",
       "      <td>...</td>\n",
       "    </tr>\n",
       "    <tr>\n",
       "      <td>103968</td>\n",
       "      <td>1.555890e+09</td>\n",
       "      <td>4.070240</td>\n",
       "      <td>1.46</td>\n",
       "      <td>0.24</td>\n",
       "      <td>-10.16</td>\n",
       "      <td>0.40</td>\n",
       "      <td>-0.36</td>\n",
       "      <td>0.40</td>\n",
       "      <td>0.28</td>\n",
       "      <td>12.64</td>\n",
       "      <td>...</td>\n",
       "      <td>3.0</td>\n",
       "      <td>0.0</td>\n",
       "      <td>5.0</td>\n",
       "      <td>45.0</td>\n",
       "      <td>80.0</td>\n",
       "      <td>0.0</td>\n",
       "      <td>0.0</td>\n",
       "      <td>0.0</td>\n",
       "      <td>4.0</td>\n",
       "      <td>2.0</td>\n",
       "    </tr>\n",
       "    <tr>\n",
       "      <td>2200</td>\n",
       "      <td>1.542476e+09</td>\n",
       "      <td>3.360489</td>\n",
       "      <td>0.81</td>\n",
       "      <td>2.43</td>\n",
       "      <td>-5.77</td>\n",
       "      <td>2.26</td>\n",
       "      <td>2.33</td>\n",
       "      <td>2.26</td>\n",
       "      <td>-0.07</td>\n",
       "      <td>32.47</td>\n",
       "      <td>...</td>\n",
       "      <td>3.0</td>\n",
       "      <td>0.0</td>\n",
       "      <td>4.0</td>\n",
       "      <td>26.0</td>\n",
       "      <td>70.0</td>\n",
       "      <td>60.0</td>\n",
       "      <td>0.0</td>\n",
       "      <td>0.0</td>\n",
       "      <td>5.0</td>\n",
       "      <td>4.0</td>\n",
       "    </tr>\n",
       "    <tr>\n",
       "      <td>91870</td>\n",
       "      <td>1.554701e+09</td>\n",
       "      <td>5.592977</td>\n",
       "      <td>-2.45</td>\n",
       "      <td>2.99</td>\n",
       "      <td>-9.18</td>\n",
       "      <td>2.27</td>\n",
       "      <td>-0.35</td>\n",
       "      <td>2.27</td>\n",
       "      <td>-1.82</td>\n",
       "      <td>55.15</td>\n",
       "      <td>...</td>\n",
       "      <td>3.0</td>\n",
       "      <td>0.0</td>\n",
       "      <td>6.0</td>\n",
       "      <td>0.0</td>\n",
       "      <td>0.0</td>\n",
       "      <td>30.0</td>\n",
       "      <td>0.0</td>\n",
       "      <td>0.0</td>\n",
       "      <td>8.0</td>\n",
       "      <td>7.0</td>\n",
       "    </tr>\n",
       "    <tr>\n",
       "      <td>26859</td>\n",
       "      <td>1.545486e+09</td>\n",
       "      <td>3.907879</td>\n",
       "      <td>0.39</td>\n",
       "      <td>0.12</td>\n",
       "      <td>-8.21</td>\n",
       "      <td>0.46</td>\n",
       "      <td>5.72</td>\n",
       "      <td>0.46</td>\n",
       "      <td>-0.28</td>\n",
       "      <td>4.40</td>\n",
       "      <td>...</td>\n",
       "      <td>7.0</td>\n",
       "      <td>0.0</td>\n",
       "      <td>2.0</td>\n",
       "      <td>20.0</td>\n",
       "      <td>57.0</td>\n",
       "      <td>0.0</td>\n",
       "      <td>0.0</td>\n",
       "      <td>155.0</td>\n",
       "      <td>5.0</td>\n",
       "      <td>4.0</td>\n",
       "    </tr>\n",
       "    <tr>\n",
       "      <td>167269</td>\n",
       "      <td>1.564785e+09</td>\n",
       "      <td>3.908404</td>\n",
       "      <td>0.28</td>\n",
       "      <td>0.02</td>\n",
       "      <td>-6.18</td>\n",
       "      <td>0.02</td>\n",
       "      <td>7.76</td>\n",
       "      <td>0.02</td>\n",
       "      <td>-0.14</td>\n",
       "      <td>0.06</td>\n",
       "      <td>...</td>\n",
       "      <td>5.0</td>\n",
       "      <td>1.0</td>\n",
       "      <td>7.0</td>\n",
       "      <td>19.0</td>\n",
       "      <td>51.0</td>\n",
       "      <td>120.0</td>\n",
       "      <td>0.0</td>\n",
       "      <td>0.0</td>\n",
       "      <td>4.0</td>\n",
       "      <td>5.0</td>\n",
       "    </tr>\n",
       "  </tbody>\n",
       "</table>\n",
       "<p>147280 rows × 36 columns</p>\n",
       "</div>"
      ],
      "text/plain": [
       "                time  predictions  accX  accX_std   accY  accY_std  accZ  \\\n",
       "43001   1.547367e+09     5.690581  6.54      4.76   0.34      5.69  4.46   \n",
       "191389  1.567616e+09     2.852379  9.92      0.02  -0.85      0.02  0.93   \n",
       "50115   1.548544e+09     4.720703  5.72      1.31  -4.46      2.57  6.76   \n",
       "69839   1.550468e+09     6.552510  0.81      2.43  -5.77      2.26  2.33   \n",
       "155762  1.563053e+09     3.799532 -5.62      2.04  -0.16      3.67  6.84   \n",
       "...              ...          ...   ...       ...    ...       ...   ...   \n",
       "103968  1.555890e+09     4.070240  1.46      0.24 -10.16      0.40 -0.36   \n",
       "2200    1.542476e+09     3.360489  0.81      2.43  -5.77      2.26  2.33   \n",
       "91870   1.554701e+09     5.592977 -2.45      2.99  -9.18      2.27 -0.35   \n",
       "26859   1.545486e+09     3.907879  0.39      0.12  -8.21      0.46  5.72   \n",
       "167269  1.564785e+09     3.908404  0.28      0.02  -6.18      0.02  7.76   \n",
       "\n",
       "        accZ_std  gyrX  gyrX_std  ...  tired  period  rumination  socialize  \\\n",
       "43001       5.69 -1.08     85.47  ...    5.0     0.0         8.0        0.0   \n",
       "191389      0.02 -0.07      0.03  ...    3.0     0.0         3.0       20.0   \n",
       "50115       2.57  0.84     63.10  ...    4.0     1.0         4.0       38.0   \n",
       "69839       2.26 -0.07     32.47  ...    6.0     1.0         7.0       20.0   \n",
       "155762      3.67 -0.14     27.13  ...    5.0     0.0         2.0       43.0   \n",
       "...          ...   ...       ...  ...    ...     ...         ...        ...   \n",
       "103968      0.40  0.28     12.64  ...    3.0     0.0         5.0       45.0   \n",
       "2200        2.26 -0.07     32.47  ...    3.0     0.0         4.0       26.0   \n",
       "91870       2.27 -1.82     55.15  ...    3.0     0.0         6.0        0.0   \n",
       "26859       0.46 -0.28      4.40  ...    7.0     0.0         2.0       20.0   \n",
       "167269      0.02 -0.14      0.06  ...    5.0     1.0         7.0       19.0   \n",
       "\n",
       "        socialize_val  sport_time  work_time  day_sleep  phq_1  phq_2  \n",
       "43001             0.0        60.0        0.0        0.0    5.0    4.0  \n",
       "191389           84.0        60.0        0.0        0.0    2.0    2.0  \n",
       "50115            68.0         0.0        0.0        0.0    5.0    3.0  \n",
       "69839            20.0        60.0        0.0        0.0    8.0    7.0  \n",
       "155762           80.0         0.0        0.0        0.0    2.0    1.0  \n",
       "...               ...         ...        ...        ...    ...    ...  \n",
       "103968           80.0         0.0        0.0        0.0    4.0    2.0  \n",
       "2200             70.0        60.0        0.0        0.0    5.0    4.0  \n",
       "91870             0.0        30.0        0.0        0.0    8.0    7.0  \n",
       "26859            57.0         0.0        0.0      155.0    5.0    4.0  \n",
       "167269           51.0       120.0        0.0        0.0    4.0    5.0  \n",
       "\n",
       "[147280 rows x 36 columns]"
      ]
     },
     "execution_count": 91,
     "metadata": {},
     "output_type": "execute_result"
    }
   ],
   "source": [
    "patient"
   ]
  },
  {
   "cell_type": "code",
   "execution_count": 58,
   "metadata": {},
   "outputs": [],
   "source": [
    "patient = train_set_st.copy()"
   ]
  },
  {
   "cell_type": "code",
   "execution_count": 68,
   "metadata": {},
   "outputs": [
    {
     "data": {
      "text/plain": [
       "Index(['time', 'accX', 'accX_std', 'accY', 'accY_std', 'accZ', 'accZ_std',\n",
       "       'gyrX', 'gyrX_std', 'gyrY', 'gyrY_std', 'gyrZ', 'gyrZ_std', 'heartR',\n",
       "       'heartR_std', 'AirTemperature', 'AT_std', 'AirPressure', 'AP_std',\n",
       "       'PlethysmogramGreen', 'ple_std', 'alc', 'cig', 'mood', 'tense', 'tired',\n",
       "       'period', 'rumination', 'socialize', 'socialize_val', 'sport_time',\n",
       "       'work_time', 'day_sleep', 'phq_1', 'phq_2'],\n",
       "      dtype='object')"
      ]
     },
     "execution_count": 68,
     "metadata": {},
     "output_type": "execute_result"
    }
   ],
   "source": [
    "patient.columns"
   ]
  },
  {
   "cell_type": "code",
   "execution_count": 64,
   "metadata": {},
   "outputs": [
    {
     "data": {
      "text/plain": [
       "<matplotlib.axes._subplots.AxesSubplot at 0x118a90b00>"
      ]
     },
     "execution_count": 64,
     "metadata": {},
     "output_type": "execute_result"
    },
    {
     "data": {
      "image/png": "[encoded data removed]",
      "text/plain": [
       "<Figure size 720x504 with 1 Axes>"
      ]
     },
     "metadata": {
      "needs_background": "light"
     },
     "output_type": "display_data"
    }
   ],
   "source": [
    "patient.plot(kind='scatter', x='phq_1', y='mood', figsize=(10,7))"
   ]
  },
  {
   "cell_type": "code",
   "execution_count": 66,
   "metadata": {},
   "outputs": [
    {
     "data": {
      "text/plain": [
       "<matplotlib.axes._subplots.AxesSubplot at 0x118ead898>"
      ]
     },
     "execution_count": 66,
     "metadata": {},
     "output_type": "execute_result"
    },
    {
     "data": {
      "image/png": "[encoded data removed]",
      "text/plain": [
       "<Figure size 720x504 with 2 Axes>"
      ]
     },
     "metadata": {
      "needs_background": "light"
     },
     "output_type": "display_data"
    }
   ],
   "source": [
    "from matplotlib import pyplot\n",
    "\n",
    "patient.plot(kind='scatter', x='rumination', y='mood', s=patient['phq_1'], label='depression degree', \n",
    "             c='phq_1', cmap=pyplot.get_cmap('jet'), colorbar=True, figsize=(10,7), sharex=False)"
   ]
  },
  {
   "cell_type": "code",
   "execution_count": 83,
   "metadata": {},
   "outputs": [
    {
     "data": {
      "text/plain": [
       "<matplotlib.axes._subplots.AxesSubplot at 0x1346c8b00>"
      ]
     },
     "execution_count": 83,
     "metadata": {},
     "output_type": "execute_result"
    },
    {
     "data": {
      "image/png": "[encoded data removed]",
      "text/plain": [
       "<Figure size 720x504 with 2 Axes>"
      ]
     },
     "metadata": {
      "needs_background": "light"
     },
     "output_type": "display_data"
    }
   ],
   "source": [
    "patient.plot(kind='scatter', x='rumination', y='tired', s=patient['phq_1'], label='depression degree', \n",
    "             c='phq_1', cmap=pyplot.get_cmap('jet'), colorbar=True, figsize=(10,7), sharex=False)"
   ]
  },
  {
   "cell_type": "code",
   "execution_count": 93,
   "metadata": {},
   "outputs": [
    {
     "data": {
      "text/plain": [
       "<matplotlib.axes._subplots.AxesSubplot at 0x13d5292b0>"
      ]
     },
     "execution_count": 93,
     "metadata": {},
     "output_type": "execute_result"
    },
    {
     "data": {
      "image/png": "[encoded data removed]",
      "text/plain": [
       "<Figure size 720x504 with 2 Axes>"
      ]
     },
     "metadata": {
      "needs_background": "light"
     },
     "output_type": "display_data"
    }
   ],
   "source": [
    "patient.plot(kind='scatter', x='rumination', y='tired', s=patient['predictions'], label='depression degree', \n",
    "             c='predictions', cmap=pyplot.get_cmap('jet'), colorbar=True, figsize=(10,7), sharex=False)"
   ]
  },
  {
   "cell_type": "code",
   "execution_count": 62,
   "metadata": {},
   "outputs": [],
   "source": [
    "corr_matrix = patient.corr()"
   ]
  },
  {
   "cell_type": "code",
   "execution_count": 63,
   "metadata": {},
   "outputs": [
    {
     "data": {
      "text/plain": [
       "phq_1                 1.000000\n",
       "phq_2                 0.652304\n",
       "rumination            0.504079\n",
       "day_sleep             0.159071\n",
       "cig                   0.025054\n",
       "tired                 0.016711\n",
       "accY_std              0.013757\n",
       "accZ_std              0.013757\n",
       "heartR_std            0.013188\n",
       "ple_std               0.012004\n",
       "AP_std                0.011290\n",
       "accZ                  0.005013\n",
       "accX_std              0.004328\n",
       "AT_std                0.001756\n",
       "AirPressure          -0.000995\n",
       "PlethysmogramGreen   -0.003086\n",
       "heartR               -0.004042\n",
       "gyrX                 -0.009207\n",
       "gyrY_std             -0.016490\n",
       "accX                 -0.021281\n",
       "gyrZ                 -0.024106\n",
       "gyrX_std             -0.027640\n",
       "period               -0.029244\n",
       "gyrZ_std             -0.031487\n",
       "gyrY                 -0.035639\n",
       "accY                 -0.044889\n",
       "alc                  -0.120043\n",
       "socialize            -0.173265\n",
       "tense                -0.189985\n",
       "AirTemperature       -0.193887\n",
       "sport_time           -0.248062\n",
       "socialize_val        -0.360012\n",
       "time                 -0.490948\n",
       "mood                 -0.580547\n",
       "work_time                  NaN\n",
       "Name: phq_1, dtype: float64"
      ]
     },
     "execution_count": 63,
     "metadata": {},
     "output_type": "execute_result"
    }
   ],
   "source": [
    "corr_matrix['phq_1'].sort_values(ascending=False)"
   ]
  },
  {
   "cell_type": "code",
   "execution_count": null,
   "metadata": {},
   "outputs": [],
   "source": []
  },
  {
   "cell_type": "code",
   "execution_count": null,
   "metadata": {},
   "outputs": [],
   "source": []
  },
  {
   "cell_type": "code",
   "execution_count": 74,
   "metadata": {},
   "outputs": [],
   "source": [
    "socialise_scaled = scaler_st.fit_transform(test_set_st[['socialize']])\n",
    "socialize_val_scaled = scaler_st.fit_transform(test_set_st[['socialize_val']])\n",
    "work_time_scaled = scaler_st.fit_transform(test_set_st[['work_time']])\n",
    "mood_scaled = scaler_st.fit_transform(test_set_st[['mood']])\n",
    "tense_scaled = scaler_st.fit_transform(test_set_st[['tense']])\n",
    "rumination_scaled = scaler_st.fit_transform(test_set_st[['rumination']])"
   ]
  },
  {
   "cell_type": "code",
   "execution_count": 70,
   "metadata": {},
   "outputs": [],
   "source": [
    "time_sorted = time_st_test\n",
    "time_sorted.sort()"
   ]
  },
  {
   "cell_type": "code",
   "execution_count": 81,
   "metadata": {},
   "outputs": [
    {
     "data": {
      "text/plain": [
       "<matplotlib.legend.Legend at 0x134536940>"
      ]
     },
     "execution_count": 81,
     "metadata": {},
     "output_type": "execute_result"
    },
    {
     "data": {
      "image/png": "[encoded data removed]",
      "text/plain": [
       "<Figure size 1620x450 with 1 Axes>"
      ]
     },
     "metadata": {},
     "output_type": "display_data"
    }
   ],
   "source": [
    "%matplotlib inline\n",
    "s = 1000\n",
    "e = 1100\n",
    "xaxis = time_sorted[s:e]\n",
    "yaxis = y_test_st_1[s:e]\n",
    "yaxis2 = pred_test_st[s:e]\n",
    "yaxis3 = socialise_scaled[s:e]\n",
    "yaxis4 = socialize_val_scaled[s:e]\n",
    "yaxis5 = work_time_scaled[s:e]\n",
    "yaxis6 = mood_scaled[s:e]\n",
    "yaxis7 = tense_scaled[s:e]\n",
    "yaxis8 = rumination_scaled[s:e]\n",
    "# avg = p[['phq_1', 'phq_2']].mean(axis=1)\n",
    "fig=pyplot.figure(figsize=(18, 5), dpi= 90, facecolor='w', edgecolor='k')\n",
    "pyplot.plot(xaxis, yaxis, color='red', label='phq_1')\n",
    "# pyplot.plot(xaxis, yaxis2, color='blue', label='prediction')\n",
    "# pyplot.plot(xaxis, yaxis3, color='green', label='socialize')\n",
    "# pyplot.plot(xaxis, yaxis4, color='cyan', label='socialize_val')\n",
    "# pyplot.plot(xaxis, yaxis5, color='magenta', label='sport_time')\n",
    "pyplot.plot(xaxis, yaxis6, color='black', label='mood')\n",
    "# pyplot.plot(xaxis, yaxis7, color='blue', label='tense')\n",
    "# pyplot.plot(xaxis, yaxis8, color='blue', label='rumination')\n",
    "# plt.ylabel('some numbers')\n",
    "pyplot.xlabel('time')\n",
    "\n",
    "pyplot.legend()\n",
    "# pyplot.plot(xaxis, avg, color='green', label='avg')"
   ]
  },
  {
   "cell_type": "code",
   "execution_count": 77,
   "metadata": {},
   "outputs": [
    {
     "data": {
      "text/plain": [
       "<matplotlib.legend.Legend at 0x1181acda0>"
      ]
     },
     "execution_count": 77,
     "metadata": {},
     "output_type": "execute_result"
    },
    {
     "data": {
      "image/png": "[encoded data removed]",
      "text/plain": [
       "<Figure size 1620x450 with 1 Axes>"
      ]
     },
     "metadata": {},
     "output_type": "display_data"
    }
   ],
   "source": [
    "from matplotlib import pyplot\n",
    "%matplotlib inline\n",
    "xaxis = time_st_test[:100]\n",
    "yaxis = y_test_st_1[:100]\n",
    "yaxis2 = pred_test_st[:100]\n",
    "# avg = p[['phq_1', 'phq_2']].mean(axis=1)\n",
    "fig=pyplot.figure(figsize=(18, 5), dpi= 90, facecolor='w', edgecolor='k')\n",
    "pyplot.plot(xaxis, yaxis, color='red', label='phq_1')\n",
    "pyplot.plot(xaxis, yaxis2, color='blue', label='prediction')\n",
    "pyplot.legend()\n",
    "# pyplot.plot(xaxis, avg, color='green', label='avg')"
   ]
  },
  {
   "cell_type": "code",
   "execution_count": 82,
   "metadata": {},
   "outputs": [
    {
     "data": {
      "text/plain": [
       "31"
      ]
     },
     "execution_count": 82,
     "metadata": {},
     "output_type": "execute_result"
    }
   ],
   "source": [
    "len(X_train_st.columns)"
   ]
  },
  {
   "cell_type": "code",
   "execution_count": null,
   "metadata": {},
   "outputs": [],
   "source": []
  }
 ],
 "metadata": {
  "kernelspec": {
   "display_name": "Python 3",
   "language": "python",
   "name": "python3"
  },
  "language_info": {
   "codemirror_mode": {
    "name": "ipython",
    "version": 3
   },
   "file_extension": ".py",
   "mimetype": "text/x-python",
   "name": "python",
   "nbconvert_exporter": "python",
   "pygments_lexer": "ipython3",
   "version": "3.7.3"
  }
 },
 "nbformat": 4,
 "nbformat_minor": 2
}
