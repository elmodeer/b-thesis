{
 "cells": [
  {
   "cell_type": "code",
   "execution_count": 1,
   "metadata": {},
   "outputs": [],
   "source": [
    "import pandas as pd\n",
    "from csvCreator import get_readable_date\n",
    "import numpy as np"
   ]
  },
  {
   "cell_type": "code",
   "execution_count": 2,
   "metadata": {},
   "outputs": [],
   "source": [
    "def to_evenly_spaced(df):\n",
    "    df.drop(['phq_2'], axis=1, inplace=True)\n",
    "    date = df['time'].apply(lambda x: get_readable_date(x))\n",
    "    df.insert(loc=1, column='date', value=date)\n",
    "    median = np.trunc(df.groupby('date').size().median())\n",
    "    df.drop(['date'], axis=1, inplace=True)\n",
    "    day = np.trunc(len(df.index) / median)\n",
    "    new_last_index = int(median * day)\n",
    "\n",
    "    even_time = []\n",
    "    firs_time = df[['time']].iloc[1].values.item()\n",
    "    for i in range(len(df.index)):\n",
    "        even_time.append(firs_time)\n",
    "        firs_time += 60\n",
    "    df.drop(['time'], axis=1, inplace=True)\n",
    "#     df.insert(loc=0, column='time', value=even_time)\n",
    "    df = df.iloc[:new_last_index]\n",
    "    return df, int(median)"
   ]
  },
  {
   "cell_type": "code",
   "execution_count": 3,
   "metadata": {},
   "outputs": [],
   "source": [
    "def generator(data, look_b, delay, min_index, max_index,\n",
    "              shuffle=False, batch_size=128, step=6):\n",
    "    if max_index is None:\n",
    "        max_index = len(data) - delay - 1\n",
    "    i = min_index + look_b\n",
    "    while 1:\n",
    "        if shuffle:\n",
    "            rows = np.random.randint(\n",
    "                min_index + look_b, max_index, size=batch_size)\n",
    "        else:\n",
    "            if i + batch_size >= max_index:\n",
    "                i = min_index + look_b\n",
    "            rows = np.arange(i, min(i + batch_size, max_index))\n",
    "            i += len(rows)\n",
    "\n",
    "        samples = np.zeros((len(rows),\n",
    "                           look_b // step,\n",
    "                           data.shape[-1]))\n",
    "        targets = np.zeros((len(rows),))\n",
    "        for j, row in enumerate(rows):\n",
    "            indices = range(rows[j] - look_b, rows[j], step)\n",
    "            samples[j] = data[indices]\n",
    "            targets[j] = data[rows[j] + delay][-1]\n",
    "        yield samples, targets\n"
   ]
  },
  {
   "cell_type": "code",
   "execution_count": 8,
   "metadata": {},
   "outputs": [],
   "source": [
    "output_path = '/Volumes/hex/ST-1233329802-res/'\n",
    "p_802 = pd.read_csv(output_path + 'ST-1233329802_3.0.csv')\n",
    "\n",
    "# just numerical data\n",
    "p_802 = p_802.drop(['date', 'window'], axis=1)\n",
    "p_802, median = to_evenly_spaced(p_802)"
   ]
  },
  {
   "cell_type": "code",
   "execution_count": 9,
   "metadata": {},
   "outputs": [
    {
     "data": {
      "text/plain": [
       "452"
      ]
     },
     "execution_count": 9,
     "metadata": {},
     "output_type": "execute_result"
    }
   ],
   "source": [
    "median"
   ]
  },
  {
   "cell_type": "code",
   "execution_count": 11,
   "metadata": {},
   "outputs": [
    {
     "data": {
      "text/plain": [
       "array([-2.63000000e+00,  5.72000000e+00, -6.09000000e+00,  3.42000000e+00,\n",
       "        2.21000000e+00,  3.42000000e+00, -3.86000000e+00,  7.98500000e+01,\n",
       "       -3.27000000e+00,  4.65300000e+01, -5.00000000e-01,  5.90300000e+01,\n",
       "        5.87800000e+01,  4.35000000e+01,  2.86700000e+01,  5.80000000e-01,\n",
       "        2.16527705e+06,  5.04679500e+05,  2.00000000e+00,  4.00000000e+00,\n",
       "        1.00000000e+00,  4.00000000e+00,  3.70000000e+01,  4.90000000e+01,\n",
       "        2.40000000e+02,  8.00000000e+00])"
      ]
     },
     "execution_count": 11,
     "metadata": {},
     "output_type": "execute_result"
    }
   ],
   "source": [
    "float_data = p_802.to_numpy()\n",
    "\n",
    "float_data[0]"
   ]
  },
  {
   "cell_type": "code",
   "execution_count": 12,
   "metadata": {},
   "outputs": [],
   "source": [
    "\n",
    "# first 200 days as training\n",
    "mean = float_data[:90400].mean(axis=0)\n",
    "float_data -= mean\n",
    "std = float_data[:90400].std(axis=0)\n",
    "float_data /= std"
   ]
  },
  {
   "cell_type": "code",
   "execution_count": 13,
   "metadata": {},
   "outputs": [
    {
     "data": {
      "text/plain": [
       "array([-1.22544612,  5.71048722, -0.6541132 ,  2.98587402, -0.21903021,\n",
       "        2.98587402, -7.75446454,  6.0399647 , -9.30654744,  6.05167197,\n",
       "       -1.92787682,  6.82925229, -1.37115884, 19.05504734, -2.70913572,\n",
       "       -2.04544979, -2.10834643,  0.07319007, -0.26389235,  1.28103953,\n",
       "       -0.45232897, -0.38280431, -0.19601194, -1.24393266,  1.37002538,\n",
       "       -0.84318036])"
      ]
     },
     "execution_count": 13,
     "metadata": {},
     "output_type": "execute_result"
    }
   ],
   "source": [
    "float_data[0]"
   ]
  },
  {
   "cell_type": "code",
   "execution_count": 62,
   "metadata": {},
   "outputs": [],
   "source": [
    "# assume each day got 408 value (average value) that means 17 value per Hour.\n",
    "# most probably will be 3\n",
    "step = int(np.trunc(60 / (median / 24)))\n",
    "# observations will look back 7 days (average)\n",
    "look_back = step * 7 * 24\n",
    "delay = 24 * step\n",
    "\n",
    "# one day\n",
    "batch_size = median"
   ]
  },
  {
   "cell_type": "code",
   "execution_count": 57,
   "metadata": {},
   "outputs": [],
   "source": [
    "# step = 1"
   ]
  },
  {
   "cell_type": "code",
   "execution_count": 63,
   "metadata": {},
   "outputs": [],
   "source": [
    "train_gen = generator(float_data,\n",
    "                      look_b=look_back,\n",
    "                      delay=delay,\n",
    "                      min_index=0,\n",
    "                      max_index=90400,\n",
    "                      shuffle=True,\n",
    "                      step=step,\n",
    "                      batch_size=batch_size)\n",
    "val_gen = generator(float_data,\n",
    "                    look_b=look_back,\n",
    "                    delay=delay,\n",
    "                    min_index=90401,\n",
    "                    max_index=108480,\n",
    "                    step=step,\n",
    "                    batch_size=batch_size)\n",
    "test_gen = generator(float_data,\n",
    "                     look_b=look_back,\n",
    "                     delay=delay,\n",
    "                     min_index=108481,\n",
    "                     max_index=None,\n",
    "                     step=step,\n",
    "                     batch_size=batch_size)\n"
   ]
  },
  {
   "cell_type": "code",
   "execution_count": 33,
   "metadata": {},
   "outputs": [
    {
     "data": {
      "text/plain": [
       "200"
      ]
     },
     "execution_count": 33,
     "metadata": {},
     "output_type": "execute_result"
    }
   ],
   "source": [
    "# val_steps = (108480 - 90401 - look_back)\n",
    "test_steps = (122040 - 108481)//batch_size\n",
    "val_steps = (108480 - 90400)//batch_size\n",
    "per_epoch =90400//batch_size\n",
    "per_epoch"
   ]
  },
  {
   "cell_type": "code",
   "execution_count": 34,
   "metadata": {},
   "outputs": [
    {
     "data": {
      "text/plain": [
       "40"
      ]
     },
     "execution_count": 34,
     "metadata": {},
     "output_type": "execute_result"
    }
   ],
   "source": [
    "val_steps"
   ]
  },
  {
   "cell_type": "code",
   "execution_count": 35,
   "metadata": {},
   "outputs": [
    {
     "data": {
      "text/plain": [
       "29"
      ]
     },
     "execution_count": 35,
     "metadata": {},
     "output_type": "execute_result"
    }
   ],
   "source": [
    "test_steps"
   ]
  },
  {
   "cell_type": "code",
   "execution_count": 36,
   "metadata": {},
   "outputs": [],
   "source": [
    "def evaluate_naive_model():\n",
    "    batch_maes = []\n",
    "    for step in range(val_steps):\n",
    "        samples, targets = next(val_gen)\n",
    "        preds = samples[:, -1, 1]\n",
    "        mae = np.mean(np.abs(preds - targets))\n",
    "        batch_maes.append(mae)\n",
    "    print(np.mean(batch_maes))"
   ]
  },
  {
   "cell_type": "code",
   "execution_count": 37,
   "metadata": {},
   "outputs": [
    {
     "name": "stdout",
     "output_type": "stream",
     "text": [
      "1.1697381923894958\n"
     ]
    }
   ],
   "source": [
    "evaluate_naive_model()\n",
    "# = 1.16"
   ]
  },
  {
   "cell_type": "code",
   "execution_count": 44,
   "metadata": {},
   "outputs": [
    {
     "data": {
      "text/plain": [
       "40.0"
      ]
     },
     "execution_count": 44,
     "metadata": {},
     "output_type": "execute_result"
    }
   ],
   "source": [
    "temp"
   ]
  },
  {
   "cell_type": "markdown",
   "metadata": {},
   "source": [
    "# One GRU layer Model"
   ]
  },
  {
   "cell_type": "code",
   "execution_count": 38,
   "metadata": {},
   "outputs": [],
   "source": [
    "from tensorflow.keras.models import Sequential\n",
    "from tensorflow.keras import layers\n",
    "from tensorflow.keras.optimizers import RMSprop"
   ]
  },
  {
   "cell_type": "code",
   "execution_count": 39,
   "metadata": {},
   "outputs": [
    {
     "name": "stdout",
     "output_type": "stream",
     "text": [
      "Train for 200 steps, validate for 40.0 steps\n",
      "Epoch 1/20\n",
      "200/200 [==============================] - 64s 322ms/step - loss: 0.2293 - val_loss: 0.1935\n",
      "Epoch 2/20\n",
      "200/200 [==============================] - 62s 308ms/step - loss: 0.1416 - val_loss: 0.1932\n",
      "Epoch 3/20\n",
      "200/200 [==============================] - 61s 303ms/step - loss: 0.1320 - val_loss: 0.1812\n",
      "Epoch 4/20\n",
      "200/200 [==============================] - 61s 307ms/step - loss: 0.1263 - val_loss: 0.1765\n",
      "Epoch 5/20\n",
      "200/200 [==============================] - 60s 301ms/step - loss: 0.1251 - val_loss: 0.1843\n",
      "Epoch 6/20\n",
      "200/200 [==============================] - 60s 298ms/step - loss: 0.1235 - val_loss: 0.1658\n",
      "Epoch 7/20\n",
      "200/200 [==============================] - 63s 314ms/step - loss: 0.1196 - val_loss: 0.1648\n",
      "Epoch 8/20\n",
      "200/200 [==============================] - 60s 301ms/step - loss: 0.1204 - val_loss: 0.1733\n",
      "Epoch 9/20\n",
      "200/200 [==============================] - 59s 295ms/step - loss: 0.1198 - val_loss: 0.1636\n",
      "Epoch 10/20\n",
      "200/200 [==============================] - 57s 286ms/step - loss: 0.1208 - val_loss: 0.1648\n",
      "Epoch 11/20\n",
      "200/200 [==============================] - 56s 282ms/step - loss: 0.1168 - val_loss: 0.1715\n",
      "Epoch 12/20\n",
      "200/200 [==============================] - 68s 340ms/step - loss: 0.1178 - val_loss: 0.1591\n",
      "Epoch 13/20\n",
      "200/200 [==============================] - 65s 326ms/step - loss: 0.1153 - val_loss: 0.1622\n",
      "Epoch 14/20\n",
      "200/200 [==============================] - 61s 304ms/step - loss: 0.1162 - val_loss: 0.1619\n",
      "Epoch 15/20\n",
      "200/200 [==============================] - 60s 298ms/step - loss: 0.1163 - val_loss: 0.1582\n",
      "Epoch 16/20\n",
      "200/200 [==============================] - 62s 308ms/step - loss: 0.1142 - val_loss: 0.1574\n",
      "Epoch 17/20\n",
      "200/200 [==============================] - 63s 316ms/step - loss: 0.1156 - val_loss: 0.1601\n",
      "Epoch 18/20\n",
      "200/200 [==============================] - 61s 305ms/step - loss: 0.1119 - val_loss: 0.1588\n",
      "Epoch 19/20\n",
      "200/200 [==============================] - 63s 316ms/step - loss: 0.1163 - val_loss: 0.1586\n",
      "Epoch 20/20\n",
      "200/200 [==============================] - 60s 298ms/step - loss: 0.1133 - val_loss: 0.1604\n"
     ]
    }
   ],
   "source": [
    "model = Sequential()\n",
    "model.add(layers.GRU(32, input_shape=(None, float_data.shape[-1])))\n",
    "model.add(layers.Dense(1))\n",
    "\n",
    "model.compile(optimzer=RMSprop(), loss='mae')\n",
    "history = model.fit(train_gen,\n",
    "                    steps_per_epoch=per_epoch,\n",
    "                    epochs=20,\n",
    "                    validation_data=val_gen,\n",
    "                    validation_steps=temp)\n"
   ]
  },
  {
   "cell_type": "code",
   "execution_count": 68,
   "metadata": {},
   "outputs": [],
   "source": [
    "model.save('model_1.h5') "
   ]
  },
  {
   "cell_type": "code",
   "execution_count": 41,
   "metadata": {},
   "outputs": [
    {
     "data": {
      "image/png": "[encoded data removed]",
      "text/plain": [
       "<Figure size 432x288 with 1 Axes>"
      ]
     },
     "metadata": {
      "needs_background": "light"
     },
     "output_type": "display_data"
    }
   ],
   "source": [
    "import matplotlib.pyplot as plt\n",
    "loss = history.history['loss']\n",
    "val_loss = history.history['val_loss']\n",
    "\n",
    "epochs = range(1, len(loss) + 1)\n",
    "plt.figure()\n",
    "\n",
    "plt.plot(epochs, loss, 'bo', label='Training loss')\n",
    "plt.plot(epochs, val_loss, 'b', label='Validation loss')\n",
    "plt.title('Training and validation loss')\n",
    "plt.legend()\n",
    "plt.show()"
   ]
  },
  {
   "cell_type": "markdown",
   "metadata": {},
   "source": [
    "# 1D convenet"
   ]
  },
  {
   "cell_type": "code",
   "execution_count": 42,
   "metadata": {},
   "outputs": [
    {
     "name": "stdout",
     "output_type": "stream",
     "text": [
      "Train for 500 steps, validate for 40.0 steps\n",
      "Epoch 1/20\n",
      "500/500 [==============================] - 55s 110ms/step - loss: 0.3315 - val_loss: 0.5216\n",
      "Epoch 2/20\n",
      "500/500 [==============================] - 56s 113ms/step - loss: 0.1992 - val_loss: 0.5367\n",
      "Epoch 3/20\n",
      "500/500 [==============================] - 52s 103ms/step - loss: 0.1644 - val_loss: 0.5677\n",
      "Epoch 4/20\n",
      "500/500 [==============================] - 53s 107ms/step - loss: 0.1420 - val_loss: 0.5722\n",
      "Epoch 5/20\n",
      "500/500 [==============================] - 55s 109ms/step - loss: 0.1268 - val_loss: 0.5646\n",
      "Epoch 6/20\n",
      "500/500 [==============================] - 58s 116ms/step - loss: 0.1155 - val_loss: 0.5678\n",
      "Epoch 7/20\n",
      "500/500 [==============================] - 54s 109ms/step - loss: 0.1068 - val_loss: 0.5746\n",
      "Epoch 8/20\n",
      "500/500 [==============================] - 57s 113ms/step - loss: 0.1006 - val_loss: 0.5727\n",
      "Epoch 9/20\n",
      "500/500 [==============================] - 55s 110ms/step - loss: 0.0955 - val_loss: 0.5862\n",
      "Epoch 10/20\n",
      "500/500 [==============================] - 55s 110ms/step - loss: 0.0900 - val_loss: 0.5907\n",
      "Epoch 11/20\n",
      "500/500 [==============================] - 55s 109ms/step - loss: 0.0857 - val_loss: 0.5951\n",
      "Epoch 12/20\n",
      "500/500 [==============================] - 54s 109ms/step - loss: 0.0819 - val_loss: 0.6027\n",
      "Epoch 13/20\n",
      "500/500 [==============================] - 55s 109ms/step - loss: 0.0781 - val_loss: 0.5660\n",
      "Epoch 14/20\n",
      "500/500 [==============================] - 55s 110ms/step - loss: 0.0754 - val_loss: 0.5898\n",
      "Epoch 15/20\n",
      "500/500 [==============================] - 60s 120ms/step - loss: 0.0729 - val_loss: 0.6121\n",
      "Epoch 16/20\n",
      "500/500 [==============================] - 58s 115ms/step - loss: 0.0702 - val_loss: 0.6009\n",
      "Epoch 17/20\n",
      "500/500 [==============================] - 56s 111ms/step - loss: 0.0676 - val_loss: 0.5681\n",
      "Epoch 18/20\n",
      "500/500 [==============================] - 55s 111ms/step - loss: 0.0655 - val_loss: 0.5452\n",
      "Epoch 19/20\n",
      "500/500 [==============================] - 56s 111ms/step - loss: 0.0638 - val_loss: 0.5934\n",
      "Epoch 20/20\n",
      "500/500 [==============================] - 58s 116ms/step - loss: 0.0615 - val_loss: 0.5834\n"
     ]
    }
   ],
   "source": [
    "model_2 = Sequential()\n",
    "model_2.add(layers.Conv1D(32, 5, activation='relu',\n",
    "                        input_shape=(None, float_data.shape[-1])))\n",
    "model_2.add(layers.MaxPooling1D(3))\n",
    "model_2.add(layers.Conv1D(32, 5, activation='relu'))\n",
    "model_2.add(layers.MaxPooling1D(3))\n",
    "model_2.add(layers.Conv1D(32, 5, activation='relu'))\n",
    "model_2.add(layers.GlobalMaxPooling1D())\n",
    "model_2.add(layers.Dense(1))\n",
    "\n",
    "model_2.compile(optimizer=RMSprop(), loss='mae')\n",
    "history_2 = model_2.fit(train_gen,\n",
    "                        steps_per_epoch=500,\n",
    "                        epochs=20,\n",
    "                        validation_data=val_gen,\n",
    "                        validation_steps=temp)"
   ]
  },
  {
   "cell_type": "code",
   "execution_count": 69,
   "metadata": {},
   "outputs": [],
   "source": [
    "model.save('model_2.h5') "
   ]
  },
  {
   "cell_type": "code",
   "execution_count": 43,
   "metadata": {},
   "outputs": [
    {
     "data": {
      "image/png": "[encoded data removed]",
      "text/plain": [
       "<Figure size 432x288 with 1 Axes>"
      ]
     },
     "metadata": {
      "needs_background": "light"
     },
     "output_type": "display_data"
    }
   ],
   "source": [
    "import matplotlib.pyplot as plt\n",
    "loss = history_2.history['loss']\n",
    "val_loss = history_2.history['val_loss']\n",
    "\n",
    "epochs = range(1, len(loss) + 1)\n",
    "plt.figure()\n",
    "\n",
    "plt.plot(epochs, loss, 'bo', label='Training loss')\n",
    "plt.plot(epochs, val_loss, 'b', label='Validation loss')\n",
    "plt.title('Training and validation loss')\n",
    "plt.legend()\n",
    "plt.show()"
   ]
  },
  {
   "cell_type": "markdown",
   "metadata": {},
   "source": [
    "# 1D convnet and GRU model"
   ]
  },
  {
   "cell_type": "code",
   "execution_count": 45,
   "metadata": {},
   "outputs": [
    {
     "name": "stdout",
     "output_type": "stream",
     "text": [
      "Model: \"sequential_5\"\n",
      "_________________________________________________________________\n",
      "Layer (type)                 Output Shape              Param #   \n",
      "=================================================================\n",
      "conv1d_3 (Conv1D)            (None, None, 32)          4192      \n",
      "_________________________________________________________________\n",
      "max_pooling1d_2 (MaxPooling1 (None, None, 32)          0         \n",
      "_________________________________________________________________\n",
      "conv1d_4 (Conv1D)            (None, None, 32)          5152      \n",
      "_________________________________________________________________\n",
      "gru_4 (GRU)                  (None, 32)                6336      \n",
      "_________________________________________________________________\n",
      "dense_5 (Dense)              (None, 1)                 33        \n",
      "=================================================================\n",
      "Total params: 15,713\n",
      "Trainable params: 15,713\n",
      "Non-trainable params: 0\n",
      "_________________________________________________________________\n",
      "Train for 500 steps, validate for 40.0 steps\n",
      "Epoch 1/20\n",
      "500/500 [==============================] - 115s 230ms/step - loss: 74.5987 - val_loss: 0.4986\n",
      "Epoch 2/20\n",
      "500/500 [==============================] - 103s 206ms/step - loss: 0.3197 - val_loss: 0.2924\n",
      "Epoch 3/20\n",
      "500/500 [==============================] - 103s 207ms/step - loss: 0.1968 - val_loss: 0.2535\n",
      "Epoch 4/20\n",
      "500/500 [==============================] - 104s 208ms/step - loss: 0.2562 - val_loss: 0.2726\n",
      "Epoch 5/20\n",
      "500/500 [==============================] - 104s 207ms/step - loss: 0.1871 - val_loss: 0.2568\n",
      "Epoch 6/20\n",
      "500/500 [==============================] - 103s 207ms/step - loss: 0.1700 - val_loss: 0.2488\n",
      "Epoch 7/20\n",
      "500/500 [==============================] - 107s 214ms/step - loss: 0.1454 - val_loss: 0.2748\n",
      "Epoch 8/20\n",
      "500/500 [==============================] - 104s 208ms/step - loss: 0.1583 - val_loss: 0.2878\n",
      "Epoch 9/20\n",
      "500/500 [==============================] - 109s 218ms/step - loss: 0.1789 - val_loss: 0.2687\n",
      "Epoch 10/20\n",
      "500/500 [==============================] - 106s 212ms/step - loss: 0.1310 - val_loss: 0.2752\n",
      "Epoch 11/20\n",
      "500/500 [==============================] - 104s 209ms/step - loss: 0.1479 - val_loss: 0.2866\n",
      "Epoch 12/20\n",
      "500/500 [==============================] - 105s 210ms/step - loss: 0.1738 - val_loss: 0.2897\n",
      "Epoch 13/20\n",
      "500/500 [==============================] - 106s 211ms/step - loss: 0.1247 - val_loss: 0.3027\n",
      "Epoch 14/20\n",
      "500/500 [==============================] - 104s 209ms/step - loss: 0.1779 - val_loss: 0.3020\n",
      "Epoch 15/20\n",
      "500/500 [==============================] - 105s 209ms/step - loss: 0.2449 - val_loss: 0.3199\n",
      "Epoch 16/20\n",
      "500/500 [==============================] - 104s 208ms/step - loss: 0.1025 - val_loss: 0.3178\n",
      "Epoch 17/20\n",
      "500/500 [==============================] - 103s 206ms/step - loss: 0.1729 - val_loss: 0.3051\n",
      "Epoch 18/20\n",
      "500/500 [==============================] - 107s 214ms/step - loss: 3.6875 - val_loss: 0.3097\n",
      "Epoch 19/20\n",
      "500/500 [==============================] - 104s 208ms/step - loss: 0.0910 - val_loss: 0.3549\n",
      "Epoch 20/20\n",
      "500/500 [==============================] - 104s 208ms/step - loss: 0.0886 - val_loss: 0.3200\n"
     ]
    }
   ],
   "source": [
    "\n",
    "model_3 = Sequential()\n",
    "model_3.add(layers.Conv1D(32, 5, activation='relu',\n",
    "                          input_shape=(None, float_data.shape[-1])))\n",
    "model_3.add(layers.MaxPooling1D(3))\n",
    "model_3.add(layers.Conv1D(32, 5, activation='relu'))\n",
    "model_3.add(layers.GRU(32, dropout=0.1, recurrent_dropout=0.3))\n",
    "model_3.add(layers.Dense(1))\n",
    "\n",
    "model_3.summary()\n",
    "model_3.compile(optimizer=RMSprop(), loss='mae')\n",
    "history_3 = model_3.fit(train_gen,\n",
    "                        steps_per_epoch=500,\n",
    "                        epochs=20,\n",
    "                        validation_data=val_gen,\n",
    "                        validation_steps=temp)"
   ]
  },
  {
   "cell_type": "code",
   "execution_count": 70,
   "metadata": {},
   "outputs": [],
   "source": [
    "model.save('model_3.h5') "
   ]
  },
  {
   "cell_type": "code",
   "execution_count": 51,
   "metadata": {},
   "outputs": [
    {
     "data": {
      "image/png": "[encoded data removed]",
      "text/plain": [
       "<Figure size 432x288 with 1 Axes>"
      ]
     },
     "metadata": {
      "needs_background": "light"
     },
     "output_type": "display_data"
    }
   ],
   "source": [
    "loss = history_3.history['loss'][1:-3]\n",
    "val_loss = history_3.history['val_loss'][1:-3]\n",
    "\n",
    "epochs = range(1, len(loss) + 1)\n",
    "plt.figure()\n",
    "\n",
    "plt.plot(epochs, loss, 'bo', label='Training loss')\n",
    "plt.plot(epochs, val_loss, 'b', label='Validation loss')\n",
    "plt.title('Training and validation loss')\n",
    "plt.legend()\n",
    "plt.show()"
   ]
  },
  {
   "cell_type": "markdown",
   "metadata": {},
   "source": [
    "# One GRU layer with recurrent dropout"
   ]
  },
  {
   "cell_type": "code",
   "execution_count": 64,
   "metadata": {},
   "outputs": [
    {
     "name": "stdout",
     "output_type": "stream",
     "text": [
      "Train for 500 steps, validate for 40 steps\n",
      "Epoch 1/20\n",
      "500/500 [==============================] - 175s 349ms/step - loss: 2.7620 - val_loss: 0.2623\n",
      "Epoch 2/20\n",
      "500/500 [==============================] - 174s 347ms/step - loss: 0.2064 - val_loss: 0.2402\n",
      "Epoch 3/20\n",
      "500/500 [==============================] - 173s 345ms/step - loss: 0.1919 - val_loss: 0.2186\n",
      "Epoch 4/20\n",
      "500/500 [==============================] - 203s 406ms/step - loss: 0.1967 - val_loss: 0.2198\n",
      "Epoch 5/20\n",
      "500/500 [==============================] - 177s 353ms/step - loss: 0.2820 - val_loss: 0.2258\n",
      "Epoch 6/20\n",
      "500/500 [==============================] - 179s 359ms/step - loss: 0.3132 - val_loss: 0.2149\n",
      "Epoch 7/20\n",
      "500/500 [==============================] - 194s 388ms/step - loss: 0.2561 - val_loss: 0.2122\n",
      "Epoch 8/20\n",
      "500/500 [==============================] - 193s 387ms/step - loss: 0.6875 - val_loss: 0.2263\n",
      "Epoch 9/20\n",
      "500/500 [==============================] - 195s 389ms/step - loss: 0.2115 - val_loss: 0.2200\n",
      "Epoch 10/20\n",
      "500/500 [==============================] - 197s 393ms/step - loss: 0.2313 - val_loss: 0.2240\n",
      "Epoch 11/20\n",
      "500/500 [==============================] - 193s 385ms/step - loss: 0.4791 - val_loss: 0.2284\n",
      "Epoch 12/20\n",
      "500/500 [==============================] - 190s 381ms/step - loss: 0.9622 - val_loss: 0.2222\n",
      "Epoch 13/20\n",
      "500/500 [==============================] - 201s 403ms/step - loss: 0.2166 - val_loss: 0.2201\n",
      "Epoch 14/20\n",
      "500/500 [==============================] - 192s 383ms/step - loss: 0.8815 - val_loss: 0.2194\n",
      "Epoch 15/20\n",
      "500/500 [==============================] - 226s 451ms/step - loss: 0.4020 - val_loss: 0.2195\n",
      "Epoch 16/20\n",
      "500/500 [==============================] - 226s 451ms/step - loss: 0.6981 - val_loss: 0.2153\n",
      "Epoch 17/20\n",
      "500/500 [==============================] - 200s 400ms/step - loss: 0.2591 - val_loss: 0.2180\n",
      "Epoch 18/20\n",
      "500/500 [==============================] - 199s 398ms/step - loss: 0.2303 - val_loss: 0.2190\n",
      "Epoch 19/20\n",
      "500/500 [==============================] - 187s 374ms/step - loss: 0.1908 - val_loss: 0.2140\n",
      "Epoch 20/20\n",
      "500/500 [==============================] - 190s 381ms/step - loss: 0.3792 - val_loss: 0.2313\n"
     ]
    }
   ],
   "source": [
    "model_4 = Sequential()\n",
    "model_4.add(layers.GRU(32,\n",
    "                     dropout=0.1,\n",
    "                     recurrent_dropout=0.1,\n",
    "                     input_shape=(None, float_data.shape[-1])))\n",
    "model_4.add(layers.Dense(1))\n",
    "\n",
    "model_4.compile(optimizer=RMSprop(), loss='mae')\n",
    "history_4 = model_4.fit(train_gen,\n",
    "                    steps_per_epoch=500,\n",
    "                    epochs=20,\n",
    "                    validation_data=val_gen,\n",
    "                    validation_steps=val_steps)\n"
   ]
  },
  {
   "cell_type": "code",
   "execution_count": 71,
   "metadata": {},
   "outputs": [],
   "source": [
    "model.save('model_4.h5') "
   ]
  },
  {
   "cell_type": "code",
   "execution_count": 74,
   "metadata": {},
   "outputs": [
    {
     "data": {
      "image/png": "[encoded data removed]",
      "text/plain": [
       "<Figure size 432x288 with 1 Axes>"
      ]
     },
     "metadata": {
      "needs_background": "light"
     },
     "output_type": "display_data"
    }
   ],
   "source": [
    "loss = history_4.history['loss'][1:]\n",
    "val_loss = history_4.history['val_loss'][1:]\n",
    "\n",
    "epochs = range(1, len(loss) + 1)\n",
    "plt.figure()\n",
    "\n",
    "plt.plot(epochs, loss, 'bo', label='Training loss')\n",
    "plt.plot(epochs, val_loss, 'b', label='Validation loss')\n",
    "plt.title('Training and validation loss')\n",
    "plt.legend()\n",
    "plt.show()"
   ]
  },
  {
   "cell_type": "code",
   "execution_count": null,
   "metadata": {},
   "outputs": [],
   "source": []
  },
  {
   "cell_type": "code",
   "execution_count": 72,
   "metadata": {},
   "outputs": [
    {
     "name": "stdout",
     "output_type": "stream",
     "text": [
      "Model: \"sequential_13\"\n",
      "_________________________________________________________________\n",
      "Layer (type)                 Output Shape              Param #   \n",
      "=================================================================\n",
      "conv1d_5 (Conv1D)            (None, None, 64)          8384      \n",
      "_________________________________________________________________\n",
      "max_pooling1d_3 (MaxPooling1 (None, None, 64)          0         \n",
      "_________________________________________________________________\n",
      "conv1d_6 (Conv1D)            (None, None, 64)          20544     \n",
      "_________________________________________________________________\n",
      "gru_12 (GRU)                 (None, 64)                24960     \n",
      "_________________________________________________________________\n",
      "dense_13 (Dense)             (None, 1)                 65        \n",
      "=================================================================\n",
      "Total params: 53,953\n",
      "Trainable params: 53,953\n",
      "Non-trainable params: 0\n",
      "_________________________________________________________________\n",
      "Train for 500 steps, validate for 40.0 steps\n",
      "Epoch 1/20\n",
      "500/500 [==============================] - 182s 365ms/step - loss: 0.3026 - val_loss: 0.2691\n",
      "Epoch 2/20\n",
      "500/500 [==============================] - 175s 350ms/step - loss: 0.1798 - val_loss: 0.2352\n",
      "Epoch 3/20\n",
      "500/500 [==============================] - 166s 332ms/step - loss: 0.1479 - val_loss: 0.2400\n",
      "Epoch 4/20\n",
      "500/500 [==============================] - 163s 326ms/step - loss: 0.1254 - val_loss: 0.2463\n",
      "Epoch 5/20\n",
      "500/500 [==============================] - 164s 327ms/step - loss: 0.1083 - val_loss: 0.2564\n",
      "Epoch 6/20\n",
      "500/500 [==============================] - 180s 360ms/step - loss: 0.0886 - val_loss: 0.2918\n",
      "Epoch 7/20\n",
      "500/500 [==============================] - 163s 326ms/step - loss: 0.0749 - val_loss: 0.3020\n",
      "Epoch 8/20\n",
      "500/500 [==============================] - 167s 334ms/step - loss: 0.0677 - val_loss: 0.2854\n",
      "Epoch 9/20\n",
      "500/500 [==============================] - 170s 341ms/step - loss: 0.0872 - val_loss: 0.3853\n",
      "Epoch 10/20\n",
      "500/500 [==============================] - 165s 330ms/step - loss: 0.0530 - val_loss: 0.2943\n",
      "Epoch 11/20\n",
      "500/500 [==============================] - 166s 332ms/step - loss: 0.0450 - val_loss: 0.3065\n",
      "Epoch 12/20\n",
      "500/500 [==============================] - 181s 361ms/step - loss: 0.0411 - val_loss: 0.2932\n",
      "Epoch 13/20\n",
      "500/500 [==============================] - 189s 378ms/step - loss: 0.0420 - val_loss: 0.3400\n",
      "Epoch 14/20\n",
      "500/500 [==============================] - 160s 321ms/step - loss: 0.0514 - val_loss: 0.3521\n",
      "Epoch 15/20\n",
      "500/500 [==============================] - 172s 344ms/step - loss: 0.0305 - val_loss: 0.3642\n",
      "Epoch 16/20\n",
      "500/500 [==============================] - 171s 343ms/step - loss: 0.0305 - val_loss: 0.3644\n",
      "Epoch 17/20\n",
      "500/500 [==============================] - 166s 332ms/step - loss: 0.0290 - val_loss: 0.3220\n",
      "Epoch 18/20\n",
      "500/500 [==============================] - 168s 336ms/step - loss: 0.0366 - val_loss: 0.3308\n",
      "Epoch 19/20\n",
      "500/500 [==============================] - 160s 320ms/step - loss: 0.0323 - val_loss: 0.3297\n",
      "Epoch 20/20\n",
      "500/500 [==============================] - 165s 330ms/step - loss: 0.0233 - val_loss: 0.3280\n"
     ]
    }
   ],
   "source": [
    "model_5 = Sequential()\n",
    "model_5.add(layers.Conv1D(64, 5, activation='relu',\n",
    "                          input_shape=(None, float_data.shape[-1])))\n",
    "model_5.add(layers.MaxPooling1D(3))\n",
    "model_5.add(layers.Conv1D(64, 5, activation='relu'))\n",
    "model_5.add(layers.GRU(64, dropout=0.1, recurrent_dropout=0.2))\n",
    "model_5.add(layers.Dense(1))\n",
    "\n",
    "model_5.summary()\n",
    "model_5.compile(optimizer=RMSprop(), loss='mae')\n",
    "history_5 = model_5.fit(train_gen,\n",
    "                        steps_per_epoch=500,\n",
    "                        epochs=20,\n",
    "                        validation_data=val_gen,\n",
    "                        validation_steps=temp)"
   ]
  },
  {
   "cell_type": "code",
   "execution_count": 73,
   "metadata": {},
   "outputs": [],
   "source": [
    "model.save('model_5.h5') "
   ]
  },
  {
   "cell_type": "code",
   "execution_count": 80,
   "metadata": {},
   "outputs": [
    {
     "data": {
      "image/png": "[encoded data removed]",
      "text/plain": [
       "<Figure size 432x288 with 1 Axes>"
      ]
     },
     "metadata": {
      "needs_background": "light"
     },
     "output_type": "display_data"
    }
   ],
   "source": [
    "loss = history_4.history['loss'][:]\n",
    "val_loss = history_4.history['val_loss'][:]\n",
    "\n",
    "epochs = range(1, len(loss) + 1)\n",
    "plt.figure()\n",
    "\n",
    "plt.plot(epochs, loss, 'bo', label='Training loss')\n",
    "plt.plot(epochs, val_loss, 'b', label='Validation loss')\n",
    "plt.title('Training and validation loss')\n",
    "plt.legend()\n",
    "plt.show()"
   ]
  },
  {
   "cell_type": "code",
   "execution_count": null,
   "metadata": {},
   "outputs": [],
   "source": []
  }
 ],
 "metadata": {
  "kernelspec": {
   "display_name": "Python 3",
   "language": "python",
   "name": "python3"
  },
  "language_info": {
   "codemirror_mode": {
    "name": "ipython",
    "version": 3
   },
   "file_extension": ".py",
   "mimetype": "text/x-python",
   "name": "python",
   "nbconvert_exporter": "python",
   "pygments_lexer": "ipython3",
   "version": "3.7.3"
  }
 },
 "nbformat": 4,
 "nbformat_minor": 2
}
