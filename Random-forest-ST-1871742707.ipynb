{
 "cells": [
  {
   "cell_type": "code",
   "execution_count": 31,
   "metadata": {},
   "outputs": [
    {
     "data": {
      "text/plain": [
       "Index(['time', 'window', 'accX', 'accX_std', 'accY', 'accY_std', 'accZ',\n",
       "       'accZ_std', 'gyrX', 'gyrX_std', 'gyrY', 'gyrY_std', 'gyrZ', 'gyrZ_std',\n",
       "       'heartR', 'heartR_std', 'SmoothedAirPressure', 'SAP_std',\n",
       "       'UncalibratedBarometerAltitude', 'UBA_std', 'AirTemperature', 'AT_std',\n",
       "       'AirPressure', 'AP_std', 'PlethysmogramGreen', 'ple_std', 'alc', 'cig',\n",
       "       'mood', 'tense', 'tired', 'period', 'rumination', 'socialize',\n",
       "       'socialize_val', 'sport_time', 'work_time', 'day_sleep', 'phq_1',\n",
       "       'phq_2'],\n",
       "      dtype='object')"
      ]
     },
     "execution_count": 31,
     "metadata": {},
     "output_type": "execute_result"
    }
   ],
   "source": [
    "import pandas as pd\n",
    "prefix = '14-9F-3C-DA-5B-26'\n",
    "output_path = '/Volumes/hex/ST-1871742707-res/'\n",
    "p_707 = pd.read_csv(output_path + 'ST-1871742707_1.0.csv')\n",
    "\n",
    "p_707.columns"
   ]
  },
  {
   "cell_type": "code",
   "execution_count": 17,
   "metadata": {},
   "outputs": [],
   "source": [
    "from sklearn.model_selection import train_test_split\n",
    "from sklearn.ensemble import RandomForestRegressor\n",
    "from sklearn.metrics import accuracy_score"
   ]
  },
  {
   "cell_type": "code",
   "execution_count": 18,
   "metadata": {},
   "outputs": [],
   "source": [
    "def display_scores(score):\n",
    "    print('scores:', score)\n",
    "    print('Mean:', score.mean())\n",
    "    print('std dev:', score.std())"
   ]
  },
  {
   "cell_type": "code",
   "execution_count": null,
   "metadata": {},
   "outputs": [],
   "source": []
  },
  {
   "cell_type": "code",
   "execution_count": 23,
   "metadata": {},
   "outputs": [],
   "source": [
    "train_set, test_set = train_test_split(p_707, test_size=0.25, random_state=42, shuffle=True)"
   ]
  },
  {
   "cell_type": "code",
   "execution_count": 24,
   "metadata": {},
   "outputs": [],
   "source": [
    "X_train = train_set.loc[:,'accX':'day_sleep']\n",
    "y_train_1 = train_set.loc[:, ['phq_1']].values.ravel()\n",
    "y_train_2 = train_set.loc[:, ['phq_2']].values.ravel()\n",
    "\n",
    "X_test = test_set.loc[:,'accX':'day_sleep']\n",
    "y_test_1 = test_set[['phq_1']].values.ravel()\n",
    "y_test_2 = test_set[['phq_2']].values.ravel()"
   ]
  },
  {
   "cell_type": "code",
   "execution_count": 25,
   "metadata": {},
   "outputs": [
    {
     "data": {
      "text/html": [
       "<div>\n",
       "<style scoped>\n",
       "    .dataframe tbody tr th:only-of-type {\n",
       "        vertical-align: middle;\n",
       "    }\n",
       "\n",
       "    .dataframe tbody tr th {\n",
       "        vertical-align: top;\n",
       "    }\n",
       "\n",
       "    .dataframe thead th {\n",
       "        text-align: right;\n",
       "    }\n",
       "</style>\n",
       "<table border=\"1\" class=\"dataframe\">\n",
       "  <thead>\n",
       "    <tr style=\"text-align: right;\">\n",
       "      <th></th>\n",
       "      <th>accX</th>\n",
       "      <th>accX_std</th>\n",
       "      <th>accY</th>\n",
       "      <th>accY_std</th>\n",
       "      <th>accZ</th>\n",
       "      <th>accZ_std</th>\n",
       "      <th>gyrX</th>\n",
       "      <th>gyrX_std</th>\n",
       "      <th>gyrY</th>\n",
       "      <th>gyrY_std</th>\n",
       "      <th>...</th>\n",
       "      <th>mood</th>\n",
       "      <th>tense</th>\n",
       "      <th>tired</th>\n",
       "      <th>period</th>\n",
       "      <th>rumination</th>\n",
       "      <th>socialize</th>\n",
       "      <th>socialize_val</th>\n",
       "      <th>sport_time</th>\n",
       "      <th>work_time</th>\n",
       "      <th>day_sleep</th>\n",
       "    </tr>\n",
       "  </thead>\n",
       "  <tbody>\n",
       "    <tr>\n",
       "      <td>18432</td>\n",
       "      <td>0.90</td>\n",
       "      <td>1.85</td>\n",
       "      <td>-1.24</td>\n",
       "      <td>2.10</td>\n",
       "      <td>9.40</td>\n",
       "      <td>2.10</td>\n",
       "      <td>-0.01</td>\n",
       "      <td>0.19</td>\n",
       "      <td>0.04</td>\n",
       "      <td>0.14</td>\n",
       "      <td>...</td>\n",
       "      <td>5</td>\n",
       "      <td>8</td>\n",
       "      <td>5</td>\n",
       "      <td>0</td>\n",
       "      <td>2</td>\n",
       "      <td>7</td>\n",
       "      <td>100</td>\n",
       "      <td>0</td>\n",
       "      <td>0</td>\n",
       "      <td>0</td>\n",
       "    </tr>\n",
       "    <tr>\n",
       "      <td>14663</td>\n",
       "      <td>1.88</td>\n",
       "      <td>1.62</td>\n",
       "      <td>-5.03</td>\n",
       "      <td>1.93</td>\n",
       "      <td>7.63</td>\n",
       "      <td>1.93</td>\n",
       "      <td>0.04</td>\n",
       "      <td>0.35</td>\n",
       "      <td>0.01</td>\n",
       "      <td>0.25</td>\n",
       "      <td>...</td>\n",
       "      <td>3</td>\n",
       "      <td>3</td>\n",
       "      <td>4</td>\n",
       "      <td>0</td>\n",
       "      <td>7</td>\n",
       "      <td>7</td>\n",
       "      <td>95</td>\n",
       "      <td>0</td>\n",
       "      <td>0</td>\n",
       "      <td>0</td>\n",
       "    </tr>\n",
       "    <tr>\n",
       "      <td>78173</td>\n",
       "      <td>-4.09</td>\n",
       "      <td>0.03</td>\n",
       "      <td>-8.48</td>\n",
       "      <td>0.03</td>\n",
       "      <td>-2.37</td>\n",
       "      <td>0.03</td>\n",
       "      <td>0.03</td>\n",
       "      <td>0.15</td>\n",
       "      <td>0.03</td>\n",
       "      <td>0.10</td>\n",
       "      <td>...</td>\n",
       "      <td>9</td>\n",
       "      <td>9</td>\n",
       "      <td>10</td>\n",
       "      <td>0</td>\n",
       "      <td>1</td>\n",
       "      <td>83</td>\n",
       "      <td>49</td>\n",
       "      <td>0</td>\n",
       "      <td>0</td>\n",
       "      <td>0</td>\n",
       "    </tr>\n",
       "    <tr>\n",
       "      <td>42670</td>\n",
       "      <td>1.08</td>\n",
       "      <td>0.04</td>\n",
       "      <td>-3.87</td>\n",
       "      <td>0.03</td>\n",
       "      <td>8.74</td>\n",
       "      <td>0.03</td>\n",
       "      <td>-0.03</td>\n",
       "      <td>0.20</td>\n",
       "      <td>-0.09</td>\n",
       "      <td>0.41</td>\n",
       "      <td>...</td>\n",
       "      <td>8</td>\n",
       "      <td>8</td>\n",
       "      <td>9</td>\n",
       "      <td>0</td>\n",
       "      <td>1</td>\n",
       "      <td>11</td>\n",
       "      <td>91</td>\n",
       "      <td>0</td>\n",
       "      <td>0</td>\n",
       "      <td>0</td>\n",
       "    </tr>\n",
       "    <tr>\n",
       "      <td>70324</td>\n",
       "      <td>1.80</td>\n",
       "      <td>0.03</td>\n",
       "      <td>-7.54</td>\n",
       "      <td>0.03</td>\n",
       "      <td>-6.14</td>\n",
       "      <td>0.03</td>\n",
       "      <td>0.05</td>\n",
       "      <td>0.20</td>\n",
       "      <td>-0.03</td>\n",
       "      <td>0.13</td>\n",
       "      <td>...</td>\n",
       "      <td>5</td>\n",
       "      <td>7</td>\n",
       "      <td>5</td>\n",
       "      <td>0</td>\n",
       "      <td>2</td>\n",
       "      <td>84</td>\n",
       "      <td>90</td>\n",
       "      <td>0</td>\n",
       "      <td>0</td>\n",
       "      <td>0</td>\n",
       "    </tr>\n",
       "  </tbody>\n",
       "</table>\n",
       "<p>5 rows × 36 columns</p>\n",
       "</div>"
      ],
      "text/plain": [
       "       accX  accX_std  accY  accY_std  accZ  accZ_std  gyrX  gyrX_std  gyrY  \\\n",
       "18432  0.90      1.85 -1.24      2.10  9.40      2.10 -0.01      0.19  0.04   \n",
       "14663  1.88      1.62 -5.03      1.93  7.63      1.93  0.04      0.35  0.01   \n",
       "78173 -4.09      0.03 -8.48      0.03 -2.37      0.03  0.03      0.15  0.03   \n",
       "42670  1.08      0.04 -3.87      0.03  8.74      0.03 -0.03      0.20 -0.09   \n",
       "70324  1.80      0.03 -7.54      0.03 -6.14      0.03  0.05      0.20 -0.03   \n",
       "\n",
       "       gyrY_std  ...  mood  tense  tired  period  rumination  socialize  \\\n",
       "18432      0.14  ...     5      8      5       0           2          7   \n",
       "14663      0.25  ...     3      3      4       0           7          7   \n",
       "78173      0.10  ...     9      9     10       0           1         83   \n",
       "42670      0.41  ...     8      8      9       0           1         11   \n",
       "70324      0.13  ...     5      7      5       0           2         84   \n",
       "\n",
       "       socialize_val  sport_time  work_time  day_sleep  \n",
       "18432            100           0          0          0  \n",
       "14663             95           0          0          0  \n",
       "78173             49           0          0          0  \n",
       "42670             91           0          0          0  \n",
       "70324             90           0          0          0  \n",
       "\n",
       "[5 rows x 36 columns]"
      ]
     },
     "execution_count": 25,
     "metadata": {},
     "output_type": "execute_result"
    }
   ],
   "source": [
    "X_train.head()"
   ]
  },
  {
   "cell_type": "code",
   "execution_count": 26,
   "metadata": {},
   "outputs": [
    {
     "data": {
      "text/plain": [
       "RandomForestRegressor(bootstrap=True, criterion='mse', max_depth=None,\n",
       "           max_features='auto', max_leaf_nodes=35,\n",
       "           min_impurity_decrease=0.0, min_impurity_split=None,\n",
       "           min_samples_leaf=1, min_samples_split=2,\n",
       "           min_weight_fraction_leaf=0.0, n_estimators=500, n_jobs=-1,\n",
       "           oob_score=True, random_state=None, verbose=0, warm_start=False)"
      ]
     },
     "execution_count": 26,
     "metadata": {},
     "output_type": "execute_result"
    }
   ],
   "source": [
    "rnd_reg = RandomForestRegressor(n_estimators=500, max_leaf_nodes=35, n_jobs=-1 ,oob_score=True)\n",
    "rnd_reg.fit(X_train, y_train_1)"
   ]
  },
  {
   "cell_type": "code",
   "execution_count": 27,
   "metadata": {},
   "outputs": [],
   "source": [
    "y_pred_1 = rnd_reg.predict(X_train)"
   ]
  },
  {
   "cell_type": "code",
   "execution_count": 28,
   "metadata": {},
   "outputs": [
    {
     "data": {
      "text/plain": [
       "0.4609353743747911"
      ]
     },
     "execution_count": 28,
     "metadata": {},
     "output_type": "execute_result"
    }
   ],
   "source": [
    "from sklearn.model_selection import cross_val_score\n",
    "from sklearn.metrics import mean_squared_error\n",
    "import numpy as np\n",
    "forest_mse = mean_squared_error(y_train_1, y_pred_1)\n",
    "forest_rmse = np.sqrt(forest_mse)\n",
    "forest_rmse"
   ]
  },
  {
   "cell_type": "code",
   "execution_count": 30,
   "metadata": {},
   "outputs": [
    {
     "data": {
      "text/plain": [
       "3.5627096587431284"
      ]
     },
     "execution_count": 30,
     "metadata": {},
     "output_type": "execute_result"
    }
   ],
   "source": [
    "from sklearn.utils import shuffle\n",
    "y_shuffled = shuffle(y_pred_1)\n",
    "forest_mse_shuffled = mean_squared_error(y_train_1, y_shuffled)\n",
    "forest_rmse_shuffled = np.sqrt(forest_mse_shuffled)\n",
    "forest_rmse_shuffled"
   ]
  },
  {
   "cell_type": "code",
   "execution_count": 29,
   "metadata": {},
   "outputs": [
    {
     "name": "stdout",
     "output_type": "stream",
     "text": [
      "scores: [0.4591379  0.4604151  0.45324259 0.45746411 0.45514638 0.45413818\n",
      " 0.44515942 0.4609611  0.45722323 0.47693947]\n",
      "Mean: 0.4579827466859552\n",
      "std dev: 0.007655436386227206\n"
     ]
    }
   ],
   "source": [
    "\n",
    "forest_scores = cross_val_score(rnd_reg, X_train, y_train_1,scoring=\"neg_mean_squared_error\", cv=10)\n",
    "\n",
    "forest_rmse_scores = np.sqrt(-forest_scores)\n",
    "display_scores(forest_rmse_scores)"
   ]
  },
  {
   "cell_type": "code",
   "execution_count": null,
   "metadata": {},
   "outputs": [],
   "source": []
  }
 ],
 "metadata": {
  "kernelspec": {
   "display_name": "Python 3",
   "language": "python",
   "name": "python3"
  },
  "language_info": {
   "codemirror_mode": {
    "name": "ipython",
    "version": 3
   },
   "file_extension": ".py",
   "mimetype": "text/x-python",
   "name": "python",
   "nbconvert_exporter": "python",
   "pygments_lexer": "ipython3",
   "version": "3.7.3"
  }
 },
 "nbformat": 4,
 "nbformat_minor": 2
}
