{
 "cells": [
  {
   "cell_type": "code",
   "execution_count": 75,
   "metadata": {},
   "outputs": [],
   "source": [
    "from sklearn import svm\n",
    "from sklearn.metrics import confusion_matrix \n",
    "from sklearn.model_selection import train_test_split "
   ]
  },
  {
   "cell_type": "code",
   "execution_count": 141,
   "metadata": {},
   "outputs": [],
   "source": [
    "import pandas as pd\n",
    "output_path = '/Users/Hesham/dev/fluffDecoder/data/'\n",
    "p = pd.read_csv(output_path + 'ST-1233329802_3.0.csv')"
   ]
  },
  {
   "cell_type": "code",
   "execution_count": 142,
   "metadata": {},
   "outputs": [],
   "source": [
    "p = p.drop(['date', 'window'], axis=1).astype(float)\n"
   ]
  },
  {
   "cell_type": "code",
   "execution_count": 144,
   "metadata": {},
   "outputs": [],
   "source": [
    "# y = p[['phq_1']]\n",
    "# t1, t2 = train_test_split(p, stratify=y, test_size=0.5, random_state=42, shuffle=True)"
   ]
  },
  {
   "cell_type": "code",
   "execution_count": 145,
   "metadata": {},
   "outputs": [
    {
     "data": {
      "text/plain": [
       "61042"
      ]
     },
     "execution_count": 145,
     "metadata": {},
     "output_type": "execute_result"
    }
   ],
   "source": [
    "len(t1.index)"
   ]
  },
  {
   "cell_type": "code",
   "execution_count": 146,
   "metadata": {},
   "outputs": [],
   "source": [
    "# train_set, test_set = train_test_split(p, test_size=0.25, random_state=42, shuffle=True)"
   ]
  },
  {
   "cell_type": "code",
   "execution_count": 147,
   "metadata": {},
   "outputs": [],
   "source": [
    "y = p[['phq_1']]\n",
    "train_set_st, test_set_st = train_test_split(p, stratify=y, test_size=0.25, random_state=42, shuffle=True)"
   ]
  },
  {
   "cell_type": "code",
   "execution_count": 148,
   "metadata": {},
   "outputs": [],
   "source": [
    "X_train_st = train_set_st.loc[:,'accX':'work_time']\n",
    "y_train_st_1 = train_set_st.loc[:, ['phq_1']].values.ravel()\n",
    "y_train_st_2 = train_set_st.loc[:, ['phq_2']].values.ravel()\n",
    "\n",
    "X_test_st = test_set_st.loc[:,'accX':'work_time']\n",
    "y_test_st_1 = test_set_st[['phq_1']].values.ravel()\n",
    "y_test_st_2 = test_set_st[['phq_2']].values.ravel()"
   ]
  },
  {
   "cell_type": "code",
   "execution_count": 149,
   "metadata": {},
   "outputs": [],
   "source": [
    "X_train = train_set.loc[:,'accX':'work_time']\n",
    "y_train_1 = train_set.loc[:, ['phq_1']].values.ravel()\n",
    "y_train_2 = train_set.loc[:, ['phq_2']].values.ravel()\n",
    "\n",
    "X_test = test_set.loc[:,'accX':'work_time']\n",
    "y_test_1 = test_set[['phq_1']].values.ravel()\n",
    "y_test_2 = test_set[['phq_2']].values.ravel()"
   ]
  },
  {
   "cell_type": "code",
   "execution_count": 219,
   "metadata": {},
   "outputs": [
    {
     "data": {
      "text/plain": [
       "Index(['accX', 'accX_std', 'accY', 'accY_std', 'accZ', 'accZ_std', 'gyrX',\n",
       "       'gyrX_std', 'gyrY', 'gyrY_std', 'gyrZ', 'gyrZ_std', 'heartR',\n",
       "       'heartR_std', 'AirTemperature', 'AT_std', 'PlethysmogramGreen',\n",
       "       'ple_std', 'mood', 'tense', 'tired', 'rumination', 'socialize',\n",
       "       'socialize_val', 'work_time'],\n",
       "      dtype='object')"
      ]
     },
     "execution_count": 219,
     "metadata": {},
     "output_type": "execute_result"
    }
   ],
   "source": [
    "X_train_st.columns"
   ]
  },
  {
   "cell_type": "code",
   "execution_count": 150,
   "metadata": {},
   "outputs": [],
   "source": [
    "time = train_set[['time']].values.ravel()\n",
    "time_test = test_set[['time']].values.ravel()"
   ]
  },
  {
   "cell_type": "code",
   "execution_count": 151,
   "metadata": {},
   "outputs": [],
   "source": [
    "time_st = train_set_st[['time']].values.ravel()\n",
    "time_st_test = test_set_st[['time']].values.ravel()"
   ]
  },
  {
   "cell_type": "code",
   "execution_count": 152,
   "metadata": {},
   "outputs": [],
   "source": [
    "# Scaling the Train and Test feature set \n",
    "from sklearn.preprocessing import StandardScaler\n",
    "scaler = StandardScaler()\n",
    "X_train_scaled = scaler.fit_transform(X_train)\n",
    "X_test_scaled = scaler.transform(X_test)"
   ]
  },
  {
   "cell_type": "code",
   "execution_count": 153,
   "metadata": {},
   "outputs": [],
   "source": [
    "# Scaling the Train and Test feature set \n",
    "from sklearn.preprocessing import StandardScaler\n",
    "scaler_st = StandardScaler()\n",
    "X_train_st_scaled = scaler_st.fit_transform(X_train_st)\n",
    "X_test_st_scaled = scaler_st.transform(X_test_st)"
   ]
  },
  {
   "cell_type": "code",
   "execution_count": 154,
   "metadata": {},
   "outputs": [],
   "source": [
    "parameters = {'epsilon':[0,0.1,0.2,0.5,1],\n",
    "               'tol':[1e-1, 1e-3,1e-5],\n",
    "              'C':[1, 1.5, 10, 50]\n",
    "              }"
   ]
  },
  {
   "cell_type": "code",
   "execution_count": 155,
   "metadata": {},
   "outputs": [
    {
     "data": {
      "text/plain": [
       "GridSearchCV(cv=3, error_score='raise-deprecating',\n",
       "       estimator=LinearSVR(C=1.0, dual=True, epsilon=0.0, fit_intercept=True,\n",
       "     intercept_scaling=1.0, loss='epsilon_insensitive', max_iter=1000,\n",
       "     random_state=42, tol=0.0001, verbose=0),\n",
       "       fit_params=None, iid='warn', n_jobs=-1,\n",
       "       param_grid={'epsilon': [0, 0.1, 0.2, 0.5, 1], 'tol': [0.1, 0.001, 1e-05], 'C': [1, 1.5, 10, 50]},\n",
       "       pre_dispatch='2*n_jobs', refit=True, return_train_score='warn',\n",
       "       scoring='neg_mean_absolute_error', verbose=0)"
      ]
     },
     "execution_count": 155,
     "metadata": {},
     "output_type": "execute_result"
    }
   ],
   "source": [
    "from sklearn.model_selection import GridSearchCV\n",
    "from sklearn.svm import LinearSVR\n",
    "\n",
    "svr = LinearSVR(random_state=42)\n",
    "regressor_st = GridSearchCV(svr, parameters, n_jobs=-1, cv=3, scoring='neg_mean_absolute_error')\n",
    "regressor_st"
   ]
  },
  {
   "cell_type": "code",
   "execution_count": 131,
   "metadata": {},
   "outputs": [
    {
     "name": "stderr",
     "output_type": "stream",
     "text": [
      "/Users/Hesham/opt/anaconda3/envs/tf2/lib/python3.7/site-packages/sklearn/svm/base.py:931: ConvergenceWarning: Liblinear failed to converge, increase the number of iterations.\n",
      "  \"the number of iterations.\", ConvergenceWarning)\n"
     ]
    },
    {
     "data": {
      "text/plain": [
       "GridSearchCV(cv=3, error_score='raise-deprecating',\n",
       "       estimator=LinearSVR(C=1.0, dual=True, epsilon=0.0, fit_intercept=True,\n",
       "     intercept_scaling=1.0, loss='epsilon_insensitive', max_iter=1000,\n",
       "     random_state=42, tol=0.0001, verbose=0),\n",
       "       fit_params=None, iid='warn', n_jobs=-1,\n",
       "       param_grid={'epsilon': [0, 0.1, 0.2, 0.5, 1], 'tol': [0.1, 0.001, 1e-05], 'C': [1, 1.5, 10, 50]},\n",
       "       pre_dispatch='2*n_jobs', refit=True, return_train_score='warn',\n",
       "       scoring='neg_mean_absolute_error', verbose=0)"
      ]
     },
     "execution_count": 131,
     "metadata": {},
     "output_type": "execute_result"
    }
   ],
   "source": [
    "regressor_st.fit(X_train_st_scaled, y_train_st_1)"
   ]
  },
  {
   "cell_type": "code",
   "execution_count": 132,
   "metadata": {},
   "outputs": [
    {
     "data": {
      "text/plain": [
       "{'C': 1, 'epsilon': 0, 'tol': 0.001}"
      ]
     },
     "execution_count": 132,
     "metadata": {},
     "output_type": "execute_result"
    }
   ],
   "source": [
    "regressor_st.best_params_"
   ]
  },
  {
   "cell_type": "code",
   "execution_count": 133,
   "metadata": {},
   "outputs": [
    {
     "data": {
      "text/plain": [
       "LinearSVR(C=1, dual=True, epsilon=0, fit_intercept=True,\n",
       "     intercept_scaling=1.0, loss='epsilon_insensitive', max_iter=1000,\n",
       "     random_state=42, tol=0.001, verbose=0)"
      ]
     },
     "execution_count": 133,
     "metadata": {},
     "output_type": "execute_result"
    }
   ],
   "source": [
    "regressor_st.best_estimator_"
   ]
  },
  {
   "cell_type": "code",
   "execution_count": 134,
   "metadata": {},
   "outputs": [
    {
     "data": {
      "text/plain": [
       "1.0564320046319216"
      ]
     },
     "execution_count": 134,
     "metadata": {},
     "output_type": "execute_result"
    }
   ],
   "source": [
    "from sklearn.metrics import mean_absolute_error\n",
    "\n",
    "pred_test_st = regressor_st.predict(X_test_st_scaled)\n",
    "svr_mae = mean_absolute_error(y_test_st_1,pred_test_st)\n",
    "svr_mae"
   ]
  },
  {
   "cell_type": "code",
   "execution_count": 135,
   "metadata": {},
   "outputs": [
    {
     "data": {
      "text/plain": [
       "1.0559219030823357"
      ]
     },
     "execution_count": 135,
     "metadata": {},
     "output_type": "execute_result"
    }
   ],
   "source": [
    "pred_train_st = regressor_st.predict(X_train_st_scaled)\n",
    "svr_mae = mean_absolute_error(y_train_st_1, pred_train_st)\n",
    "svr_mae"
   ]
  },
  {
   "cell_type": "code",
   "execution_count": 203,
   "metadata": {},
   "outputs": [],
   "source": [
    "model = regressor_st.best_estimator_"
   ]
  },
  {
   "cell_type": "code",
   "execution_count": 205,
   "metadata": {},
   "outputs": [
    {
     "data": {
      "text/plain": [
       "array([-8.01549339e-02,  1.17975844e-02, -1.09961620e-02, -2.22833721e-03,\n",
       "       -8.02851507e-03, -2.22833721e-03,  3.78184455e-04,  4.69264912e-02,\n",
       "       -6.76195450e-03, -2.51249463e-02,  9.39656949e-03, -9.71845086e-03,\n",
       "        1.37583303e-02,  1.01929008e-02,  1.08348298e+00, -3.25809305e-01,\n",
       "        2.28175697e+00,  6.64176857e-03,  2.58816527e-02, -5.18981877e-03,\n",
       "        1.17576307e+00,  3.51558104e-01,  1.11619977e-02, -8.49214719e-03,\n",
       "       -2.09415360e-01, -2.87548505e-01, -3.00845307e-01,  1.71046066e+00,\n",
       "       -1.82223611e-01, -3.08074189e-01, -2.24261749e-02])"
      ]
     },
     "execution_count": 205,
     "metadata": {},
     "output_type": "execute_result"
    }
   ],
   "source": [
    "model.coef_"
   ]
  },
  {
   "cell_type": "code",
   "execution_count": 137,
   "metadata": {},
   "outputs": [
    {
     "ename": "SyntaxError",
     "evalue": "unexpected EOF while parsing (<ipython-input-137-4f5e15d2ba2b>, line 3)",
     "output_type": "error",
     "traceback": [
      "\u001b[0;36m  File \u001b[0;32m\"<ipython-input-137-4f5e15d2ba2b>\"\u001b[0;36m, line \u001b[0;32m3\u001b[0m\n\u001b[0;31m    #     print(mean_score, params)\u001b[0m\n\u001b[0m                                   ^\u001b[0m\n\u001b[0;31mSyntaxError\u001b[0m\u001b[0;31m:\u001b[0m unexpected EOF while parsing\n"
     ]
    }
   ],
   "source": [
    "cvrs = regressor_st.cv_results_\n",
    "for mean_score, params in zip(cvrs['mean_train_score'], cvrs['params']):\n",
    "#     print(mean_score, params)"
   ]
  },
  {
   "cell_type": "code",
   "execution_count": null,
   "metadata": {},
   "outputs": [],
   "source": []
  },
  {
   "cell_type": "code",
   "execution_count": 164,
   "metadata": {},
   "outputs": [
    {
     "name": "stderr",
     "output_type": "stream",
     "text": [
      "/Users/Hesham/opt/anaconda3/envs/tf2/lib/python3.7/site-packages/sklearn/svm/base.py:931: ConvergenceWarning: Liblinear failed to converge, increase the number of iterations.\n",
      "  \"the number of iterations.\", ConvergenceWarning)\n"
     ]
    },
    {
     "data": {
      "text/plain": [
       "LinearSVR(C=1.0, dual=True, epsilon=0.0, fit_intercept=True,\n",
       "     intercept_scaling=1.0, loss='epsilon_insensitive', max_iter=1000,\n",
       "     random_state=42, tol=0.001, verbose=0)"
      ]
     },
     "execution_count": 164,
     "metadata": {},
     "output_type": "execute_result"
    }
   ],
   "source": [
    "svr = LinearSVR(random_state=42, tol=0.001)\n",
    "svr.fit(X_train_st_scaled, y_train_st_1)"
   ]
  },
  {
   "cell_type": "code",
   "execution_count": 165,
   "metadata": {},
   "outputs": [
    {
     "data": {
      "text/plain": [
       "1.0559380484572574"
      ]
     },
     "execution_count": 165,
     "metadata": {},
     "output_type": "execute_result"
    }
   ],
   "source": [
    "pred_test_st = svr.predict(X_test_st_scaled)\n",
    "svr_mae = mean_absolute_error(y_test_st_1,pred_test_st)\n",
    "svr_mae"
   ]
  },
  {
   "cell_type": "code",
   "execution_count": 166,
   "metadata": {},
   "outputs": [
    {
     "data": {
      "text/plain": [
       "1.0545821170767868"
      ]
     },
     "execution_count": 166,
     "metadata": {},
     "output_type": "execute_result"
    }
   ],
   "source": [
    "pred_train_st = svr.predict(X_train_st_scaled)\n",
    "svr_mae = mean_absolute_error(y_train_st_1, pred_train_st)\n",
    "svr_mae"
   ]
  },
  {
   "cell_type": "code",
   "execution_count": 317,
   "metadata": {},
   "outputs": [
    {
     "data": {
      "text/plain": [
       "array([ 0.05571399, -0.00443946, -0.02033014, -0.00920982, -0.03340014,\n",
       "       -0.00920982, -0.01900075,  0.01790638,  0.03504433,  0.0081345 ,\n",
       "        0.01635233, -0.01303781, -0.00528655, -0.02406242,  0.0359599 ,\n",
       "        0.19650424,  0.10673818, -0.01165276, -0.22170621, -0.00287365,\n",
       "        0.07775748,  0.07259547, -0.10689036, -0.18726774, -0.08553222])"
      ]
     },
     "execution_count": 317,
     "metadata": {},
     "output_type": "execute_result"
    }
   ],
   "source": [
    "svr.coef_"
   ]
  },
  {
   "cell_type": "code",
   "execution_count": 318,
   "metadata": {},
   "outputs": [],
   "source": [
    "def display_scores(score):\n",
    "    print('scores:', score)\n",
    "    print('Mean:', score.mean())\n",
    "    print('std dev:', score.std())"
   ]
  },
  {
   "cell_type": "code",
   "execution_count": 319,
   "metadata": {},
   "outputs": [
    {
     "name": "stderr",
     "output_type": "stream",
     "text": [
      "/Users/Hesham/opt/anaconda3/envs/tf2/lib/python3.7/site-packages/sklearn/svm/base.py:931: ConvergenceWarning: Liblinear failed to converge, increase the number of iterations.\n",
      "  \"the number of iterations.\", ConvergenceWarning)\n",
      "/Users/Hesham/opt/anaconda3/envs/tf2/lib/python3.7/site-packages/sklearn/svm/base.py:931: ConvergenceWarning: Liblinear failed to converge, increase the number of iterations.\n",
      "  \"the number of iterations.\", ConvergenceWarning)\n"
     ]
    },
    {
     "name": "stdout",
     "output_type": "stream",
     "text": [
      "scores: [1.04415788 1.05941351 1.05950218 1.05615119]\n",
      "Mean: 1.0548061871709082\n",
      "std dev: 0.0062943477127878015\n"
     ]
    },
    {
     "name": "stderr",
     "output_type": "stream",
     "text": [
      "/Users/Hesham/opt/anaconda3/envs/tf2/lib/python3.7/site-packages/sklearn/svm/base.py:931: ConvergenceWarning: Liblinear failed to converge, increase the number of iterations.\n",
      "  \"the number of iterations.\", ConvergenceWarning)\n"
     ]
    }
   ],
   "source": [
    "from sklearn.model_selection import cross_val_score\n",
    "svm_scores = cross_val_score(svr, X_train_st_scaled, y_train_st_1,scoring=\"neg_mean_absolute_error\", cv=4)\n",
    "display_scores(-svm_scores)"
   ]
  },
  {
   "cell_type": "code",
   "execution_count": 173,
   "metadata": {},
   "outputs": [],
   "source": [
    "temp = p.columns[1:-2]"
   ]
  },
  {
   "cell_type": "code",
   "execution_count": 174,
   "metadata": {},
   "outputs": [
    {
     "name": "stdout",
     "output_type": "stream",
     "text": [
      "0.05571398566114234 accX\n",
      "-0.004439455226852797 accX_std\n",
      "-0.02033013614277791 accY\n",
      "-0.00920982060662699 accY_std\n",
      "-0.03340013918050161 accZ\n",
      "-0.00920982060662699 accZ_std\n",
      "-0.01900074822553847 gyrX\n",
      "0.01790638171260193 gyrX_std\n",
      "0.03504433398077497 gyrY\n",
      "0.008134500722921142 gyrY_std\n",
      "0.016352328026602046 gyrZ\n",
      "-0.013037806045990167 gyrZ_std\n",
      "-0.005286550337935084 heartR\n",
      "-0.024062416671278442 heartR_std\n",
      "0.03595990304021669 AirTemperature\n",
      "0.19650424499211405 AT_std\n",
      "0.1067381792309155 PlethysmogramGreen\n",
      "-0.011652756471723898 ple_std\n",
      "-0.22170620552658332 mood\n",
      "-0.002873654063368289 tense\n",
      "0.0777574755271051 tired\n",
      "0.07259547023150338 rumination\n",
      "-0.10689036298972487 socialize\n",
      "-0.1872677394330217 socialize_val\n",
      "-0.08553221779511383 work_time\n"
     ]
    }
   ],
   "source": [
    "coef = svr.coef_\n",
    "for c, col in zip(coef, temp):\n",
    "    print(c, col)"
   ]
  },
  {
   "cell_type": "code",
   "execution_count": null,
   "metadata": {},
   "outputs": [],
   "source": [
    "accX 0.0\n",
    "accX_std 0.0\n",
    "accY 0.0\n",
    "accY_std 0.0\n",
    "accZ 0.0\n",
    "accZ_std 0.0\n",
    "gyrX 0.0\n",
    "gyrX_std 0.0\n",
    "gyrY 0.0\n",
    "gyrY_std 0.0\n",
    "gyrZ 0.0\n",
    "gyrZ_std 0.0\n",
    "heartR 0.0\n",
    "heartR_std 0.0\n",
    "AirTemperature 0.034796843062099445\n",
    "AT_std 0.00121961406353288\n",
    "PlethysmogramGreen 0.0\n",
    "ple_std 0.011646652767346562\n",
    "mood 0.10134463863422376\n",
    "tense 0.08226612531592088\n",
    "tired 0.05169078949598518\n",
    "rumination 0.04121590149505671\n",
    "socialize 0.2335790344225581\n",
    "socialize_val 0.15383240833387377\n",
    "work_time 0.2884079924094024"
   ]
  },
  {
   "cell_type": "code",
   "execution_count": null,
   "metadata": {},
   "outputs": [],
   "source": []
  },
  {
   "cell_type": "code",
   "execution_count": 175,
   "metadata": {},
   "outputs": [],
   "source": [
    "patient = train_set_st.copy()"
   ]
  },
  {
   "cell_type": "code",
   "execution_count": 176,
   "metadata": {},
   "outputs": [
    {
     "data": {
      "text/plain": [
       "Index(['time', 'accX', 'accX_std', 'accY', 'accY_std', 'accZ', 'accZ_std',\n",
       "       'gyrX', 'gyrX_std', 'gyrY', 'gyrY_std', 'gyrZ', 'gyrZ_std', 'heartR',\n",
       "       'heartR_std', 'AirTemperature', 'AT_std', 'PlethysmogramGreen',\n",
       "       'ple_std', 'mood', 'tense', 'tired', 'rumination', 'socialize',\n",
       "       'socialize_val', 'work_time', 'phq_1', 'phq_2'],\n",
       "      dtype='object')"
      ]
     },
     "execution_count": 176,
     "metadata": {},
     "output_type": "execute_result"
    }
   ],
   "source": [
    "patient.columns"
   ]
  },
  {
   "cell_type": "code",
   "execution_count": 181,
   "metadata": {},
   "outputs": [
    {
     "data": {
      "text/plain": [
       "<matplotlib.axes._subplots.AxesSubplot at 0x13f42af28>"
      ]
     },
     "execution_count": 181,
     "metadata": {},
     "output_type": "execute_result"
    },
    {
     "data": {
      "image/png": "[encoded data removed]",
      "text/plain": [
       "<Figure size 720x504 with 1 Axes>"
      ]
     },
     "metadata": {
      "needs_background": "light"
     },
     "output_type": "display_data"
    }
   ],
   "source": [
    "patient.plot(kind='scatter', x='phq_1', y='mood', figsize=(10,7))"
   ]
  },
  {
   "cell_type": "code",
   "execution_count": 209,
   "metadata": {},
   "outputs": [
    {
     "data": {
      "text/plain": [
       "<matplotlib.axes._subplots.AxesSubplot at 0x137fc1cc0>"
      ]
     },
     "execution_count": 209,
     "metadata": {},
     "output_type": "execute_result"
    },
    {
     "data": {
      "image/png": "[encoded data removed]",
      "text/plain": [
       "<Figure size 720x504 with 2 Axes>"
      ]
     },
     "metadata": {
      "needs_background": "light"
     },
     "output_type": "display_data"
    }
   ],
   "source": [
    "patient.plot(kind='scatter', x='mood', y='tired', s=patient['phq_1'], label='depression degree', \n",
    "             c='phq_1', cmap=pyplot.get_cmap('jet'), colorbar=True, figsize=(10,7), sharex=False)"
   ]
  },
  {
   "cell_type": "code",
   "execution_count": 324,
   "metadata": {},
   "outputs": [
    {
     "data": {
      "text/plain": [
       "<matplotlib.axes._subplots.AxesSubplot at 0x138d9da90>"
      ]
     },
     "execution_count": 324,
     "metadata": {},
     "output_type": "execute_result"
    },
    {
     "data": {
      "image/png": "[encoded data removed]",
      "text/plain": [
       "<Figure size 720x504 with 2 Axes>"
      ]
     },
     "metadata": {
      "needs_background": "light"
     },
     "output_type": "display_data"
    }
   ],
   "source": [
    "patient.plot(kind='scatter', x='rumination', y='tired', s=patient['phq_1'], label='depression degree', \n",
    "             c='phq_1', cmap=pyplot.get_cmap('jet'), colorbar=True, figsize=(10,7), sharex=False)"
   ]
  },
  {
   "cell_type": "code",
   "execution_count": 179,
   "metadata": {},
   "outputs": [],
   "source": [
    "corr_matrix = patient.corr()"
   ]
  },
  {
   "cell_type": "code",
   "execution_count": 180,
   "metadata": {},
   "outputs": [
    {
     "data": {
      "text/plain": [
       "phq_1                 1.000000\n",
       "phq_2                 0.331387\n",
       "AT_std                0.081969\n",
       "rumination            0.068428\n",
       "PlethysmogramGreen    0.066239\n",
       "AirTemperature        0.053627\n",
       "accX                  0.050517\n",
       "heartR                0.044203\n",
       "tense                 0.039724\n",
       "socialize             0.017638\n",
       "work_time             0.016231\n",
       "gyrZ                  0.010403\n",
       "gyrY                  0.002042\n",
       "gyrX                  0.000252\n",
       "ple_std              -0.002555\n",
       "tired                -0.016686\n",
       "heartR_std           -0.018105\n",
       "gyrX_std             -0.018739\n",
       "gyrY_std             -0.019922\n",
       "gyrZ_std             -0.021582\n",
       "accY                 -0.022041\n",
       "accX_std             -0.024678\n",
       "accZ_std             -0.025287\n",
       "accY_std             -0.025287\n",
       "accZ                 -0.028495\n",
       "time                 -0.115062\n",
       "socialize_val        -0.124167\n",
       "mood                 -0.232790\n",
       "Name: phq_1, dtype: float64"
      ]
     },
     "execution_count": 180,
     "metadata": {},
     "output_type": "execute_result"
    }
   ],
   "source": [
    "corr_matrix['phq_1'].sort_values(ascending=False)"
   ]
  },
  {
   "cell_type": "code",
   "execution_count": 207,
   "metadata": {},
   "outputs": [
    {
     "data": {
      "text/plain": [
       "array([[<matplotlib.axes._subplots.AxesSubplot object at 0x139900ef0>,\n",
       "        <matplotlib.axes._subplots.AxesSubplot object at 0x1398fd198>,\n",
       "        <matplotlib.axes._subplots.AxesSubplot object at 0x139930588>,\n",
       "        <matplotlib.axes._subplots.AxesSubplot object at 0x139960b38>,\n",
       "        <matplotlib.axes._subplots.AxesSubplot object at 0x13999e0f0>],\n",
       "       [<matplotlib.axes._subplots.AxesSubplot object at 0x1399cd6a0>,\n",
       "        <matplotlib.axes._subplots.AxesSubplot object at 0x1399fec50>,\n",
       "        <matplotlib.axes._subplots.AxesSubplot object at 0x139a3d278>,\n",
       "        <matplotlib.axes._subplots.AxesSubplot object at 0x139a3d2b0>,\n",
       "        <matplotlib.axes._subplots.AxesSubplot object at 0x139a9fda0>],\n",
       "       [<matplotlib.axes._subplots.AxesSubplot object at 0x139add390>,\n",
       "        <matplotlib.axes._subplots.AxesSubplot object at 0x139c4c940>,\n",
       "        <matplotlib.axes._subplots.AxesSubplot object at 0x139c80ef0>,\n",
       "        <matplotlib.axes._subplots.AxesSubplot object at 0x13c5d54e0>,\n",
       "        <matplotlib.axes._subplots.AxesSubplot object at 0x13c607a90>],\n",
       "       [<matplotlib.axes._subplots.AxesSubplot object at 0x13c646080>,\n",
       "        <matplotlib.axes._subplots.AxesSubplot object at 0x13c677630>,\n",
       "        <matplotlib.axes._subplots.AxesSubplot object at 0x13c6a7be0>,\n",
       "        <matplotlib.axes._subplots.AxesSubplot object at 0x13c6e41d0>,\n",
       "        <matplotlib.axes._subplots.AxesSubplot object at 0x13c718780>],\n",
       "       [<matplotlib.axes._subplots.AxesSubplot object at 0x13c747d30>,\n",
       "        <matplotlib.axes._subplots.AxesSubplot object at 0x13c784320>,\n",
       "        <matplotlib.axes._subplots.AxesSubplot object at 0x13c7b78d0>,\n",
       "        <matplotlib.axes._subplots.AxesSubplot object at 0x13c7eae80>,\n",
       "        <matplotlib.axes._subplots.AxesSubplot object at 0x13c826470>]],\n",
       "      dtype=object)"
      ]
     },
     "execution_count": 207,
     "metadata": {},
     "output_type": "execute_result"
    },
    {
     "data": {
      "image/png": "[encoded data removed]",
      "text/plain": [
       "<Figure size 864x576 with 25 Axes>"
      ]
     },
     "metadata": {
      "needs_background": "light"
     },
     "output_type": "display_data"
    }
   ],
   "source": [
    "from pandas.plotting import scatter_matrix\n",
    "attributes = ['phq_1', 'rumination', 'PlethysmogramGreen', 'mood', 'socialize_val']\n",
    "scatter_matrix(patient[attributes], figsize=(12, 8))"
   ]
  },
  {
   "cell_type": "code",
   "execution_count": null,
   "metadata": {},
   "outputs": [],
   "source": []
  },
  {
   "cell_type": "code",
   "execution_count": null,
   "metadata": {},
   "outputs": [],
   "source": []
  },
  {
   "cell_type": "code",
   "execution_count": null,
   "metadata": {},
   "outputs": [],
   "source": []
  },
  {
   "cell_type": "code",
   "execution_count": 183,
   "metadata": {},
   "outputs": [],
   "source": [
    "socialise_scaled = scaler_st.fit_transform(test_set_st[['socialize']])\n",
    "socialize_val_scaled = scaler_st.fit_transform(test_set_st[['socialize_val']])\n",
    "work_time_scaled = scaler_st.fit_transform(test_set_st[['work_time']])\n",
    "mood_scaled = scaler_st.fit_transform(test_set_st[['mood']])\n",
    "tense_scaled = scaler_st.fit_transform(test_set_st[['tense']])"
   ]
  },
  {
   "cell_type": "code",
   "execution_count": 187,
   "metadata": {},
   "outputs": [],
   "source": [
    "time_sorted = time_st_test\n",
    "time_sorted.sort()"
   ]
  },
  {
   "cell_type": "code",
   "execution_count": 322,
   "metadata": {},
   "outputs": [
    {
     "data": {
      "text/plain": [
       "<matplotlib.legend.Legend at 0x137ae57b8>"
      ]
     },
     "execution_count": 322,
     "metadata": {},
     "output_type": "execute_result"
    },
    {
     "data": {
      "image/png": "[encoded data removed]",
      "text/plain": [
       "<Figure size 1620x450 with 1 Axes>"
      ]
     },
     "metadata": {},
     "output_type": "display_data"
    }
   ],
   "source": [
    "from matplotlib import pyplot\n",
    "%matplotlib inline\n",
    "s = 1000\n",
    "e = 1100\n",
    "xaxis = time_sorted[s:e]\n",
    "yaxis = y_test_st_1[s:e]\n",
    "yaxis2 = pred_test_st[s:e]\n",
    "yaxis3 = socialise_scaled[s:e]\n",
    "yaxis4 = socialize_val_scaled[s:e]\n",
    "yaxis5 = work_time_scaled[s:e]\n",
    "yaxis6 = mood_scaled[s:e]\n",
    "yaxis7 = tense_scaled[s:e]\n",
    "\n",
    "# avg = p[['phq_1', 'phq_2']].mean(axis=1)\n",
    "fig=pyplot.figure(figsize=(18, 5), dpi= 90, facecolor='w', edgecolor='k')\n",
    "pyplot.plot(xaxis, yaxis, color='red', label='phq_1')\n",
    "# pyplot.plot(xaxis, yaxis2, color='blue', label='prediction')\n",
    "# pyplot.plot(xaxis, yaxis3, color='green', label='socialize')\n",
    "# pyplot.plot(xaxis, yaxis4, color='cyan', label='socialize_val')\n",
    "# pyplot.plot(xaxis, yaxis5, color='magenta', label='sport_time')\n",
    "# pyplot.plot(xaxis, yaxis6, color='black', label='mood')\n",
    "pyplot.plot(xaxis, yaxis7, color='blue', label='tense')\n",
    "# plt.ylabel('some numbers')\n",
    "pyplot.xlabel('time')\n",
    "\n",
    "pyplot.legend()\n",
    "# pyplot.plot(xaxis, avg, color='green', label='avg')"
   ]
  },
  {
   "cell_type": "code",
   "execution_count": 196,
   "metadata": {},
   "outputs": [
    {
     "data": {
      "text/plain": [
       "<matplotlib.legend.Legend at 0x12db42278>"
      ]
     },
     "execution_count": 196,
     "metadata": {},
     "output_type": "execute_result"
    },
    {
     "data": {
      "image/png": "[encoded data removed]",
      "text/plain": [
       "<Figure size 1620x450 with 1 Axes>"
      ]
     },
     "metadata": {},
     "output_type": "display_data"
    }
   ],
   "source": [
    "from matplotlib import pyplot\n",
    "%matplotlib inline\n",
    "xaxis = time_st_test[:100]\n",
    "yaxis = y_test_st_1[:100]\n",
    "yaxis2 = pred_test_st[:100]\n",
    "# avg = p[['phq_1', 'phq_2']].mean(axis=1)\n",
    "fig=pyplot.figure(figsize=(18, 5), dpi= 90, facecolor='w', edgecolor='k')\n",
    "pyplot.plot(xaxis, yaxis, color='red', label='phq_1')\n",
    "pyplot.plot(xaxis, yaxis2, color='blue', label='prediction')\n",
    "pyplot.legend()\n",
    "# pyplot.plot(xaxis, avg, color='green', label='avg')"
   ]
  },
  {
   "cell_type": "code",
   "execution_count": 306,
   "metadata": {},
   "outputs": [
    {
     "name": "stdout",
     "output_type": "stream",
     "text": [
      "33 33\n",
      "33 33\n",
      "33 33\n",
      "33 33\n",
      "33 33\n"
     ]
    }
   ],
   "source": [
    "p_802 = [ 0.05571399, -0.00443946, -0.02033014, -0.00920982,\n",
    "         -0.03340014, -0.00920982, -0.01900075,  0.01790638,\n",
    "          0.03504433,  0.0081345 , 0.01635233, -0.01303781,\n",
    "         -0.00528655, -0.02406242,0,0, 0.0359599, 0.19650424,0,0,\n",
    "         0.10673818, -0.01165276,0,0, -0.22170621, -0.00287365,\n",
    "         0.07775748,0,  0.07259547, -0.10689036, -0.18726774, 0,\n",
    "         -0.08553222]\n",
    "col_802 = ['accX', 'accX_std', 'accY', 'accY_std',\n",
    "           'accZ', 'accZ_std', 'gyrX', 'gyrX_std',\n",
    "           'gyrY', 'gyrY_std', 'gyrZ', 'gyrZ_std',\n",
    "           'heartR', 'heartR_std', 'SmoothedAirPressure', 'SAP_std', 'AirTemperature', 'AT_std',\n",
    "           'AirPressure', 'AP_std','PlethysmogramGreen', 'ple_std','alc', 'cig', 'mood', 'tense',\n",
    "           'tired','period', 'rumination', 'socialize','socialize_val', 'sport_time',\n",
    "           'work_time']\n",
    "print(len(p_802), len(col_802))\n",
    "\n",
    "p_385 = [-3.37888575e-02, -6.25345109e-02,  6.48127895e-02, -2.75426218e-02,\n",
    "       -5.18775470e-02, -2.75426218e-02, -2.61660666e-03, -6.67189495e-02,\n",
    "       -1.29340087e-02,  1.03811585e-01, -2.68441116e-04, -5.18383809e-02,\n",
    "        9.73356052e-04,  8.20536690e-04, -2.43820795e-01, -2.31232898e-01,\n",
    "        -1.92823983e-01,  2.16335450e-02, 1.14101722e-01,  1.98194635e-01,\n",
    "         1.92537381e-01,  1.10279837e-01, -3.74692209e-02,0, -3.01450845e-01,\n",
    "         -7.86294563e-01,  9.05977133e-02, 0, -2.51510844e-01,\n",
    "         -3.94589889e-01, -3.37102708e-01, -1.16002469e-01,\n",
    "         -1.23048437e-01]\n",
    "col_385 = ['accX', 'accX_std', 'accY', 'accY_std',\n",
    "           'accZ', 'accZ_std', 'gyrX', 'gyrX_std',\n",
    "           'gyrY', 'gyrY_std', 'gyrZ', 'gyrZ_std',\n",
    "           'heartR', 'heartR_std', 'SmoothedAirPressure', 'SAP_std',\n",
    "            'AirTemperature', 'AT_std', 'AirPressure', 'AP_std',\n",
    "           'PlethysmogramGreen', 'ple_std', 'alc', 'cig',\n",
    "           'mood', 'tense', 'tired', 'period',\n",
    "           'rumination', 'socialize','socialize_val','sport_time',\n",
    "           'work_time']\n",
    "print(len(p_385), len(col_385))\n",
    "\n",
    "p_707 = [-8.01549339e-02,  1.17975844e-02, -1.09961620e-02, -2.22833721e-03,\n",
    "       -8.02851507e-03, -2.22833721e-03,  3.78184455e-04,  4.69264912e-02,\n",
    "       -6.76195450e-03, -2.51249463e-02,  9.39656949e-03, -9.71845086e-03,\n",
    "        1.37583303e-02,  1.01929008e-02,  1.08348298e+00, -3.25809305e-01,\n",
    "        2.58816527e-02, -5.18981877e-03, 1.17576307e+00,  3.51558104e-01,\n",
    "        1.11619977e-02, -8.49214719e-03,0,0, -2.09415360e-01, -2.87548505e-01,\n",
    "        -3.00845307e-01, 0,   1.71046066e+00, -1.82223611e-01, -3.08074189e-01,\n",
    "         -2.24261749e-02, 0]\n",
    "col_707 = ['accX', 'accX_std', 'accY', 'accY_std',\n",
    "           'accZ', 'accZ_std', 'gyrX', 'gyrX_std',\n",
    "           'gyrY', 'gyrY_std', 'gyrZ', 'gyrZ_std',\n",
    "           'heartR', 'heartR_std', 'SmoothedAirPressure', 'SAP_std',\n",
    "        'AirTemperature', 'AT_std', 'AirPressure', 'AP_std',\n",
    "           'PlethysmogramGreen', 'ple_std','alc','cig', 'mood', 'tense',\n",
    "           'tired','period' ,'rumination', 'socialize', 'socialize_val',\n",
    "           'sport_time', 'work_time']\n",
    "print(len(p_707), len(col_707))\n",
    "\n",
    "\n",
    "\n",
    "\n",
    "p_440 = [ 1.26923776e-02, -3.11759928e-02,  1.60089682e-02,  6.19537928e-03,\n",
    "       -1.59039070e-03,  6.19537928e-03, -1.14298899e-02, -7.67728365e-02,\n",
    "        3.54977533e-02, -9.01069810e-04,  8.30709380e-04,  6.03938357e-02,\n",
    "        5.13069052e-02,  1.22303438e-02,0,0,  8.25508052e-02,  2.56062163e-02,\n",
    "        2.13223644e-02,  1.81319047e-02, -2.02972265e-01,  1.98282446e-02,\n",
    "       -3.05845803e-02,  1.17144638e-01, -1.84984509e-01, -1.84112381e-01,\n",
    "        6.54557324e-02,0,  1.97092763e+00, -1.71859545e-01,  1.74769541e-01,\n",
    "       -4.19060698e-02,  1.25691048e-01]\n",
    "col_440 = ['accX', 'accX_std', 'accY', 'accY_std',\n",
    "           'accZ', 'accZ_std', 'gyrX', 'gyrX_std',\n",
    "           'gyrY', 'gyrY_std', 'gyrZ', 'gyrZ_std',\n",
    "           'heartR', 'heartR_std', 'SmoothedAirPressure', 'SAP_std', 'AirTemperature', 'AT_std',\n",
    "           'AirPressure', 'AP_std', 'PleGreen', 'ple_std',\n",
    "           'alc', 'cig', 'mood', 'tense',\n",
    "           'tired', 'period','rumination', 'socialize', 'socialize_val',\n",
    "           'sport_time', 'work_time']\n",
    "print(len(p_440), len(col_440))\n",
    "\n",
    "\n",
    "\n",
    "\n",
    "p_269 = [-0.02477377, -0.01005535, -0.01033519,  0.02772651,\n",
    "         -0.00344182, 0.02772651, -0.01724052, -0.03320568,\n",
    "         -0.02449658,  0.00361274, -0.00317472, -0.03227624,\n",
    "         -0.0786224, 0.0171121 ,0,0, -0.16656135, 0.02450968,\n",
    "         -0.02818772,  0.00130163, -0.04109102, -0.00210225,\n",
    "       -0.08843782,  0.03276362, -0.79831237,  0.20418064,\n",
    "         0.00800336, 0.11781184,  0.49926571,  0.17982042,\n",
    "         -0.19853483, -0.3067323, 0.0 ]\n",
    "col_269 = ['aX', 'aX_s', 'aY', 'aY_s',\n",
    "           'aZ', 'aZ_s', 'gX', 'gX_s',\n",
    "           'gY', 'gY_s', 'gZ', 'gZ_s',\n",
    "           'h', 'h_s', 'P','P_s','T', 'T_s',\n",
    "           'AP', 'AP_s', 'Pl', 'pl_s',\n",
    "           'alc', 'cig', 'mo', 'te',\n",
    "           'tir', 'per', 'rum', 'soc',\n",
    "           'soc_v', 's_t', 'w_t']\n",
    "print(len(p_269), len(col_269))\n"
   ]
  },
  {
   "cell_type": "code",
   "execution_count": 310,
   "metadata": {},
   "outputs": [
    {
     "name": "stdout",
     "output_type": "stream",
     "text": [
      "'accX': -0.014062238760000002, \n",
      "'accX_std': -0.01928154586, \n",
      "'accY': 0.00783205314, \n",
      "'accY_std': -0.0010117779460000003, \n",
      "'accZ': -0.019667682554, \n",
      "'accZ_std': -0.0010117779460000003, \n",
      "'gyrX': -0.009981916421000001, \n",
      "'gyrX_std': -0.022372918959999998, \n",
      "'gyrY': 0.005269908019999999, \n",
      "'gyrY_std': 0.017906561778, \n",
      "'gyrZ': 0.004627289550800001, \n",
      "'gyrZ_std': -0.009295409212000002, \n",
      "'heartR': -0.0035740716896, \n",
      "'heartR_std': 0.0032586922579999995, \n",
      "'AirTemperature': -0.042998595020000016, \n",
      "'AT_std': 0.05261277250600001, \n",
      "'AirPressure': 0.25659988728, \n",
      "'AP_std': 0.11383725474000002, \n",
      "'PleGreen': 0.013274854739999991, \n",
      "'ple_std': 0.021572184882000002, \n",
      "'alc': -0.031298324239999994, \n",
      "'cig': 0.0299816516, \n",
      "'mood': -0.34317385879999995, \n",
      "'tense': -0.2113296918, \n",
      "'tired': -0.011806204260000003, \n",
      "'period': 0.023562368, \n",
      "'rumination': 0.8003477252, \n",
      "'socialize': -0.135148597, \n",
      "'socialize_val': -0.17124198519999997, \n",
      "'sport_time': -0.09741340274, \n",
      "'work_time': -0.0165779218, \n"
     ]
    }
   ],
   "source": [
    "average = []\n",
    "new_cols = []\n",
    "for i1, i2, i3, i4, i5, col in zip(p_802, p_269, p_385, p_707, p_440, col_440):\n",
    "    if col in ['SmoothedAirPressure', 'SAP_std']:\n",
    "        pass\n",
    "    else:\n",
    "        avg = (i1 + i2 + i3 + i4 + i5) / 5\n",
    "        average.append(abs(avg))\n",
    "        new_cols.append(col)\n",
    "        # avg = (abs(i1) + abs(i2) + abs(i3) + abs(i4) + abs(i5)) / 5\n",
    "        print(\"'\" + str(col) + \"'\" + ': ' + str(avg) + ', ')"
   ]
  },
  {
   "cell_type": "code",
   "execution_count": 316,
   "metadata": {},
   "outputs": [
    {
     "data": {
      "image/png": "[encoded data removed]",
      "text/plain": [
       "<Figure size 1296x360 with 1 Axes>"
      ]
     },
     "metadata": {
      "needs_background": "light"
     },
     "output_type": "display_data"
    }
   ],
   "source": [
    "# Make a fake dataset\n",
    "height = average\n",
    "bars = new_cols\n",
    "y_pos = np.arange(len(bars))\n",
    "\n",
    "fig = plt.figure(figsize=(18, 5))\n",
    "plt.bar(y_pos, height)\n",
    "plt.xticks(y_pos, bars, rotation=60)\n",
    "# plt.show()\n",
    "plt.savefig(\"svm.png\")"
   ]
  },
  {
   "cell_type": "code",
   "execution_count": 320,
   "metadata": {},
   "outputs": [
    {
     "data": {
      "text/plain": [
       "31"
      ]
     },
     "execution_count": 320,
     "metadata": {},
     "output_type": "execute_result"
    }
   ],
   "source": [
    "len(height)"
   ]
  },
  {
   "cell_type": "code",
   "execution_count": null,
   "metadata": {},
   "outputs": [],
   "source": [
    "\n"
   ]
  }
 ],
 "metadata": {
  "kernelspec": {
   "display_name": "Python 3",
   "language": "python",
   "name": "python3"
  },
  "language_info": {
   "codemirror_mode": {
    "name": "ipython",
    "version": 3
   },
   "file_extension": ".py",
   "mimetype": "text/x-python",
   "name": "python",
   "nbconvert_exporter": "python",
   "pygments_lexer": "ipython3",
   "version": "3.7.3"
  }
 },
 "nbformat": 4,
 "nbformat_minor": 2
}
