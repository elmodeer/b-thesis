{
 "cells": [
  {
   "cell_type": "code",
   "execution_count": 1,
   "metadata": {},
   "outputs": [],
   "source": [
    "import pandas as pd\n",
    "from csvCreator import get_readable_date\n",
    "import numpy as np"
   ]
  },
  {
   "cell_type": "code",
   "execution_count": 2,
   "metadata": {},
   "outputs": [],
   "source": [
    "def to_evenly_spaced(df):\n",
    "    df.drop(['phq_2'], axis=1, inplace=True)\n",
    "    date = df['time'].apply(lambda x: get_readable_date(x))\n",
    "    df.insert(loc=1, column='date', value=date)\n",
    "    median = np.trunc(df.groupby('date').size().median())\n",
    "    df.drop(['date'], axis=1, inplace=True)\n",
    "    day = np.trunc(len(df.index) / median)\n",
    "    new_last_index = int(median * day)\n",
    "\n",
    "    even_time = []\n",
    "    firs_time = df[['time']].iloc[1].values.item()\n",
    "    for i in range(len(df.index)):\n",
    "        even_time.append(firs_time)\n",
    "        firs_time += 60\n",
    "    df.drop(['time'], axis=1, inplace=True)\n",
    "#     df.insert(loc=0, column='time', value=even_time)\n",
    "    df = df.iloc[:new_last_index]\n",
    "    return df, int(median)"
   ]
  },
  {
   "cell_type": "code",
   "execution_count": 3,
   "metadata": {},
   "outputs": [],
   "source": [
    "def generator(data, look_b, delay, min_index, max_index,\n",
    "              shuffle=False, batch_size=128, step=6):\n",
    "    if max_index is None:\n",
    "        max_index = len(data) - delay - 1\n",
    "    i = min_index + look_b\n",
    "    while 1:\n",
    "        if shuffle:\n",
    "            rows = np.random.randint(\n",
    "                min_index + look_b, max_index, size=batch_size)\n",
    "        else:\n",
    "            if i + batch_size >= max_index:\n",
    "                i = min_index + look_b\n",
    "            rows = np.arange(i, min(i + batch_size, max_index))\n",
    "            i += len(rows)\n",
    "\n",
    "        samples = np.zeros((len(rows),\n",
    "                           look_b // step,\n",
    "                           data.shape[-1]))\n",
    "        targets = np.zeros((len(rows),))\n",
    "        for j, row in enumerate(rows):\n",
    "            indices = range(rows[j] - look_b, rows[j], step)\n",
    "            samples[j] = data[indices]\n",
    "            targets[j] = data[rows[j] + delay][-1]\n",
    "        yield samples, targets\n"
   ]
  },
  {
   "cell_type": "code",
   "execution_count": 4,
   "metadata": {},
   "outputs": [],
   "source": [
    "output_path = '/Volumes/hex/ST-1233329802-res/'\n",
    "p_802 = pd.read_csv(output_path + 'ST-1233329802_3.0.csv')\n",
    "\n",
    "# just numerical data\n",
    "p_802 = p_802.drop(['date', 'window'], axis=1)\n",
    "p_802, median = to_evenly_spaced(p_802)"
   ]
  },
  {
   "cell_type": "code",
   "execution_count": 5,
   "metadata": {},
   "outputs": [
    {
     "data": {
      "text/plain": [
       "452"
      ]
     },
     "execution_count": 5,
     "metadata": {},
     "output_type": "execute_result"
    }
   ],
   "source": [
    "median"
   ]
  },
  {
   "cell_type": "code",
   "execution_count": 7,
   "metadata": {},
   "outputs": [],
   "source": [
    "float_data = p_802.to_numpy()\n",
    "\n",
    "# first 200 days as training\n",
    "mean = float_data[:90400].mean(axis=0)\n",
    "float_data -= mean\n",
    "std = float_data[:90400].std(axis=0)\n",
    "float_data /= std"
   ]
  },
  {
   "cell_type": "code",
   "execution_count": 8,
   "metadata": {},
   "outputs": [],
   "source": [
    "# assume each day got 408 value (average value) that means 17 value per Hour.\n",
    "# most probably will be 3\n",
    "step = int(np.trunc(60 / (median / 24)))\n",
    "# observations will look back 7 days (average)\n",
    "look_back = step * 7 * 24\n",
    "delay = 24 * step\n",
    "\n",
    "# one day\n",
    "batch_size = median"
   ]
  },
  {
   "cell_type": "code",
   "execution_count": 9,
   "metadata": {},
   "outputs": [
    {
     "data": {
      "text/plain": [
       "3"
      ]
     },
     "execution_count": 9,
     "metadata": {},
     "output_type": "execute_result"
    }
   ],
   "source": [
    "step"
   ]
  },
  {
   "cell_type": "code",
   "execution_count": 10,
   "metadata": {},
   "outputs": [
    {
     "data": {
      "text/plain": [
       "(122040, 26)"
      ]
     },
     "execution_count": 10,
     "metadata": {},
     "output_type": "execute_result"
    }
   ],
   "source": [
    "float_data.shape"
   ]
  },
  {
   "cell_type": "code",
   "execution_count": 11,
   "metadata": {},
   "outputs": [
    {
     "data": {
      "text/plain": [
       "504"
      ]
     },
     "execution_count": 11,
     "metadata": {},
     "output_type": "execute_result"
    }
   ],
   "source": [
    "look_back"
   ]
  },
  {
   "cell_type": "code",
   "execution_count": 12,
   "metadata": {},
   "outputs": [
    {
     "data": {
      "text/plain": [
       "array([-1.22544612,  5.71048722, -0.6541132 ,  2.98587402, -0.21903021,\n",
       "        2.98587402, -7.75446454,  6.0399647 , -9.30654744,  6.05167197,\n",
       "       -1.92787682,  6.82925229, -1.37115884, 19.05504734, -2.70913572,\n",
       "       -2.04544979, -2.10834643,  0.07319007, -0.26389235,  1.28103953,\n",
       "       -0.45232897, -0.38280431, -0.19601194, -1.24393266,  1.37002538,\n",
       "       -0.84318036])"
      ]
     },
     "execution_count": 12,
     "metadata": {},
     "output_type": "execute_result"
    }
   ],
   "source": [
    "float_data[0]"
   ]
  },
  {
   "cell_type": "code",
   "execution_count": 13,
   "metadata": {},
   "outputs": [],
   "source": [
    "train_gen = generator(float_data,\n",
    "                      look_b=look_back,\n",
    "                      delay=delay,\n",
    "                      min_index=0,\n",
    "                      max_index=90400,\n",
    "                      shuffle=False,\n",
    "                      step=step,\n",
    "                      batch_size=batch_size)\n",
    "val_gen = generator(float_data,\n",
    "                    look_b=look_back,\n",
    "                    delay=delay,\n",
    "                    min_index=90401,\n",
    "                    max_index=108480,\n",
    "                    step=step,\n",
    "                    batch_size=batch_size)\n",
    "test_gen = generator(float_data,\n",
    "                     look_b=look_back,\n",
    "                     delay=delay,\n",
    "                     min_index=108481,\n",
    "                     max_index=None,\n",
    "                     step=step,\n",
    "                     batch_size=batch_size)\n"
   ]
  },
  {
   "cell_type": "code",
   "execution_count": 14,
   "metadata": {},
   "outputs": [],
   "source": [
    "val_steps = (108480 - 90401 - look_back)\n",
    "test_steps = (len(float_data) - 108481 - look_back)\n",
    "# temp = (108480 - 90400)/batch_size"
   ]
  },
  {
   "cell_type": "code",
   "execution_count": 15,
   "metadata": {},
   "outputs": [
    {
     "data": {
      "text/plain": [
       "17575"
      ]
     },
     "execution_count": 15,
     "metadata": {},
     "output_type": "execute_result"
    }
   ],
   "source": [
    "val_steps"
   ]
  },
  {
   "cell_type": "code",
   "execution_count": 16,
   "metadata": {},
   "outputs": [],
   "source": [
    "samples1, targets1 = next(train_gen)\n",
    "samples2, targets2 = next(val_gen)\n",
    "samples3, targets3 = next(test_gen)\n"
   ]
  },
  {
   "cell_type": "code",
   "execution_count": 17,
   "metadata": {},
   "outputs": [
    {
     "data": {
      "text/plain": [
       "(452, 168, 26)"
      ]
     },
     "execution_count": 17,
     "metadata": {},
     "output_type": "execute_result"
    }
   ],
   "source": [
    "samples1.shape"
   ]
  },
  {
   "cell_type": "code",
   "execution_count": 24,
   "metadata": {},
   "outputs": [
    {
     "data": {
      "text/plain": [
       "array([-0.08496386, -0.08496386, -0.08496386, -0.08496386, -0.08496386,\n",
       "       -0.08496386, -0.08496386, -0.08496386, -0.08496386, -0.08496386,\n",
       "       -0.08496386, -0.08496386, -0.08496386, -0.08496386, -0.08496386,\n",
       "       -0.08496386, -0.08496386, -0.08496386, -0.08496386, -0.08496386,\n",
       "       -0.08496386, -0.08496386, -0.08496386, -0.08496386, -0.08496386,\n",
       "       -0.08496386, -0.08496386, -0.08496386, -0.08496386, -0.08496386,\n",
       "       -0.08496386, -0.08496386, -0.08496386, -0.08496386, -0.08496386,\n",
       "       -0.08496386, -0.08496386, -0.08496386, -0.08496386, -0.08496386,\n",
       "       -0.08496386, -0.08496386, -0.08496386, -0.08496386, -0.08496386,\n",
       "       -0.08496386, -0.08496386, -0.08496386, -0.08496386, -0.08496386,\n",
       "       -0.08496386, -0.08496386, -0.08496386, -0.08496386, -0.08496386,\n",
       "       -0.08496386, -0.08496386, -0.08496386, -0.08496386, -0.08496386,\n",
       "       -0.08496386, -0.08496386, -0.08496386, -0.08496386, -0.08496386,\n",
       "       -0.08496386, -0.08496386, -0.08496386, -0.08496386, -0.08496386,\n",
       "       -0.08496386, -0.08496386, -0.08496386, -0.08496386, -0.08496386,\n",
       "       -0.08496386, -0.08496386, -0.08496386, -0.08496386, -0.08496386,\n",
       "       -0.08496386, -0.08496386, -0.08496386, -0.08496386, -0.08496386,\n",
       "       -0.08496386, -0.08496386, -0.08496386, -0.08496386, -0.08496386,\n",
       "       -0.08496386, -0.08496386, -0.08496386, -0.08496386, -0.08496386,\n",
       "       -0.08496386, -0.08496386, -0.08496386, -0.08496386, -0.08496386,\n",
       "       -0.08496386, -0.08496386, -0.08496386, -0.08496386, -0.08496386,\n",
       "       -0.08496386, -0.08496386, -0.08496386, -0.08496386, -0.08496386,\n",
       "       -0.08496386, -0.08496386, -0.08496386, -0.08496386, -0.08496386,\n",
       "       -0.08496386, -0.08496386, -0.08496386, -0.08496386, -0.08496386,\n",
       "       -0.08496386, -0.08496386, -0.08496386, -0.08496386, -0.08496386,\n",
       "       -0.08496386, -0.08496386, -0.08496386, -0.08496386, -0.08496386,\n",
       "       -0.08496386, -0.08496386, -0.08496386, -0.08496386, -0.08496386,\n",
       "       -0.08496386, -0.08496386, -0.08496386, -0.08496386, -0.08496386,\n",
       "       -0.08496386, -0.08496386, -0.08496386, -0.08496386, -0.08496386,\n",
       "       -0.08496386, -0.08496386, -0.08496386, -0.08496386, -0.08496386,\n",
       "       -0.08496386, -0.08496386, -0.08496386, -0.08496386, -0.08496386,\n",
       "       -0.08496386, -0.08496386, -0.08496386, -0.08496386, -0.08496386,\n",
       "       -0.08496386, -0.08496386, -0.08496386, -0.08496386, -0.08496386,\n",
       "       -0.08496386, -0.08496386, -0.08496386, -0.08496386, -0.08496386,\n",
       "       -0.08496386, -0.08496386, -0.08496386, -0.08496386, -0.08496386,\n",
       "       -0.08496386, -0.08496386, -0.08496386, -0.08496386, -0.08496386,\n",
       "       -0.08496386, -0.08496386, -0.08496386, -0.08496386, -0.08496386,\n",
       "       -0.08496386, -0.08496386, -0.08496386, -0.08496386, -0.08496386,\n",
       "       -0.08496386, -0.08496386, -0.08496386, -0.08496386, -0.08496386,\n",
       "       -0.08496386, -0.08496386, -0.08496386, -0.08496386, -0.08496386,\n",
       "       -0.08496386, -0.08496386, -0.08496386, -0.08496386, -0.08496386,\n",
       "       -0.08496386, -0.08496386, -0.08496386, -0.08496386, -0.08496386,\n",
       "       -0.08496386, -0.08496386, -0.08496386, -0.08496386, -0.08496386,\n",
       "       -0.08496386, -0.08496386, -0.08496386, -0.08496386, -0.08496386,\n",
       "       -0.08496386, -0.08496386, -0.08496386, -0.08496386, -0.08496386,\n",
       "       -0.08496386, -0.08496386, -0.08496386, -0.08496386, -0.08496386,\n",
       "       -0.08496386, -0.08496386, -0.08496386, -0.08496386, -0.08496386,\n",
       "       -0.08496386, -0.08496386, -0.08496386, -0.08496386, -0.08496386,\n",
       "       -0.08496386, -0.08496386, -0.08496386, -0.08496386, -0.08496386,\n",
       "       -0.08496386, -0.08496386, -0.08496386, -0.08496386, -0.08496386,\n",
       "       -0.08496386, -0.08496386, -0.08496386, -0.08496386, -0.08496386,\n",
       "       -0.08496386, -0.08496386, -0.08496386, -0.08496386, -0.08496386,\n",
       "       -0.08496386, -0.08496386, -0.08496386, -0.08496386, -0.08496386,\n",
       "       -0.08496386, -0.08496386, -0.08496386, -0.08496386, -0.08496386,\n",
       "       -0.08496386, -0.08496386, -0.08496386, -0.08496386, -0.08496386,\n",
       "       -0.08496386, -0.08496386, -0.08496386, -0.08496386, -0.08496386,\n",
       "       -0.08496386, -0.08496386, -0.08496386, -0.08496386, -0.08496386,\n",
       "       -0.08496386, -0.08496386, -0.08496386, -0.08496386, -0.08496386,\n",
       "       -0.08496386, -0.08496386, -0.08496386, -0.08496386, -0.08496386,\n",
       "       -0.08496386, -0.08496386, -0.08496386, -0.08496386, -0.08496386,\n",
       "       -0.08496386, -0.08496386, -0.08496386, -0.08496386, -0.08496386,\n",
       "       -0.08496386, -0.08496386, -0.08496386, -0.08496386, -0.08496386,\n",
       "       -0.08496386, -0.08496386, -0.08496386, -0.08496386, -0.08496386,\n",
       "       -0.08496386, -0.08496386, -0.08496386, -0.08496386, -0.08496386,\n",
       "       -0.08496386, -0.08496386, -0.08496386, -0.08496386, -0.08496386,\n",
       "       -0.08496386, -0.08496386, -0.08496386, -0.08496386, -0.08496386,\n",
       "       -0.08496386, -0.08496386, -0.08496386, -0.08496386, -0.08496386,\n",
       "       -0.08496386, -0.08496386, -0.08496386, -0.08496386, -0.08496386,\n",
       "       -0.08496386, -0.08496386, -0.08496386, -0.08496386, -0.08496386,\n",
       "       -0.08496386, -0.08496386, -0.08496386, -0.08496386, -0.08496386,\n",
       "       -0.08496386, -0.08496386, -0.08496386, -0.08496386, -0.08496386,\n",
       "       -0.08496386, -0.08496386, -0.08496386, -0.08496386, -0.08496386,\n",
       "       -0.08496386, -0.08496386, -0.08496386, -0.08496386, -0.08496386,\n",
       "       -0.08496386, -0.08496386, -0.08496386, -0.08496386, -0.08496386,\n",
       "       -0.08496386, -0.08496386, -0.08496386, -0.08496386, -0.08496386,\n",
       "       -0.08496386, -0.08496386, -0.08496386, -0.08496386, -0.08496386,\n",
       "       -0.08496386, -0.08496386, -0.08496386, -0.08496386, -0.08496386,\n",
       "       -0.08496386, -0.08496386, -0.08496386, -0.08496386, -0.08496386,\n",
       "       -0.08496386, -0.08496386, -0.08496386, -0.08496386, -0.08496386,\n",
       "       -0.08496386, -0.08496386, -0.08496386, -0.08496386, -0.08496386,\n",
       "       -0.08496386, -0.08496386, -0.08496386, -0.08496386, -0.08496386,\n",
       "       -0.08496386, -0.08496386, -0.08496386, -0.08496386, -0.08496386,\n",
       "       -0.08496386, -0.08496386, -0.08496386, -0.08496386, -0.08496386,\n",
       "       -0.08496386, -0.08496386, -0.08496386, -0.08496386, -0.08496386,\n",
       "       -0.08496386, -0.08496386, -0.08496386, -0.08496386, -0.08496386,\n",
       "       -0.08496386, -0.08496386, -0.08496386, -0.08496386, -0.08496386,\n",
       "       -0.08496386, -0.08496386, -0.08496386, -0.08496386, -0.08496386,\n",
       "       -0.08496386, -0.08496386, -0.08496386, -0.08496386, -0.08496386,\n",
       "       -0.08496386, -0.08496386, -0.08496386, -0.08496386, -0.08496386,\n",
       "       -0.08496386, -0.08496386, -0.08496386, -0.08496386, -0.08496386,\n",
       "       -0.08496386, -0.08496386])"
      ]
     },
     "execution_count": 24,
     "metadata": {},
     "output_type": "execute_result"
    }
   ],
   "source": [
    "targets1"
   ]
  },
  {
   "cell_type": "code",
   "execution_count": 19,
   "metadata": {},
   "outputs": [
    {
     "data": {
      "text/plain": [
       "(452, 168, 26)"
      ]
     },
     "execution_count": 19,
     "metadata": {},
     "output_type": "execute_result"
    }
   ],
   "source": [
    "samples2.shape"
   ]
  },
  {
   "cell_type": "code",
   "execution_count": 20,
   "metadata": {},
   "outputs": [
    {
     "data": {
      "text/plain": [
       "(452, 168, 27)"
      ]
     },
     "execution_count": 20,
     "metadata": {},
     "output_type": "execute_result"
    }
   ],
   "source": [
    "samples3.shape"
   ]
  },
  {
   "cell_type": "code",
   "execution_count": 18,
   "metadata": {},
   "outputs": [],
   "source": [
    "def evaluate_naive_model():\n",
    "    batch_maes = []\n",
    "    for step in range(val_steps):\n",
    "        samples, targets = next(val_gen)\n",
    "        preds = samples[:, -1, 1]\n",
    "        mae = np.mean(np.abs(preds - targets))\n",
    "        batch_maes.append(mae)\n",
    "    print(np.mean(batch_maes))"
   ]
  },
  {
   "cell_type": "code",
   "execution_count": null,
   "metadata": {},
   "outputs": [],
   "source": [
    "# evaluate_naive_model()\n",
    "# = 1.04"
   ]
  },
  {
   "cell_type": "markdown",
   "metadata": {},
   "source": [
    "# First RNN Model"
   ]
  },
  {
   "cell_type": "code",
   "execution_count": 15,
   "metadata": {},
   "outputs": [],
   "source": [
    "from tensorflow.keras.models import Sequential\n",
    "from tensorflow.keras import layers\n",
    "from tensorflow.keras.optimizers import RMSprop"
   ]
  },
  {
   "cell_type": "code",
   "execution_count": 40,
   "metadata": {},
   "outputs": [
    {
     "name": "stdout",
     "output_type": "stream",
     "text": [
      "Train for 500 steps, validate for 40.0 steps\n",
      "Epoch 1/20\n",
      "500/500 [==============================] - 145s 291ms/step - loss: 0.8039 - val_loss: 0.8400\n",
      "Epoch 2/20\n",
      "500/500 [==============================] - 146s 292ms/step - loss: 0.7452 - val_loss: 0.8580\n",
      "Epoch 3/20\n",
      "500/500 [==============================] - 144s 288ms/step - loss: 0.7013 - val_loss: 0.8630\n",
      "Epoch 4/20\n",
      "500/500 [==============================] - 144s 288ms/step - loss: 0.6755 - val_loss: 0.8810\n",
      "Epoch 5/20\n",
      "500/500 [==============================] - 140s 280ms/step - loss: 0.6519 - val_loss: 0.8864\n",
      "Epoch 6/20\n",
      "500/500 [==============================] - 142s 283ms/step - loss: 0.6302 - val_loss: 0.8911\n",
      "Epoch 7/20\n",
      "500/500 [==============================] - 140s 280ms/step - loss: 0.6127 - val_loss: 0.8831\n",
      "Epoch 8/20\n",
      "500/500 [==============================] - 139s 279ms/step - loss: 0.5956 - val_loss: 0.8891\n",
      "Epoch 9/20\n",
      "500/500 [==============================] - 141s 283ms/step - loss: 0.5803 - val_loss: 0.8975\n",
      "Epoch 10/20\n",
      "500/500 [==============================] - 148s 296ms/step - loss: 0.5674 - val_loss: 0.8998\n",
      "Epoch 11/20\n",
      "500/500 [==============================] - 161s 323ms/step - loss: 0.5566 - val_loss: 0.9134\n",
      "Epoch 12/20\n",
      "500/500 [==============================] - 150s 301ms/step - loss: 0.5473 - val_loss: 0.9219\n",
      "Epoch 13/20\n",
      "500/500 [==============================] - 158s 317ms/step - loss: 0.5397 - val_loss: 0.9271\n",
      "Epoch 14/20\n",
      "500/500 [==============================] - 154s 307ms/step - loss: 0.5288 - val_loss: 0.9404\n",
      "Epoch 15/20\n",
      "500/500 [==============================] - 153s 306ms/step - loss: 0.5248 - val_loss: 0.9542\n",
      "Epoch 16/20\n",
      "500/500 [==============================] - 155s 311ms/step - loss: 0.5177 - val_loss: 0.9540\n",
      "Epoch 17/20\n",
      "500/500 [==============================] - 152s 304ms/step - loss: 0.5111 - val_loss: 0.9524\n",
      "Epoch 18/20\n",
      "500/500 [==============================] - 155s 310ms/step - loss: 0.5041 - val_loss: 0.9643\n",
      "Epoch 19/20\n",
      "500/500 [==============================] - 149s 299ms/step - loss: 0.5025 - val_loss: 0.9798\n",
      "Epoch 20/20\n",
      "500/500 [==============================] - 163s 326ms/step - loss: 0.4943 - val_loss: 0.9714\n"
     ]
    }
   ],
   "source": [
    "model = Sequential()\n",
    "model.add(layers.GRU(32, input_shape=(None, float_data.shape[-1])))\n",
    "model.add(layers.Dense(1))\n",
    "\n",
    "model.compile(optimzer=RMSprop(), loss='mae')\n",
    "history = model.fit(train_gen,\n",
    "                    steps_per_epoch=500,\n",
    "                    epochs=20,\n",
    "                    validation_data=val_gen,\n",
    "                    validation_steps=temp)\n"
   ]
  },
  {
   "cell_type": "code",
   "execution_count": 46,
   "metadata": {},
   "outputs": [
    {
     "data": {
      "image/png": "[encoded data removed]",
      "text/plain": [
       "<Figure size 432x288 with 1 Axes>"
      ]
     },
     "metadata": {
      "needs_background": "light"
     },
     "output_type": "display_data"
    }
   ],
   "source": [
    "import matplotlib.pyplot as plt\n",
    "loss = history.history['loss']\n",
    "val_loss = history.history['val_loss']\n",
    "\n",
    "epochs = range(1, len(loss) + 1)\n",
    "plt.figure()\n",
    "\n",
    "plt.plot(epochs, loss, 'bo', label='Training loss')\n",
    "plt.plot(epochs, val_loss, 'b', label='Validation loss')\n",
    "plt.title('Training and validation loss')\n",
    "plt.legend()\n",
    "plt.show()"
   ]
  },
  {
   "cell_type": "code",
   "execution_count": 23,
   "metadata": {},
   "outputs": [],
   "source": [
    "step = int(np.trunc(60 / (median / 24)))\n",
    "# observations will look back 7 days (average)\n",
    "look_back = step * 7 * 24\n",
    "delay = 24 * step\n",
    "\n",
    "# one day\n",
    "batch_size = median"
   ]
  },
  {
   "cell_type": "code",
   "execution_count": 24,
   "metadata": {},
   "outputs": [
    {
     "name": "stdout",
     "output_type": "stream",
     "text": [
      "Train for 500 steps, validate for 40.0 steps\n",
      "Epoch 1/20\n",
      "500/500 [==============================] - 53s 107ms/step - loss: 0.7838 - val_loss: 0.8856\n",
      "Epoch 2/20\n",
      "500/500 [==============================] - 54s 109ms/step - loss: 0.7140 - val_loss: 0.8785\n",
      "Epoch 3/20\n",
      "500/500 [==============================] - 54s 108ms/step - loss: 0.6820 - val_loss: 0.9162\n",
      "Epoch 4/20\n",
      "500/500 [==============================] - 53s 107ms/step - loss: 0.6572 - val_loss: 0.8975\n",
      "Epoch 5/20\n",
      "500/500 [==============================] - 58s 116ms/step - loss: 0.6375 - val_loss: 0.9225\n",
      "Epoch 6/20\n",
      "500/500 [==============================] - 59s 118ms/step - loss: 0.6229 - val_loss: 0.9251\n",
      "Epoch 7/20\n",
      "500/500 [==============================] - 57s 115ms/step - loss: 0.6102 - val_loss: 0.9375\n",
      "Epoch 8/20\n",
      "500/500 [==============================] - 58s 115ms/step - loss: 0.5995 - val_loss: 0.9264\n",
      "Epoch 9/20\n",
      "500/500 [==============================] - 58s 117ms/step - loss: 0.5892 - val_loss: 0.9497\n",
      "Epoch 10/20\n",
      "500/500 [==============================] - 60s 120ms/step - loss: 0.5804 - val_loss: 0.9532\n",
      "Epoch 11/20\n",
      "500/500 [==============================] - 58s 117ms/step - loss: 0.5698 - val_loss: 0.9494\n",
      "Epoch 12/20\n",
      "500/500 [==============================] - 58s 116ms/step - loss: 0.5651 - val_loss: 0.9590\n",
      "Epoch 13/20\n",
      "500/500 [==============================] - 58s 116ms/step - loss: 0.5588 - val_loss: 0.9829\n",
      "Epoch 14/20\n",
      "500/500 [==============================] - 58s 116ms/step - loss: 0.5526 - val_loss: 1.0034\n",
      "Epoch 15/20\n",
      "500/500 [==============================] - 57s 113ms/step - loss: 0.5474 - val_loss: 1.0010\n",
      "Epoch 16/20\n",
      "500/500 [==============================] - 59s 119ms/step - loss: 0.5409 - val_loss: 1.0526\n",
      "Epoch 17/20\n",
      "500/500 [==============================] - 56s 111ms/step - loss: 0.5366 - val_loss: 1.0404\n",
      "Epoch 18/20\n",
      "500/500 [==============================] - 60s 120ms/step - loss: 0.5314 - val_loss: 1.0383\n",
      "Epoch 19/20\n",
      "500/500 [==============================] - 53s 105ms/step - loss: 0.5263 - val_loss: 1.0531\n",
      "Epoch 20/20\n",
      "500/500 [==============================] - 58s 115ms/step - loss: 0.5236 - val_loss: 1.0362\n"
     ]
    }
   ],
   "source": [
    "model_2 = Sequential()\n",
    "model_2.add(layers.Conv1D(32, 5, activation='relu',\n",
    "                        input_shape=(None, float_data.shape[-1])))\n",
    "model_2.add(layers.MaxPooling1D(3))\n",
    "model_2.add(layers.Conv1D(32, 5, activation='relu'))\n",
    "model_2.add(layers.MaxPooling1D(3))\n",
    "model_2.add(layers.Conv1D(32, 5, activation='relu'))\n",
    "model_2.add(layers.GlobalMaxPooling1D())\n",
    "model_2.add(layers.Dense(1))\n",
    "\n",
    "model_2.compile(optimizer=RMSprop(), loss='mae')\n",
    "history_2 = model_2.fit(train_gen,\n",
    "                        steps_per_epoch=500,\n",
    "                        epochs=20,\n",
    "                        validation_data=val_gen,\n",
    "                        validation_steps=temp)"
   ]
  },
  {
   "cell_type": "code",
   "execution_count": 27,
   "metadata": {},
   "outputs": [
    {
     "data": {
      "image/png": "[encoded data removed]",
      "text/plain": [
       "<Figure size 432x288 with 1 Axes>"
      ]
     },
     "metadata": {
      "needs_background": "light"
     },
     "output_type": "display_data"
    }
   ],
   "source": [
    "import matplotlib.pyplot as plt\n",
    "loss = history_2.history['loss']\n",
    "val_loss = history_2.history['val_loss']\n",
    "\n",
    "epochs = range(1, len(loss) + 1)\n",
    "plt.figure()\n",
    "\n",
    "plt.plot(epochs, loss, 'bo', label='Training loss')\n",
    "plt.plot(epochs, val_loss, 'b', label='Validation loss')\n",
    "plt.title('Training and validation loss')\n",
    "plt.legend()\n",
    "plt.show()"
   ]
  },
  {
   "cell_type": "code",
   "execution_count": 37,
   "metadata": {},
   "outputs": [
    {
     "name": "stdout",
     "output_type": "stream",
     "text": [
      "Model: \"sequential_6\"\n",
      "_________________________________________________________________\n",
      "Layer (type)                 Output Shape              Param #   \n",
      "=================================================================\n",
      "conv1d_16 (Conv1D)           (None, None, 32)          4352      \n",
      "_________________________________________________________________\n",
      "max_pooling1d_10 (MaxPooling (None, None, 32)          0         \n",
      "_________________________________________________________________\n",
      "conv1d_17 (Conv1D)           (None, None, 32)          5152      \n",
      "_________________________________________________________________\n",
      "gru_2 (GRU)                  (None, 32)                6336      \n",
      "_________________________________________________________________\n",
      "dense_6 (Dense)              (None, 1)                 33        \n",
      "=================================================================\n",
      "Total params: 15,873\n",
      "Trainable params: 15,873\n",
      "Non-trainable params: 0\n",
      "_________________________________________________________________\n",
      "Train for 500 steps, validate for 40.0 steps\n",
      "Epoch 1/20\n",
      "500/500 [==============================] - 103s 206ms/step - loss: 323.4368 - val_loss: 0.8400\n",
      "Epoch 2/20\n",
      "500/500 [==============================] - 104s 208ms/step - loss: 0.7847 - val_loss: 0.8624\n",
      "Epoch 3/20\n",
      "500/500 [==============================] - 104s 208ms/step - loss: 0.7866 - val_loss: 0.9117\n",
      "Epoch 4/20\n",
      "500/500 [==============================] - 110s 219ms/step - loss: 0.7002 - val_loss: 0.9155\n",
      "Epoch 5/20\n",
      "500/500 [==============================] - 100s 199ms/step - loss: 0.8511 - val_loss: 0.9161\n",
      "Epoch 6/20\n",
      "500/500 [==============================] - 99s 197ms/step - loss: 0.7094 - val_loss: 0.9152\n",
      "Epoch 7/20\n",
      "500/500 [==============================] - 98s 196ms/step - loss: 2.3398 - val_loss: 0.9165\n",
      "Epoch 8/20\n",
      "500/500 [==============================] - 99s 198ms/step - loss: 0.6123 - val_loss: 0.9424\n",
      "Epoch 9/20\n",
      "500/500 [==============================] - 97s 194ms/step - loss: 0.6262 - val_loss: 0.9234\n",
      "Epoch 10/20\n",
      "500/500 [==============================] - 98s 196ms/step - loss: 0.5923 - val_loss: 0.9285\n",
      "Epoch 11/20\n",
      "500/500 [==============================] - 105s 211ms/step - loss: 0.5909 - val_loss: 0.9178\n",
      "Epoch 12/20\n",
      "500/500 [==============================] - 98s 196ms/step - loss: 0.7484 - val_loss: 0.9611\n",
      "Epoch 13/20\n",
      "500/500 [==============================] - 103s 205ms/step - loss: 0.5811 - val_loss: 0.9585\n",
      "Epoch 14/20\n",
      "500/500 [==============================] - 101s 201ms/step - loss: 0.7996 - val_loss: 0.9576\n",
      "Epoch 15/20\n",
      "500/500 [==============================] - 103s 206ms/step - loss: 0.5740 - val_loss: 0.9639\n",
      "Epoch 16/20\n",
      "500/500 [==============================] - 103s 206ms/step - loss: 2.0538 - val_loss: 0.9547\n",
      "Epoch 17/20\n",
      "500/500 [==============================] - 98s 196ms/step - loss: 0.6988 - val_loss: 0.9449\n",
      "Epoch 18/20\n",
      "500/500 [==============================] - 97s 195ms/step - loss: 0.7827 - val_loss: 0.9587\n",
      "Epoch 19/20\n",
      "500/500 [==============================] - 97s 194ms/step - loss: 0.6557 - val_loss: 0.9368\n",
      "Epoch 20/20\n",
      "500/500 [==============================] - 99s 198ms/step - loss: 1.3353 - val_loss: 0.9741\n"
     ]
    }
   ],
   "source": [
    "\n",
    "model_3 = Sequential()\n",
    "model_3.add(layers.Conv1D(32, 5, activation='relu',\n",
    "                          input_shape=(None, float_data.shape[-1])))\n",
    "model_3.add(layers.MaxPooling1D(3))\n",
    "model_3.add(layers.Conv1D(32, 5, activation='relu'))\n",
    "model_3.add(layers.GRU(32, dropout=0.1, recurrent_dropout=0.3))\n",
    "model_3.add(layers.Dense(1))\n",
    "\n",
    "model_3.summary()\n",
    "model_3.compile(optimizer=RMSprop(), loss='mae')\n",
    "history_3 = model_3.fit(train_gen,\n",
    "                        steps_per_epoch=500,\n",
    "                        epochs=20,\n",
    "                        validation_data=val_gen,\n",
    "                        validation_steps=temp)"
   ]
  },
  {
   "cell_type": "code",
   "execution_count": 39,
   "metadata": {},
   "outputs": [
    {
     "data": {
      "image/png": "[encoded data removed]",
      "text/plain": [
       "<Figure size 432x288 with 1 Axes>"
      ]
     },
     "metadata": {
      "needs_background": "light"
     },
     "output_type": "display_data"
    }
   ],
   "source": [
    "loss = history_3.history['loss'][1:]\n",
    "val_loss = history_3.history['val_loss'][1:]\n",
    "\n",
    "epochs = range(1, len(loss) + 1)\n",
    "plt.figure()\n",
    "\n",
    "plt.plot(epochs, loss, 'bo', label='Training loss')\n",
    "plt.plot(epochs, val_loss, 'b', label='Validation loss')\n",
    "plt.title('Training and validation loss')\n",
    "plt.legend()\n",
    "plt.show()"
   ]
  },
  {
   "cell_type": "code",
   "execution_count": null,
   "metadata": {},
   "outputs": [],
   "source": []
  }
 ],
 "metadata": {
  "kernelspec": {
   "display_name": "Python 3",
   "language": "python",
   "name": "python3"
  },
  "language_info": {
   "codemirror_mode": {
    "name": "ipython",
    "version": 3
   },
   "file_extension": ".py",
   "mimetype": "text/x-python",
   "name": "python",
   "nbconvert_exporter": "python",
   "pygments_lexer": "ipython3",
   "version": "3.7.3"
  }
 },
 "nbformat": 4,
 "nbformat_minor": 2
}
