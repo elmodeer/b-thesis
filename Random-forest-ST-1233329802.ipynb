{
 "cells": [
  {
   "cell_type": "code",
   "execution_count": 1,
   "metadata": {},
   "outputs": [
    {
     "data": {
      "text/plain": [
       "Index(['time', 'accX', 'accX_std', 'accY', 'accY_std', 'accZ', 'accZ_std',\n",
       "       'gyrX', 'gyrX_std', 'gyrY', 'gyrY_std', 'gyrZ', 'gyrZ_std', 'heartR',\n",
       "       'heartR_std', 'AirTemperature', 'AT_std', 'PlethysmogramGreen',\n",
       "       'ple_std', 'mood', 'tense', 'tired', 'rumination', 'socialize',\n",
       "       'socialize_val', 'work_time', 'phq_1', 'phq_2'],\n",
       "      dtype='object')"
      ]
     },
     "execution_count": 1,
     "metadata": {},
     "output_type": "execute_result"
    }
   ],
   "source": [
    "import pandas as pd\n",
    "output_path = '/Volumes/hex/ST-1233329802-res/'\n",
    "p_802 = pd.read_csv(output_path + 'ST-1233329802_3.0.csv')\n",
    "\n",
    "p_802.columns"
   ]
  },
  {
   "cell_type": "code",
   "execution_count": 14,
   "metadata": {},
   "outputs": [],
   "source": [
    "# Regression"
   ]
  },
  {
   "cell_type": "code",
   "execution_count": 15,
   "metadata": {},
   "outputs": [],
   "source": [
    "from sklearn.model_selection import train_test_split\n",
    "from sklearn.ensemble import RandomForestRegressor"
   ]
  },
  {
   "cell_type": "code",
   "execution_count": 3,
   "metadata": {},
   "outputs": [],
   "source": [
    "def display_scores(score):\n",
    "    print('scores:', score)\n",
    "    print('Mean:', score.mean())\n",
    "    print('std dev:', score.std())"
   ]
  },
  {
   "cell_type": "code",
   "execution_count": 4,
   "metadata": {},
   "outputs": [],
   "source": [
    "train_set, test_set = train_test_split(p_802, test_size=0.25, random_state=42, shuffle=True)"
   ]
  },
  {
   "cell_type": "code",
   "execution_count": 5,
   "metadata": {},
   "outputs": [],
   "source": [
    "X_train = train_set.loc[:,'accX':'work_time']\n",
    "y_train_1 = train_set.loc[:, ['phq_1']].values.ravel()\n",
    "y_train_2 = train_set.loc[:, ['phq_2']].values.ravel()\n",
    "\n",
    "X_test = test_set.loc[:,'accX':'work_time']\n",
    "y_test_1 = test_set[['phq_1']].values.ravel()\n",
    "y_test_2 = test_set[['phq_2']].values.ravel()"
   ]
  },
  {
   "cell_type": "code",
   "execution_count": 6,
   "metadata": {},
   "outputs": [
    {
     "data": {
      "text/html": [
       "<div>\n",
       "<style scoped>\n",
       "    .dataframe tbody tr th:only-of-type {\n",
       "        vertical-align: middle;\n",
       "    }\n",
       "\n",
       "    .dataframe tbody tr th {\n",
       "        vertical-align: top;\n",
       "    }\n",
       "\n",
       "    .dataframe thead th {\n",
       "        text-align: right;\n",
       "    }\n",
       "</style>\n",
       "<table border=\"1\" class=\"dataframe\">\n",
       "  <thead>\n",
       "    <tr style=\"text-align: right;\">\n",
       "      <th></th>\n",
       "      <th>accX</th>\n",
       "      <th>accX_std</th>\n",
       "      <th>accY</th>\n",
       "      <th>accY_std</th>\n",
       "      <th>accZ</th>\n",
       "      <th>accZ_std</th>\n",
       "      <th>gyrX</th>\n",
       "      <th>gyrX_std</th>\n",
       "      <th>gyrY</th>\n",
       "      <th>gyrY_std</th>\n",
       "      <th>...</th>\n",
       "      <th>AT_std</th>\n",
       "      <th>PlethysmogramGreen</th>\n",
       "      <th>ple_std</th>\n",
       "      <th>mood</th>\n",
       "      <th>tense</th>\n",
       "      <th>tired</th>\n",
       "      <th>rumination</th>\n",
       "      <th>socialize</th>\n",
       "      <th>socialize_val</th>\n",
       "      <th>work_time</th>\n",
       "    </tr>\n",
       "  </thead>\n",
       "  <tbody>\n",
       "    <tr>\n",
       "      <td>75197</td>\n",
       "      <td>-5.71</td>\n",
       "      <td>0.03</td>\n",
       "      <td>3.80</td>\n",
       "      <td>0.03</td>\n",
       "      <td>-7.29</td>\n",
       "      <td>0.03</td>\n",
       "      <td>-0.07</td>\n",
       "      <td>0.11</td>\n",
       "      <td>0.04</td>\n",
       "      <td>0.10</td>\n",
       "      <td>...</td>\n",
       "      <td>2.20</td>\n",
       "      <td>4193342.62</td>\n",
       "      <td>81.07</td>\n",
       "      <td>3</td>\n",
       "      <td>2</td>\n",
       "      <td>0</td>\n",
       "      <td>7</td>\n",
       "      <td>90</td>\n",
       "      <td>50</td>\n",
       "      <td>110</td>\n",
       "    </tr>\n",
       "    <tr>\n",
       "      <td>106119</td>\n",
       "      <td>6.41</td>\n",
       "      <td>0.03</td>\n",
       "      <td>-4.11</td>\n",
       "      <td>0.04</td>\n",
       "      <td>6.07</td>\n",
       "      <td>0.04</td>\n",
       "      <td>-0.08</td>\n",
       "      <td>0.26</td>\n",
       "      <td>-0.31</td>\n",
       "      <td>0.31</td>\n",
       "      <td>...</td>\n",
       "      <td>2.38</td>\n",
       "      <td>4192824.89</td>\n",
       "      <td>78.96</td>\n",
       "      <td>1</td>\n",
       "      <td>1</td>\n",
       "      <td>1</td>\n",
       "      <td>5</td>\n",
       "      <td>8</td>\n",
       "      <td>91</td>\n",
       "      <td>220</td>\n",
       "    </tr>\n",
       "    <tr>\n",
       "      <td>82523</td>\n",
       "      <td>-1.82</td>\n",
       "      <td>0.03</td>\n",
       "      <td>-9.57</td>\n",
       "      <td>0.03</td>\n",
       "      <td>1.52</td>\n",
       "      <td>0.03</td>\n",
       "      <td>-0.11</td>\n",
       "      <td>0.23</td>\n",
       "      <td>0.04</td>\n",
       "      <td>0.13</td>\n",
       "      <td>...</td>\n",
       "      <td>2.34</td>\n",
       "      <td>4193368.09</td>\n",
       "      <td>76.69</td>\n",
       "      <td>3</td>\n",
       "      <td>4</td>\n",
       "      <td>2</td>\n",
       "      <td>5</td>\n",
       "      <td>66</td>\n",
       "      <td>58</td>\n",
       "      <td>225</td>\n",
       "    </tr>\n",
       "    <tr>\n",
       "      <td>77584</td>\n",
       "      <td>1.50</td>\n",
       "      <td>0.03</td>\n",
       "      <td>-9.47</td>\n",
       "      <td>0.03</td>\n",
       "      <td>2.11</td>\n",
       "      <td>0.03</td>\n",
       "      <td>-0.05</td>\n",
       "      <td>0.16</td>\n",
       "      <td>-0.04</td>\n",
       "      <td>0.08</td>\n",
       "      <td>...</td>\n",
       "      <td>2.12</td>\n",
       "      <td>4193336.03</td>\n",
       "      <td>83.25</td>\n",
       "      <td>3</td>\n",
       "      <td>4</td>\n",
       "      <td>1</td>\n",
       "      <td>7</td>\n",
       "      <td>88</td>\n",
       "      <td>57</td>\n",
       "      <td>155</td>\n",
       "    </tr>\n",
       "    <tr>\n",
       "      <td>95144</td>\n",
       "      <td>1.94</td>\n",
       "      <td>0.03</td>\n",
       "      <td>-9.56</td>\n",
       "      <td>0.03</td>\n",
       "      <td>-0.25</td>\n",
       "      <td>0.03</td>\n",
       "      <td>-0.06</td>\n",
       "      <td>0.43</td>\n",
       "      <td>0.06</td>\n",
       "      <td>0.26</td>\n",
       "      <td>...</td>\n",
       "      <td>2.42</td>\n",
       "      <td>4193291.71</td>\n",
       "      <td>78.84</td>\n",
       "      <td>3</td>\n",
       "      <td>3</td>\n",
       "      <td>3</td>\n",
       "      <td>6</td>\n",
       "      <td>83</td>\n",
       "      <td>68</td>\n",
       "      <td>85</td>\n",
       "    </tr>\n",
       "  </tbody>\n",
       "</table>\n",
       "<p>5 rows × 25 columns</p>\n",
       "</div>"
      ],
      "text/plain": [
       "        accX  accX_std  accY  accY_std  accZ  accZ_std  gyrX  gyrX_std  gyrY  \\\n",
       "75197  -5.71      0.03  3.80      0.03 -7.29      0.03 -0.07      0.11  0.04   \n",
       "106119  6.41      0.03 -4.11      0.04  6.07      0.04 -0.08      0.26 -0.31   \n",
       "82523  -1.82      0.03 -9.57      0.03  1.52      0.03 -0.11      0.23  0.04   \n",
       "77584   1.50      0.03 -9.47      0.03  2.11      0.03 -0.05      0.16 -0.04   \n",
       "95144   1.94      0.03 -9.56      0.03 -0.25      0.03 -0.06      0.43  0.06   \n",
       "\n",
       "        gyrY_std  ...  AT_std  PlethysmogramGreen  ple_std  mood  tense  \\\n",
       "75197       0.10  ...    2.20          4193342.62    81.07     3      2   \n",
       "106119      0.31  ...    2.38          4192824.89    78.96     1      1   \n",
       "82523       0.13  ...    2.34          4193368.09    76.69     3      4   \n",
       "77584       0.08  ...    2.12          4193336.03    83.25     3      4   \n",
       "95144       0.26  ...    2.42          4193291.71    78.84     3      3   \n",
       "\n",
       "        tired  rumination  socialize  socialize_val  work_time  \n",
       "75197       0           7         90             50        110  \n",
       "106119      1           5          8             91        220  \n",
       "82523       2           5         66             58        225  \n",
       "77584       1           7         88             57        155  \n",
       "95144       3           6         83             68         85  \n",
       "\n",
       "[5 rows x 25 columns]"
      ]
     },
     "execution_count": 6,
     "metadata": {},
     "output_type": "execute_result"
    }
   ],
   "source": [
    "X_train.head()"
   ]
  },
  {
   "cell_type": "code",
   "execution_count": 7,
   "metadata": {},
   "outputs": [
    {
     "data": {
      "text/plain": [
       "RandomForestRegressor(bootstrap=True, criterion='mse', max_depth=None,\n",
       "           max_features='auto', max_leaf_nodes=35,\n",
       "           min_impurity_decrease=0.0, min_impurity_split=None,\n",
       "           min_samples_leaf=1, min_samples_split=2,\n",
       "           min_weight_fraction_leaf=0.0, n_estimators=500, n_jobs=-1,\n",
       "           oob_score=True, random_state=None, verbose=0, warm_start=False)"
      ]
     },
     "execution_count": 7,
     "metadata": {},
     "output_type": "execute_result"
    }
   ],
   "source": [
    "rnd_reg = RandomForestRegressor(n_estimators=500, max_leaf_nodes=35, n_jobs=-1 ,oob_score=True)\n",
    "rnd_reg.fit(X_train, y_train_1)"
   ]
  },
  {
   "cell_type": "code",
   "execution_count": 8,
   "metadata": {},
   "outputs": [],
   "source": [
    "y_pred_1 = rnd_reg.predict(X_train)"
   ]
  },
  {
   "cell_type": "code",
   "execution_count": 9,
   "metadata": {},
   "outputs": [
    {
     "data": {
      "text/plain": [
       "0.6942759610082175"
      ]
     },
     "execution_count": 9,
     "metadata": {},
     "output_type": "execute_result"
    }
   ],
   "source": [
    "from sklearn.model_selection import cross_val_score\n",
    "from sklearn.metrics import mean_squared_error\n",
    "import numpy as np\n",
    "forest_mse = mean_squared_error(y_train_1, y_pred_1)\n",
    "forest_rmse = np.sqrt(forest_mse)\n",
    "forest_rmse"
   ]
  },
  {
   "cell_type": "code",
   "execution_count": 10,
   "metadata": {},
   "outputs": [
    {
     "data": {
      "text/plain": [
       "2.021772455098049"
      ]
     },
     "execution_count": 10,
     "metadata": {},
     "output_type": "execute_result"
    }
   ],
   "source": [
    "from sklearn.utils import shuffle\n",
    "y_shuffled = shuffle(y_pred_1)\n",
    "forest_mse_shuffled = mean_squared_error(y_train_1, y_shuffled)\n",
    "forest_rmse_shuffled = np.sqrt(forest_mse_shuffled)\n",
    "forest_rmse_shuffled"
   ]
  },
  {
   "cell_type": "code",
   "execution_count": null,
   "metadata": {},
   "outputs": [],
   "source": []
  },
  {
   "cell_type": "code",
   "execution_count": 11,
   "metadata": {},
   "outputs": [
    {
     "name": "stdout",
     "output_type": "stream",
     "text": [
      "scores: [0.6915564  0.69862126 0.6969427  0.6780777  0.70186013 0.6723596\n",
      " 0.67481814 0.69411716 0.69567415 0.70278675]\n",
      "Mean: 0.6906813997667876\n",
      "std dev: 0.01075839701812411\n"
     ]
    }
   ],
   "source": [
    "forest_scores = cross_val_score(rnd_reg, X_train, y_train_1,scoring=\"neg_mean_squared_error\", cv=10)\n",
    "\n",
    "forest_rmse_scores = np.sqrt(-forest_scores)\n",
    "display_scores(forest_rmse_scores)"
   ]
  },
  {
   "cell_type": "code",
   "execution_count": 12,
   "metadata": {},
   "outputs": [
    {
     "data": {
      "text/plain": [
       "0.7873482196883292"
      ]
     },
     "execution_count": 12,
     "metadata": {},
     "output_type": "execute_result"
    }
   ],
   "source": [
    "# on test set\n",
    "from sklearn.metrics import r2_score\n",
    "\n",
    "y_pred_test = rnd_reg.predict(X_test)\n",
    "r2_score(y_test_1, y_pred_test)"
   ]
  },
  {
   "cell_type": "code",
   "execution_count": 16,
   "metadata": {},
   "outputs": [
    {
     "data": {
      "text/plain": [
       "RandomForestClassifier(bootstrap=True, class_weight=None, criterion='gini',\n",
       "            max_depth=None, max_features='auto', max_leaf_nodes=35,\n",
       "            min_impurity_decrease=0.0, min_impurity_split=None,\n",
       "            min_samples_leaf=1, min_samples_split=2,\n",
       "            min_weight_fraction_leaf=0.0, n_estimators=500, n_jobs=-1,\n",
       "            oob_score=True, random_state=None, verbose=0, warm_start=False)"
      ]
     },
     "execution_count": 16,
     "metadata": {},
     "output_type": "execute_result"
    }
   ],
   "source": [
    "# Classification\n",
    "from sklearn.ensemble import RandomForestClassifier\n",
    "from sklearn.metrics import accuracy_score\n",
    "rnd_clf = RandomForestClassifier(n_estimators=500, max_leaf_nodes=35, n_jobs=-1 ,oob_score=True)\n",
    "rnd_clf.fit(X_train, y_train_1)"
   ]
  },
  {
   "cell_type": "code",
   "execution_count": 17,
   "metadata": {},
   "outputs": [],
   "source": [
    "y_pred_rf = rnd_clf.predict(X_train)"
   ]
  },
  {
   "cell_type": "code",
   "execution_count": 22,
   "metadata": {},
   "outputs": [
    {
     "data": {
      "text/plain": [
       "0.844183786027107"
      ]
     },
     "execution_count": 22,
     "metadata": {},
     "output_type": "execute_result"
    }
   ],
   "source": [
    "accuracy_score(y_train_1, y_pred_rf)"
   ]
  },
  {
   "cell_type": "code",
   "execution_count": 26,
   "metadata": {},
   "outputs": [
    {
     "data": {
      "text/plain": [
       "0.44033070126579515"
      ]
     },
     "execution_count": 26,
     "metadata": {},
     "output_type": "execute_result"
    }
   ],
   "source": [
    "y_shuffled_rnd = shuffle(y_pred_rf)\n",
    "accuracy_score(y_train_1, y_shuffled_rnd)"
   ]
  }
 ],
 "metadata": {
  "kernelspec": {
   "display_name": "Python 3",
   "language": "python",
   "name": "python3"
  },
  "language_info": {
   "codemirror_mode": {
    "name": "ipython",
    "version": 3
   },
   "file_extension": ".py",
   "mimetype": "text/x-python",
   "name": "python",
   "nbconvert_exporter": "python",
   "pygments_lexer": "ipython3",
   "version": "3.7.3"
  }
 },
 "nbformat": 4,
 "nbformat_minor": 2
}
