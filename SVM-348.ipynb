{
 "cells": [
  {
   "cell_type": "code",
   "execution_count": 2,
   "metadata": {},
   "outputs": [],
   "source": [
    "from sklearn import svm\n",
    "from sklearn.metrics import confusion_matrix \n",
    "from sklearn.model_selection import train_test_split "
   ]
  },
  {
   "cell_type": "code",
   "execution_count": 24,
   "metadata": {},
   "outputs": [],
   "source": [
    "import pandas as pd\n",
    "output_path = '/Users/Hesham/dev/fluffDecoder/data/'\n",
    "p = pd.read_csv(output_path + 'ST1814523348_1.0.csv')"
   ]
  },
  {
   "cell_type": "code",
   "execution_count": 25,
   "metadata": {},
   "outputs": [],
   "source": [
    "p = p.drop(['date', 'window'], axis=1).astype(float)\n"
   ]
  },
  {
   "cell_type": "code",
   "execution_count": 26,
   "metadata": {},
   "outputs": [
    {
     "data": {
      "text/html": [
       "<div>\n",
       "<style scoped>\n",
       "    .dataframe tbody tr th:only-of-type {\n",
       "        vertical-align: middle;\n",
       "    }\n",
       "\n",
       "    .dataframe tbody tr th {\n",
       "        vertical-align: top;\n",
       "    }\n",
       "\n",
       "    .dataframe thead th {\n",
       "        text-align: right;\n",
       "    }\n",
       "</style>\n",
       "<table border=\"1\" class=\"dataframe\">\n",
       "  <thead>\n",
       "    <tr style=\"text-align: right;\">\n",
       "      <th></th>\n",
       "      <th>time</th>\n",
       "      <th>accX</th>\n",
       "      <th>accX_std</th>\n",
       "      <th>accY</th>\n",
       "      <th>accY_std</th>\n",
       "      <th>accZ</th>\n",
       "      <th>accZ_std</th>\n",
       "      <th>gyrX</th>\n",
       "      <th>gyrX_std</th>\n",
       "      <th>gyrY</th>\n",
       "      <th>...</th>\n",
       "      <th>mood</th>\n",
       "      <th>tense</th>\n",
       "      <th>tired</th>\n",
       "      <th>rumination</th>\n",
       "      <th>socialize</th>\n",
       "      <th>socialize_val</th>\n",
       "      <th>work_time</th>\n",
       "      <th>day_sleep</th>\n",
       "      <th>phq_1</th>\n",
       "      <th>phq_2</th>\n",
       "    </tr>\n",
       "  </thead>\n",
       "  <tbody>\n",
       "    <tr>\n",
       "      <td>0</td>\n",
       "      <td>1.542356e+09</td>\n",
       "      <td>7.24</td>\n",
       "      <td>5.79</td>\n",
       "      <td>3.19</td>\n",
       "      <td>2.39</td>\n",
       "      <td>2.15</td>\n",
       "      <td>2.39</td>\n",
       "      <td>-0.21</td>\n",
       "      <td>30.36</td>\n",
       "      <td>0.14</td>\n",
       "      <td>...</td>\n",
       "      <td>4.0</td>\n",
       "      <td>4.0</td>\n",
       "      <td>1.0</td>\n",
       "      <td>2.0</td>\n",
       "      <td>50.0</td>\n",
       "      <td>49.0</td>\n",
       "      <td>60.0</td>\n",
       "      <td>0.0</td>\n",
       "      <td>6.0</td>\n",
       "      <td>6.0</td>\n",
       "    </tr>\n",
       "    <tr>\n",
       "      <td>1</td>\n",
       "      <td>1.542356e+09</td>\n",
       "      <td>-0.03</td>\n",
       "      <td>0.30</td>\n",
       "      <td>-0.03</td>\n",
       "      <td>0.21</td>\n",
       "      <td>9.92</td>\n",
       "      <td>0.21</td>\n",
       "      <td>-0.07</td>\n",
       "      <td>5.93</td>\n",
       "      <td>0.14</td>\n",
       "      <td>...</td>\n",
       "      <td>4.0</td>\n",
       "      <td>4.0</td>\n",
       "      <td>1.0</td>\n",
       "      <td>2.0</td>\n",
       "      <td>50.0</td>\n",
       "      <td>49.0</td>\n",
       "      <td>60.0</td>\n",
       "      <td>0.0</td>\n",
       "      <td>6.0</td>\n",
       "      <td>6.0</td>\n",
       "    </tr>\n",
       "    <tr>\n",
       "      <td>2</td>\n",
       "      <td>1.542356e+09</td>\n",
       "      <td>-0.02</td>\n",
       "      <td>0.03</td>\n",
       "      <td>-0.03</td>\n",
       "      <td>0.04</td>\n",
       "      <td>9.93</td>\n",
       "      <td>0.04</td>\n",
       "      <td>-0.14</td>\n",
       "      <td>0.14</td>\n",
       "      <td>0.14</td>\n",
       "      <td>...</td>\n",
       "      <td>4.0</td>\n",
       "      <td>4.0</td>\n",
       "      <td>1.0</td>\n",
       "      <td>2.0</td>\n",
       "      <td>50.0</td>\n",
       "      <td>49.0</td>\n",
       "      <td>60.0</td>\n",
       "      <td>0.0</td>\n",
       "      <td>6.0</td>\n",
       "      <td>6.0</td>\n",
       "    </tr>\n",
       "    <tr>\n",
       "      <td>3</td>\n",
       "      <td>1.542356e+09</td>\n",
       "      <td>-0.03</td>\n",
       "      <td>0.03</td>\n",
       "      <td>-0.03</td>\n",
       "      <td>0.04</td>\n",
       "      <td>9.92</td>\n",
       "      <td>0.04</td>\n",
       "      <td>-0.21</td>\n",
       "      <td>0.12</td>\n",
       "      <td>0.14</td>\n",
       "      <td>...</td>\n",
       "      <td>4.0</td>\n",
       "      <td>4.0</td>\n",
       "      <td>1.0</td>\n",
       "      <td>2.0</td>\n",
       "      <td>50.0</td>\n",
       "      <td>49.0</td>\n",
       "      <td>60.0</td>\n",
       "      <td>0.0</td>\n",
       "      <td>6.0</td>\n",
       "      <td>6.0</td>\n",
       "    </tr>\n",
       "    <tr>\n",
       "      <td>4</td>\n",
       "      <td>1.542356e+09</td>\n",
       "      <td>-0.03</td>\n",
       "      <td>0.05</td>\n",
       "      <td>-0.03</td>\n",
       "      <td>0.04</td>\n",
       "      <td>9.91</td>\n",
       "      <td>0.04</td>\n",
       "      <td>-0.28</td>\n",
       "      <td>0.11</td>\n",
       "      <td>0.14</td>\n",
       "      <td>...</td>\n",
       "      <td>4.0</td>\n",
       "      <td>4.0</td>\n",
       "      <td>1.0</td>\n",
       "      <td>2.0</td>\n",
       "      <td>50.0</td>\n",
       "      <td>49.0</td>\n",
       "      <td>60.0</td>\n",
       "      <td>0.0</td>\n",
       "      <td>6.0</td>\n",
       "      <td>6.0</td>\n",
       "    </tr>\n",
       "  </tbody>\n",
       "</table>\n",
       "<p>5 rows × 29 columns</p>\n",
       "</div>"
      ],
      "text/plain": [
       "           time  accX  accX_std  accY  accY_std  accZ  accZ_std  gyrX  \\\n",
       "0  1.542356e+09  7.24      5.79  3.19      2.39  2.15      2.39 -0.21   \n",
       "1  1.542356e+09 -0.03      0.30 -0.03      0.21  9.92      0.21 -0.07   \n",
       "2  1.542356e+09 -0.02      0.03 -0.03      0.04  9.93      0.04 -0.14   \n",
       "3  1.542356e+09 -0.03      0.03 -0.03      0.04  9.92      0.04 -0.21   \n",
       "4  1.542356e+09 -0.03      0.05 -0.03      0.04  9.91      0.04 -0.28   \n",
       "\n",
       "   gyrX_std  gyrY  ...  mood  tense  tired  rumination  socialize  \\\n",
       "0     30.36  0.14  ...   4.0    4.0    1.0         2.0       50.0   \n",
       "1      5.93  0.14  ...   4.0    4.0    1.0         2.0       50.0   \n",
       "2      0.14  0.14  ...   4.0    4.0    1.0         2.0       50.0   \n",
       "3      0.12  0.14  ...   4.0    4.0    1.0         2.0       50.0   \n",
       "4      0.11  0.14  ...   4.0    4.0    1.0         2.0       50.0   \n",
       "\n",
       "   socialize_val  work_time  day_sleep  phq_1  phq_2  \n",
       "0           49.0       60.0        0.0    6.0    6.0  \n",
       "1           49.0       60.0        0.0    6.0    6.0  \n",
       "2           49.0       60.0        0.0    6.0    6.0  \n",
       "3           49.0       60.0        0.0    6.0    6.0  \n",
       "4           49.0       60.0        0.0    6.0    6.0  \n",
       "\n",
       "[5 rows x 29 columns]"
      ]
     },
     "execution_count": 26,
     "metadata": {},
     "output_type": "execute_result"
    }
   ],
   "source": [
    "p.head()"
   ]
  },
  {
   "cell_type": "code",
   "execution_count": 7,
   "metadata": {},
   "outputs": [],
   "source": [
    "# y = p[['phq_1']]\n",
    "# t1, t2 = train_test_split(p, stratify=y, test_size=0.5, random_state=42, shuffle=True)"
   ]
  },
  {
   "cell_type": "code",
   "execution_count": 8,
   "metadata": {},
   "outputs": [
    {
     "data": {
      "text/plain": [
       "83127"
      ]
     },
     "execution_count": 8,
     "metadata": {},
     "output_type": "execute_result"
    }
   ],
   "source": [
    "len(t1.index)"
   ]
  },
  {
   "cell_type": "code",
   "execution_count": 9,
   "metadata": {},
   "outputs": [],
   "source": [
    "# train_set, test_set = train_test_split(p, test_size=0.25, random_state=42, shuffle=True)"
   ]
  },
  {
   "cell_type": "code",
   "execution_count": 27,
   "metadata": {},
   "outputs": [],
   "source": [
    "y = p[['phq_1']]\n",
    "train_set_st, test_set_st = train_test_split(p, stratify=y, test_size=0.25, random_state=42, shuffle=True)"
   ]
  },
  {
   "cell_type": "code",
   "execution_count": 28,
   "metadata": {},
   "outputs": [
    {
     "data": {
      "text/html": [
       "<div>\n",
       "<style scoped>\n",
       "    .dataframe tbody tr th:only-of-type {\n",
       "        vertical-align: middle;\n",
       "    }\n",
       "\n",
       "    .dataframe tbody tr th {\n",
       "        vertical-align: top;\n",
       "    }\n",
       "\n",
       "    .dataframe thead th {\n",
       "        text-align: right;\n",
       "    }\n",
       "</style>\n",
       "<table border=\"1\" class=\"dataframe\">\n",
       "  <thead>\n",
       "    <tr style=\"text-align: right;\">\n",
       "      <th></th>\n",
       "      <th>time</th>\n",
       "      <th>accX</th>\n",
       "      <th>accX_std</th>\n",
       "      <th>accY</th>\n",
       "      <th>accY_std</th>\n",
       "      <th>accZ</th>\n",
       "      <th>accZ_std</th>\n",
       "      <th>gyrX</th>\n",
       "      <th>gyrX_std</th>\n",
       "      <th>gyrY</th>\n",
       "      <th>...</th>\n",
       "      <th>mood</th>\n",
       "      <th>tense</th>\n",
       "      <th>tired</th>\n",
       "      <th>rumination</th>\n",
       "      <th>socialize</th>\n",
       "      <th>socialize_val</th>\n",
       "      <th>work_time</th>\n",
       "      <th>day_sleep</th>\n",
       "      <th>phq_1</th>\n",
       "      <th>phq_2</th>\n",
       "    </tr>\n",
       "  </thead>\n",
       "  <tbody>\n",
       "    <tr>\n",
       "      <td>81804</td>\n",
       "      <td>1.553096e+09</td>\n",
       "      <td>-5.40</td>\n",
       "      <td>3.43</td>\n",
       "      <td>-6.41</td>\n",
       "      <td>3.48</td>\n",
       "      <td>2.47</td>\n",
       "      <td>3.48</td>\n",
       "      <td>-0.84</td>\n",
       "      <td>97.90</td>\n",
       "      <td>-0.11</td>\n",
       "      <td>...</td>\n",
       "      <td>5.0</td>\n",
       "      <td>5.0</td>\n",
       "      <td>1.0</td>\n",
       "      <td>1.0</td>\n",
       "      <td>15.0</td>\n",
       "      <td>46.0</td>\n",
       "      <td>0.0</td>\n",
       "      <td>0.0</td>\n",
       "      <td>5.0</td>\n",
       "      <td>5.0</td>\n",
       "    </tr>\n",
       "    <tr>\n",
       "      <td>41754</td>\n",
       "      <td>1.547594e+09</td>\n",
       "      <td>0.49</td>\n",
       "      <td>5.98</td>\n",
       "      <td>-5.95</td>\n",
       "      <td>4.17</td>\n",
       "      <td>1.96</td>\n",
       "      <td>4.17</td>\n",
       "      <td>4.48</td>\n",
       "      <td>98.39</td>\n",
       "      <td>-0.63</td>\n",
       "      <td>...</td>\n",
       "      <td>5.0</td>\n",
       "      <td>5.0</td>\n",
       "      <td>1.0</td>\n",
       "      <td>1.0</td>\n",
       "      <td>44.0</td>\n",
       "      <td>49.0</td>\n",
       "      <td>60.0</td>\n",
       "      <td>0.0</td>\n",
       "      <td>6.0</td>\n",
       "      <td>6.0</td>\n",
       "    </tr>\n",
       "    <tr>\n",
       "      <td>114962</td>\n",
       "      <td>1.559055e+09</td>\n",
       "      <td>-7.90</td>\n",
       "      <td>4.89</td>\n",
       "      <td>-2.69</td>\n",
       "      <td>4.31</td>\n",
       "      <td>0.16</td>\n",
       "      <td>4.31</td>\n",
       "      <td>0.35</td>\n",
       "      <td>38.66</td>\n",
       "      <td>1.96</td>\n",
       "      <td>...</td>\n",
       "      <td>5.0</td>\n",
       "      <td>5.0</td>\n",
       "      <td>1.0</td>\n",
       "      <td>1.0</td>\n",
       "      <td>47.0</td>\n",
       "      <td>45.0</td>\n",
       "      <td>60.0</td>\n",
       "      <td>0.0</td>\n",
       "      <td>5.0</td>\n",
       "      <td>5.0</td>\n",
       "    </tr>\n",
       "    <tr>\n",
       "      <td>116790</td>\n",
       "      <td>1.559308e+09</td>\n",
       "      <td>0.42</td>\n",
       "      <td>0.70</td>\n",
       "      <td>-3.60</td>\n",
       "      <td>1.54</td>\n",
       "      <td>9.16</td>\n",
       "      <td>1.54</td>\n",
       "      <td>-0.21</td>\n",
       "      <td>12.90</td>\n",
       "      <td>-0.07</td>\n",
       "      <td>...</td>\n",
       "      <td>5.0</td>\n",
       "      <td>5.0</td>\n",
       "      <td>1.0</td>\n",
       "      <td>1.0</td>\n",
       "      <td>51.0</td>\n",
       "      <td>50.0</td>\n",
       "      <td>0.0</td>\n",
       "      <td>0.0</td>\n",
       "      <td>5.0</td>\n",
       "      <td>5.0</td>\n",
       "    </tr>\n",
       "    <tr>\n",
       "      <td>99526</td>\n",
       "      <td>1.556638e+09</td>\n",
       "      <td>3.89</td>\n",
       "      <td>0.83</td>\n",
       "      <td>-8.63</td>\n",
       "      <td>1.28</td>\n",
       "      <td>3.13</td>\n",
       "      <td>1.28</td>\n",
       "      <td>-0.14</td>\n",
       "      <td>14.62</td>\n",
       "      <td>0.21</td>\n",
       "      <td>...</td>\n",
       "      <td>5.0</td>\n",
       "      <td>5.0</td>\n",
       "      <td>2.0</td>\n",
       "      <td>1.0</td>\n",
       "      <td>0.0</td>\n",
       "      <td>0.0</td>\n",
       "      <td>0.0</td>\n",
       "      <td>0.0</td>\n",
       "      <td>6.0</td>\n",
       "      <td>6.0</td>\n",
       "    </tr>\n",
       "  </tbody>\n",
       "</table>\n",
       "<p>5 rows × 29 columns</p>\n",
       "</div>"
      ],
      "text/plain": [
       "                time  accX  accX_std  accY  accY_std  accZ  accZ_std  gyrX  \\\n",
       "81804   1.553096e+09 -5.40      3.43 -6.41      3.48  2.47      3.48 -0.84   \n",
       "41754   1.547594e+09  0.49      5.98 -5.95      4.17  1.96      4.17  4.48   \n",
       "114962  1.559055e+09 -7.90      4.89 -2.69      4.31  0.16      4.31  0.35   \n",
       "116790  1.559308e+09  0.42      0.70 -3.60      1.54  9.16      1.54 -0.21   \n",
       "99526   1.556638e+09  3.89      0.83 -8.63      1.28  3.13      1.28 -0.14   \n",
       "\n",
       "        gyrX_std  gyrY  ...  mood  tense  tired  rumination  socialize  \\\n",
       "81804      97.90 -0.11  ...   5.0    5.0    1.0         1.0       15.0   \n",
       "41754      98.39 -0.63  ...   5.0    5.0    1.0         1.0       44.0   \n",
       "114962     38.66  1.96  ...   5.0    5.0    1.0         1.0       47.0   \n",
       "116790     12.90 -0.07  ...   5.0    5.0    1.0         1.0       51.0   \n",
       "99526      14.62  0.21  ...   5.0    5.0    2.0         1.0        0.0   \n",
       "\n",
       "        socialize_val  work_time  day_sleep  phq_1  phq_2  \n",
       "81804            46.0        0.0        0.0    5.0    5.0  \n",
       "41754            49.0       60.0        0.0    6.0    6.0  \n",
       "114962           45.0       60.0        0.0    5.0    5.0  \n",
       "116790           50.0        0.0        0.0    5.0    5.0  \n",
       "99526             0.0        0.0        0.0    6.0    6.0  \n",
       "\n",
       "[5 rows x 29 columns]"
      ]
     },
     "execution_count": 28,
     "metadata": {},
     "output_type": "execute_result"
    }
   ],
   "source": [
    "train_set_st.head()"
   ]
  },
  {
   "cell_type": "code",
   "execution_count": 29,
   "metadata": {},
   "outputs": [],
   "source": [
    "X_train_st = train_set_st.loc[:,'accX':'work_time']\n",
    "y_train_st_1 = train_set_st.loc[:, ['phq_1']].values.ravel()\n",
    "# y_train_st_2 = train_set_st.loc[:, ['phq_2']].values.ravel()\n",
    "\n",
    "X_test_st = test_set_st.loc[:,'accX':'work_time']\n",
    "y_test_st_1 = test_set_st[['phq_1']].values.ravel()\n",
    "# y_test_st_2 = test_set_st[['phq_2']].values.ravel()"
   ]
  },
  {
   "cell_type": "code",
   "execution_count": 59,
   "metadata": {},
   "outputs": [
    {
     "data": {
      "text/plain": [
       "Index(['accX', 'accX_std', 'accY', 'accY_std', 'accZ', 'accZ_std', 'gyrX',\n",
       "       'gyrX_std', 'gyrY', 'gyrY_std', 'gyrZ', 'gyrZ_std', 'heartR',\n",
       "       'heartR_std', 'AirTemperature', 'AT_std', 'PlethysmogramGreen',\n",
       "       'ple_std', 'mood', 'tense', 'tired', 'rumination', 'socialize',\n",
       "       'socialize_val', 'work_time'],\n",
       "      dtype='object')"
      ]
     },
     "execution_count": 59,
     "metadata": {},
     "output_type": "execute_result"
    }
   ],
   "source": [
    "X_train_st.columns"
   ]
  },
  {
   "cell_type": "code",
   "execution_count": 30,
   "metadata": {},
   "outputs": [],
   "source": [
    "time_st = train_set_st[['time']].values.ravel()\n",
    "time_st_test = test_set_st[['time']].values.ravel()"
   ]
  },
  {
   "cell_type": "code",
   "execution_count": 31,
   "metadata": {},
   "outputs": [],
   "source": [
    "# Scaling the Train and Test feature set \n",
    "from sklearn.preprocessing import StandardScaler\n",
    "scaler_st = StandardScaler()\n",
    "X_train_st_scaled = scaler_st.fit_transform(X_train_st)\n",
    "X_test_st_scaled = scaler_st.transform(X_test_st)"
   ]
  },
  {
   "cell_type": "code",
   "execution_count": 15,
   "metadata": {},
   "outputs": [],
   "source": [
    "parameters = {'epsilon':[0,0.1,0.2,0.5,1],\n",
    "               'tol':[1e-1, 1e-3,1e-5],\n",
    "              'C':[1, 1.5, 10, 50]\n",
    "              }"
   ]
  },
  {
   "cell_type": "code",
   "execution_count": 16,
   "metadata": {},
   "outputs": [
    {
     "data": {
      "text/plain": [
       "GridSearchCV(cv=3, error_score='raise-deprecating',\n",
       "       estimator=LinearSVR(C=1.0, dual=True, epsilon=0.0, fit_intercept=True,\n",
       "     intercept_scaling=1.0, loss='epsilon_insensitive', max_iter=1000,\n",
       "     random_state=42, tol=0.0001, verbose=0),\n",
       "       fit_params=None, iid='warn', n_jobs=-1,\n",
       "       param_grid={'epsilon': [0, 0.1, 0.2, 0.5, 1], 'tol': [0.1, 0.001, 1e-05], 'C': [1, 1.5, 10, 50]},\n",
       "       pre_dispatch='2*n_jobs', refit=True, return_train_score='warn',\n",
       "       scoring='neg_mean_absolute_error', verbose=0)"
      ]
     },
     "execution_count": 16,
     "metadata": {},
     "output_type": "execute_result"
    }
   ],
   "source": [
    "from sklearn.model_selection import GridSearchCV\n",
    "from sklearn.svm import LinearSVR\n",
    "\n",
    "svr = LinearSVR(random_state=42)\n",
    "regressor_st = GridSearchCV(svr, parameters, n_jobs=-1, cv=3, scoring='neg_mean_absolute_error')\n",
    "regressor_st"
   ]
  },
  {
   "cell_type": "code",
   "execution_count": 17,
   "metadata": {},
   "outputs": [
    {
     "data": {
      "text/plain": [
       "GridSearchCV(cv=3, error_score='raise-deprecating',\n",
       "       estimator=LinearSVR(C=1.0, dual=True, epsilon=0.0, fit_intercept=True,\n",
       "     intercept_scaling=1.0, loss='epsilon_insensitive', max_iter=1000,\n",
       "     random_state=42, tol=0.0001, verbose=0),\n",
       "       fit_params=None, iid='warn', n_jobs=-1,\n",
       "       param_grid={'epsilon': [0, 0.1, 0.2, 0.5, 1], 'tol': [0.1, 0.001, 1e-05], 'C': [1, 1.5, 10, 50]},\n",
       "       pre_dispatch='2*n_jobs', refit=True, return_train_score='warn',\n",
       "       scoring='neg_mean_absolute_error', verbose=0)"
      ]
     },
     "execution_count": 17,
     "metadata": {},
     "output_type": "execute_result"
    }
   ],
   "source": [
    "regressor_st.fit(X_train_st_scaled, y_train_st_1)"
   ]
  },
  {
   "cell_type": "code",
   "execution_count": 18,
   "metadata": {},
   "outputs": [
    {
     "data": {
      "text/plain": [
       "{'C': 1.5, 'epsilon': 0, 'tol': 1e-05}"
      ]
     },
     "execution_count": 18,
     "metadata": {},
     "output_type": "execute_result"
    }
   ],
   "source": [
    "regressor_st.best_params_"
   ]
  },
  {
   "cell_type": "code",
   "execution_count": 19,
   "metadata": {},
   "outputs": [
    {
     "data": {
      "text/plain": [
       "LinearSVR(C=1.5, dual=True, epsilon=0, fit_intercept=True,\n",
       "     intercept_scaling=1.0, loss='epsilon_insensitive', max_iter=1000,\n",
       "     random_state=42, tol=1e-05, verbose=0)"
      ]
     },
     "execution_count": 19,
     "metadata": {},
     "output_type": "execute_result"
    }
   ],
   "source": [
    "regressor_st.best_estimator_"
   ]
  },
  {
   "cell_type": "code",
   "execution_count": 20,
   "metadata": {},
   "outputs": [
    {
     "data": {
      "text/plain": [
       "0.37760241234684244"
      ]
     },
     "execution_count": 20,
     "metadata": {},
     "output_type": "execute_result"
    }
   ],
   "source": [
    "from sklearn.metrics import mean_absolute_error\n",
    "\n",
    "pred_test_st = regressor_st.predict(X_test_st_scaled)\n",
    "svr_mae = mean_absolute_error(y_test_st_1,pred_test_st)\n",
    "svr_mae"
   ]
  },
  {
   "cell_type": "code",
   "execution_count": 21,
   "metadata": {},
   "outputs": [
    {
     "data": {
      "text/plain": [
       "0.38045285642007226"
      ]
     },
     "execution_count": 21,
     "metadata": {},
     "output_type": "execute_result"
    }
   ],
   "source": [
    "pred_train_st = regressor_st.predict(X_train_st_scaled)\n",
    "svr_mae = mean_absolute_error(y_train_st_1, pred_train_st)\n",
    "svr_mae"
   ]
  },
  {
   "cell_type": "code",
   "execution_count": 22,
   "metadata": {},
   "outputs": [],
   "source": [
    "model = regressor_st.best_estimator_"
   ]
  },
  {
   "cell_type": "code",
   "execution_count": 23,
   "metadata": {},
   "outputs": [
    {
     "data": {
      "text/plain": [
       "array([ 3.77731745e-13, -1.04378697e-13,  2.85007277e-13, -2.49827843e-13,\n",
       "        2.58453185e-13, -2.49827843e-13,  1.08335345e-13, -8.35138781e-13,\n",
       "        1.11275392e-12, -3.93297839e-13, -6.43477953e-13,  1.31424832e-13,\n",
       "       -8.55644063e-13, -4.26737409e-13,  9.68399346e-13,  2.12730461e-13,\n",
       "        1.90881273e-13,  9.11035388e-13, -1.98518013e-01, -3.19088244e-01,\n",
       "        8.95209697e-14, -3.97649929e-12, -2.11579200e-13,  4.50349364e-13,\n",
       "       -4.07593240e-13])"
      ]
     },
     "execution_count": 23,
     "metadata": {},
     "output_type": "execute_result"
    }
   ],
   "source": [
    "model.coef_"
   ]
  },
  {
   "cell_type": "code",
   "execution_count": 137,
   "metadata": {},
   "outputs": [
    {
     "ename": "SyntaxError",
     "evalue": "unexpected EOF while parsing (<ipython-input-137-4f5e15d2ba2b>, line 3)",
     "output_type": "error",
     "traceback": [
      "\u001b[0;36m  File \u001b[0;32m\"<ipython-input-137-4f5e15d2ba2b>\"\u001b[0;36m, line \u001b[0;32m3\u001b[0m\n\u001b[0;31m    #     print(mean_score, params)\u001b[0m\n\u001b[0m                                   ^\u001b[0m\n\u001b[0;31mSyntaxError\u001b[0m\u001b[0;31m:\u001b[0m unexpected EOF while parsing\n"
     ]
    }
   ],
   "source": [
    "cvrs = regressor_st.cv_results_\n",
    "for mean_score, params in zip(cvrs['mean_train_score'], cvrs['params']):\n",
    "#     print(mean_score, params)"
   ]
  },
  {
   "cell_type": "code",
   "execution_count": null,
   "metadata": {},
   "outputs": [],
   "source": []
  },
  {
   "cell_type": "code",
   "execution_count": 32,
   "metadata": {},
   "outputs": [
    {
     "data": {
      "text/plain": [
       "LinearSVR(C=1.5, dual=True, epsilon=0, fit_intercept=True,\n",
       "     intercept_scaling=1.0, loss='epsilon_insensitive', max_iter=1000,\n",
       "     random_state=42, tol=1e-05, verbose=0)"
      ]
     },
     "execution_count": 32,
     "metadata": {},
     "output_type": "execute_result"
    }
   ],
   "source": [
    "svr = LinearSVR(random_state=42, tol=1e-05, epsilon=0, C=1.5)\n",
    "svr.fit(X_train_st_scaled, y_train_st_1)"
   ]
  },
  {
   "cell_type": "code",
   "execution_count": 33,
   "metadata": {},
   "outputs": [
    {
     "data": {
      "text/plain": [
       "0.38101883040042517"
      ]
     },
     "execution_count": 33,
     "metadata": {},
     "output_type": "execute_result"
    }
   ],
   "source": [
    "pred_test_st = svr.predict(X_test_st_scaled)\n",
    "svr_mae = mean_absolute_error(y_test_st_1,pred_test_st)\n",
    "svr_mae"
   ]
  },
  {
   "cell_type": "code",
   "execution_count": 34,
   "metadata": {},
   "outputs": [
    {
     "data": {
      "text/plain": [
       "0.3795385890363575"
      ]
     },
     "execution_count": 34,
     "metadata": {},
     "output_type": "execute_result"
    }
   ],
   "source": [
    "pred_train_st = svr.predict(X_train_st_scaled)\n",
    "svr_mae = mean_absolute_error(y_train_st_1, pred_train_st)\n",
    "svr_mae"
   ]
  },
  {
   "cell_type": "code",
   "execution_count": 58,
   "metadata": {},
   "outputs": [
    {
     "data": {
      "text/plain": [
       "array([-6.89776777e-13,  3.14714610e-14,  4.75998931e-13,  3.64430797e-13,\n",
       "       -1.25880691e-12,  3.64430797e-13, -7.26948350e-14, -1.63405088e-12,\n",
       "       -3.76762207e-13,  9.60063866e-13,  3.50415682e-13, -1.68044793e-12,\n",
       "       -3.61261209e-13,  8.30627039e-13, -1.16296095e-13, -1.99125791e-13,\n",
       "        7.60005246e-13,  4.20771071e-14, -1.99407465e-01, -3.22545438e-01,\n",
       "        5.24381867e-13, -2.33003723e-12, -1.43191489e-12, -1.32084477e-14,\n",
       "        1.13575857e-12])"
      ]
     },
     "execution_count": 58,
     "metadata": {},
     "output_type": "execute_result"
    }
   ],
   "source": [
    "svr.coef_"
   ]
  },
  {
   "cell_type": "code",
   "execution_count": 35,
   "metadata": {},
   "outputs": [],
   "source": [
    "temp = p.columns[1:-2]"
   ]
  },
  {
   "cell_type": "code",
   "execution_count": 36,
   "metadata": {},
   "outputs": [
    {
     "name": "stdout",
     "output_type": "stream",
     "text": [
      "-6.897767770174311e-13 accX\n",
      "3.1471460970424304e-14 accX_std\n",
      "4.759989312541116e-13 accY\n",
      "3.64430797198493e-13 accY_std\n",
      "-1.258806909422328e-12 accZ\n",
      "3.64430797198493e-13 accZ_std\n",
      "-7.269483502883457e-14 gyrX\n",
      "-1.6340508805421695e-12 gyrX_std\n",
      "-3.7676220667593164e-13 gyrY\n",
      "9.600638656692632e-13 gyrY_std\n",
      "3.504156815848403e-13 gyrZ\n",
      "-1.680447928550233e-12 gyrZ_std\n",
      "-3.6126120936725625e-13 heartR\n",
      "8.306270386826783e-13 heartR_std\n",
      "-1.1629609545424287e-13 AirTemperature\n",
      "-1.9912579131673784e-13 AT_std\n",
      "7.600052455330937e-13 PlethysmogramGreen\n",
      "4.207710708893038e-14 ple_std\n",
      "-0.19940746505393997 mood\n",
      "-0.32254543839279043 tense\n",
      "5.243818671154742e-13 tired\n",
      "-2.330037229618552e-12 rumination\n",
      "-1.431914885039784e-12 socialize\n",
      "-1.3208447681123972e-14 socialize_val\n",
      "1.1357585680951989e-12 work_time\n"
     ]
    }
   ],
   "source": [
    "coef = svr.coef_\n",
    "for c, col in zip(coef, temp):\n",
    "    print(c, col)"
   ]
  },
  {
   "cell_type": "code",
   "execution_count": null,
   "metadata": {},
   "outputs": [],
   "source": []
  },
  {
   "cell_type": "code",
   "execution_count": null,
   "metadata": {},
   "outputs": [],
   "source": []
  },
  {
   "cell_type": "code",
   "execution_count": 37,
   "metadata": {},
   "outputs": [],
   "source": [
    "patient = train_set_st.copy()"
   ]
  },
  {
   "cell_type": "code",
   "execution_count": 38,
   "metadata": {},
   "outputs": [
    {
     "data": {
      "text/plain": [
       "Index(['time', 'accX', 'accX_std', 'accY', 'accY_std', 'accZ', 'accZ_std',\n",
       "       'gyrX', 'gyrX_std', 'gyrY', 'gyrY_std', 'gyrZ', 'gyrZ_std', 'heartR',\n",
       "       'heartR_std', 'AirTemperature', 'AT_std', 'PlethysmogramGreen',\n",
       "       'ple_std', 'mood', 'tense', 'tired', 'rumination', 'socialize',\n",
       "       'socialize_val', 'work_time', 'day_sleep', 'phq_1', 'phq_2'],\n",
       "      dtype='object')"
      ]
     },
     "execution_count": 38,
     "metadata": {},
     "output_type": "execute_result"
    }
   ],
   "source": [
    "patient.columns"
   ]
  },
  {
   "cell_type": "code",
   "execution_count": 40,
   "metadata": {},
   "outputs": [
    {
     "data": {
      "text/plain": [
       "<matplotlib.axes._subplots.AxesSubplot at 0x134a056a0>"
      ]
     },
     "execution_count": 40,
     "metadata": {},
     "output_type": "execute_result"
    },
    {
     "data": {
      "image/png": "[encoded data removed]",
      "text/plain": [
       "<Figure size 720x504 with 1 Axes>"
      ]
     },
     "metadata": {
      "needs_background": "light"
     },
     "output_type": "display_data"
    }
   ],
   "source": [
    "patient.plot(kind='scatter', x='phq_1', y='mood', figsize=(10,7))"
   ]
  },
  {
   "cell_type": "code",
   "execution_count": 47,
   "metadata": {},
   "outputs": [
    {
     "data": {
      "text/plain": [
       "<matplotlib.axes._subplots.AxesSubplot at 0x1359d9fd0>"
      ]
     },
     "execution_count": 47,
     "metadata": {},
     "output_type": "execute_result"
    },
    {
     "data": {
      "image/png": "[encoded data removed]",
      "text/plain": [
       "<Figure size 720x504 with 2 Axes>"
      ]
     },
     "metadata": {
      "needs_background": "light"
     },
     "output_type": "display_data"
    }
   ],
   "source": [
    "from matplotlib import pyplot\n",
    "\n",
    "patient.plot(kind='scatter', x='rumination', y='mood', s=patient['phq_1'], label='depression degree', \n",
    "             c='phq_1', cmap=pyplot.get_cmap('jet'), colorbar=True, figsize=(10,7), sharex=False)"
   ]
  },
  {
   "cell_type": "code",
   "execution_count": 1,
   "metadata": {},
   "outputs": [
    {
     "ename": "NameError",
     "evalue": "name 'patient' is not defined",
     "output_type": "error",
     "traceback": [
      "\u001b[0;31m---------------------------------------------------------------------------\u001b[0m",
      "\u001b[0;31mNameError\u001b[0m                                 Traceback (most recent call last)",
      "\u001b[0;32m<ipython-input-1-cb8ddd90aad9>\u001b[0m in \u001b[0;36m<module>\u001b[0;34m\u001b[0m\n\u001b[0;32m----> 1\u001b[0;31m patient.plot(kind='scatter', x='mood', y='tense', s=patient['phq_1'], label='depression degree', \n\u001b[0m\u001b[1;32m      2\u001b[0m              c='phq_1', cmap=pyplot.get_cmap('jet'), colorbar=True, figsize=(10,7), sharex=False)\n",
      "\u001b[0;31mNameError\u001b[0m: name 'patient' is not defined"
     ]
    }
   ],
   "source": [
    "patient.plot(kind='scatter', x='mood', y='tense', s=patient['phq_1'], label='depression degree', \n",
    "             c='phq_1', cmap=pyplot.get_cmap('jet'), colorbar=True, figsize=(10,7), sharex=False)"
   ]
  },
  {
   "cell_type": "code",
   "execution_count": 42,
   "metadata": {},
   "outputs": [],
   "source": [
    "corr_matrix = patient.corr()"
   ]
  },
  {
   "cell_type": "code",
   "execution_count": 43,
   "metadata": {},
   "outputs": [
    {
     "data": {
      "text/plain": [
       "phq_1                 1.000000\n",
       "phq_2                 0.817956\n",
       "day_sleep             0.485926\n",
       "rumination            0.320948\n",
       "ple_std               0.033815\n",
       "heartR                0.028215\n",
       "accY                  0.024016\n",
       "accX                  0.013576\n",
       "accZ                  0.011121\n",
       "tired                 0.007712\n",
       "gyrZ                 -0.000519\n",
       "gyrY                 -0.002304\n",
       "gyrX                 -0.012411\n",
       "heartR_std           -0.013235\n",
       "AT_std               -0.017121\n",
       "PlethysmogramGreen   -0.038647\n",
       "gyrZ_std             -0.039823\n",
       "gyrY_std             -0.051236\n",
       "accZ_std             -0.051398\n",
       "accY_std             -0.051398\n",
       "accX_std             -0.056919\n",
       "gyrX_std             -0.066429\n",
       "AirTemperature       -0.088989\n",
       "time                 -0.152428\n",
       "work_time            -0.214736\n",
       "socialize            -0.230553\n",
       "socialize_val        -0.382035\n",
       "tense                -0.434791\n",
       "mood                 -0.444494\n",
       "Name: phq_1, dtype: float64"
      ]
     },
     "execution_count": 43,
     "metadata": {},
     "output_type": "execute_result"
    }
   ],
   "source": [
    "corr_matrix['phq_1'].sort_values(ascending=False)"
   ]
  },
  {
   "cell_type": "code",
   "execution_count": null,
   "metadata": {},
   "outputs": [],
   "source": []
  },
  {
   "cell_type": "code",
   "execution_count": null,
   "metadata": {},
   "outputs": [],
   "source": []
  },
  {
   "cell_type": "code",
   "execution_count": 49,
   "metadata": {},
   "outputs": [],
   "source": [
    "socialise_scaled = scaler_st.fit_transform(test_set_st[['socialize']])\n",
    "socialize_val_scaled = scaler_st.fit_transform(test_set_st[['socialize_val']])\n",
    "work_time_scaled = scaler_st.fit_transform(test_set_st[['work_time']])\n",
    "mood_scaled = scaler_st.fit_transform(test_set_st[['mood']])\n",
    "tense_scaled = scaler_st.fit_transform(test_set_st[['tense']])\n",
    "rumination_scaled = scaler_st.fit_transform(test_set_st[['rumination']])"
   ]
  },
  {
   "cell_type": "code",
   "execution_count": 50,
   "metadata": {},
   "outputs": [],
   "source": [
    "time_sorted = time_st_test\n",
    "time_sorted.sort()"
   ]
  },
  {
   "cell_type": "code",
   "execution_count": 54,
   "metadata": {},
   "outputs": [
    {
     "data": {
      "text/plain": [
       "<matplotlib.legend.Legend at 0x122c09898>"
      ]
     },
     "execution_count": 54,
     "metadata": {},
     "output_type": "execute_result"
    },
    {
     "data": {
      "image/png": "[encoded data removed]",
      "text/plain": [
       "<Figure size 1620x450 with 1 Axes>"
      ]
     },
     "metadata": {},
     "output_type": "display_data"
    }
   ],
   "source": [
    "%matplotlib inline\n",
    "s = 1100\n",
    "e = 1200\n",
    "xaxis = time_sorted[s:e]\n",
    "yaxis = y_test_st_1[s:e]\n",
    "yaxis2 = pred_test_st[s:e]\n",
    "yaxis3 = socialise_scaled[s:e]\n",
    "yaxis4 = socialize_val_scaled[s:e]\n",
    "yaxis5 = work_time_scaled[s:e]\n",
    "yaxis6 = mood_scaled[s:e]\n",
    "yaxis7 = tense_scaled[s:e]\n",
    "yaxis8 = rumination_scaled[s:e]\n",
    "# avg = p[['phq_1', 'phq_2']].mean(axis=1)\n",
    "fig=pyplot.figure(figsize=(18, 5), dpi= 90, facecolor='w', edgecolor='k')\n",
    "pyplot.plot(xaxis, yaxis, color='red', label='phq_1')\n",
    "# pyplot.plot(xaxis, yaxis2, color='blue', label='prediction')\n",
    "# pyplot.plot(xaxis, yaxis3, color='green', label='socialize')\n",
    "# pyplot.plot(xaxis, yaxis4, color='cyan', label='socialize_val')\n",
    "# pyplot.plot(xaxis, yaxis5, color='magenta', label='sport_time')\n",
    "pyplot.plot(xaxis, yaxis6, color='black', label='mood')\n",
    "# pyplot.plot(xaxis, yaxis7, color='blue', label='tense')\n",
    "# pyplot.plot(xaxis, yaxis8, color='blue', label='rumination')\n",
    "# plt.ylabel('some numbers')\n",
    "pyplot.xlabel('time')\n",
    "\n",
    "pyplot.legend()\n",
    "# pyplot.plot(xaxis, avg, color='green', label='avg')"
   ]
  },
  {
   "cell_type": "code",
   "execution_count": 57,
   "metadata": {},
   "outputs": [
    {
     "data": {
      "text/plain": [
       "<matplotlib.legend.Legend at 0x124952a90>"
      ]
     },
     "execution_count": 57,
     "metadata": {},
     "output_type": "execute_result"
    },
    {
     "data": {
      "image/png": "[encoded data removed]",
      "text/plain": [
       "<Figure size 1620x450 with 1 Axes>"
      ]
     },
     "metadata": {},
     "output_type": "display_data"
    }
   ],
   "source": [
    "from matplotlib import pyplot\n",
    "%matplotlib inline\n",
    "xaxis = time_st_test[:500]\n",
    "yaxis = y_test_st_1[:500]\n",
    "yaxis2 = pred_test_st[:500]\n",
    "# avg = p[['phq_1', 'phq_2']].mean(axis=1)\n",
    "fig=pyplot.figure(figsize=(18, 5), dpi= 90, facecolor='w', edgecolor='k')\n",
    "pyplot.plot(xaxis, yaxis, color='red', label='phq_1')\n",
    "pyplot.plot(xaxis, yaxis2, color='blue', label='prediction')\n",
    "pyplot.legend()\n",
    "# pyplot.plot(xaxis, avg, color='green', label='avg')"
   ]
  },
  {
   "cell_type": "code",
   "execution_count": null,
   "metadata": {},
   "outputs": [],
   "source": []
  }
 ],
 "metadata": {
  "kernelspec": {
   "display_name": "Python 3",
   "language": "python",
   "name": "python3"
  },
  "language_info": {
   "codemirror_mode": {
    "name": "ipython",
    "version": 3
   },
   "file_extension": ".py",
   "mimetype": "text/x-python",
   "name": "python",
   "nbconvert_exporter": "python",
   "pygments_lexer": "ipython3",
   "version": "3.7.3"
  }
 },
 "nbformat": 4,
 "nbformat_minor": 2
}
